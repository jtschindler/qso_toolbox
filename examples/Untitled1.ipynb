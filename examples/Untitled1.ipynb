{
 "cells": [
  {
   "cell_type": "code",
   "execution_count": 1,
   "metadata": {},
   "outputs": [],
   "source": [
    "import numpy as np\n",
    "from pyvo.dal import sia"
   ]
  },
  {
   "cell_type": "code",
   "execution_count": 2,
   "metadata": {},
   "outputs": [],
   "source": [
    "def_access_url = \"https://datalab.noao.edu/sia/des_dr2\"\n",
    "svc = sia.SIAService(def_access_url)"
   ]
  },
  {
   "cell_type": "code",
   "execution_count": 3,
   "metadata": {},
   "outputs": [
    {
     "name": "stdout",
     "output_type": "stream",
     "text": [
      "dr2\n"
     ]
    }
   ],
   "source": [
    "st ='desdr2'\n",
    "print(st[-3:])"
   ]
  },
  {
   "cell_type": "code",
   "execution_count": 4,
   "metadata": {},
   "outputs": [],
   "source": [
    "ra = 30\n",
    "dec = -45\n",
    "fov = 200\n",
    "\n",
    "siaresults = svc.search((ra, dec),\n",
    "                                (fov / np.cos(dec * np.pi / 180), fov))"
   ]
  },
  {
   "cell_type": "code",
   "execution_count": 5,
   "metadata": {},
   "outputs": [
    {
     "name": "stdout",
     "output_type": "stream",
     "text": [
      "prodtype\n",
      "--------\n",
      "   image\n",
      "   image\n",
      "   image\n",
      "   image\n",
      "   image\n",
      "   image\n",
      "   image\n",
      "   image\n",
      "   image\n",
      "   image\n",
      "     ...\n",
      "   image\n",
      "   image\n",
      "   image\n",
      "   image\n",
      "   image\n",
      "   image\n",
      "   image\n",
      "   image\n",
      "   image\n",
      "   image\n",
      "   image\n",
      "Length = 33 rows\n"
     ]
    }
   ],
   "source": [
    "print(siaresults.to_table()['prodtype'])"
   ]
  },
  {
   "cell_type": "code",
   "execution_count": null,
   "metadata": {},
   "outputs": [],
   "source": []
  }
 ],
 "metadata": {
  "kernelspec": {
   "display_name": "Python 3",
   "language": "python",
   "name": "python3"
  },
  "language_info": {
   "codemirror_mode": {
    "name": "ipython",
    "version": 3
   },
   "file_extension": ".py",
   "mimetype": "text/x-python",
   "name": "python",
   "nbconvert_exporter": "python",
   "pygments_lexer": "ipython3",
   "version": "3.7.4"
  }
 },
 "nbformat": 4,
 "nbformat_minor": 4
}
