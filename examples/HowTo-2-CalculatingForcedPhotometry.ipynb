{
 "cells": [
  {
   "cell_type": "markdown",
   "metadata": {},
   "source": [
    "# HowTo-2-CalculatingForcedPhotometry"
   ]
  },
  {
   "cell_type": "code",
   "execution_count": 1,
   "metadata": {},
   "outputs": [
    {
     "name": "stdout",
     "output_type": "stream",
     "text": [
      "loading dl.conf\n"
     ]
    }
   ],
   "source": [
    "from qso_toolbox import catalog_tools as ct, image_tools as it, photometry_tools as pt, utils as ut"
   ]
  },
  {
   "cell_type": "markdown",
   "metadata": {},
   "source": [
    "# 0) Loading the test file\n",
    "\n",
    "### We begin again my loading our Stripe 82 milliquas test file into memory."
   ]
  },
  {
   "cell_type": "code",
   "execution_count": 2,
   "metadata": {},
   "outputs": [],
   "source": [
    "import pandas as pd \n",
    "from astropy.io import fits \n",
    "from astropy.table import Table\n",
    "\n",
    "df_hdf = pd.read_hdf('./data/stripe82_milliquas_190210.hdf5',key='data')\n",
    "\n",
    "# We use the first 100 entries of the test set we used for HowTo-1-DownloadingImageCutouts\n",
    "test_set = df_hdf.query('340 < mq_ra < 350 and -1.26 < mq_dec < 0')[:200]"
   ]
  },
  {
   "cell_type": "markdown",
   "metadata": {},
   "source": [
    "# 1) Calculating forced photometry\n",
    "\n",
    "### There is a lot that goes into the calculation of the forced photometry and it is hidden in a range of routines in image_tools.py. \n",
    "\n",
    "## The main routine to calculate forced photometry is:\n",
    "\n",
    "def get_forced_photometry(table, ra_col_name, dec_col_name, surveys,\n",
    "                          bands, apertures, fovs, image_folder_path,\n",
    "                          auto_download=True,\n",
    "                          verbosity=0):\n",
    "    \"\"\"Calculate forced photometry for all objects in the table Data Frame.\n",
    "\n",
    "    In the current version of this routine forced photometry calculations for\n",
    "    the following surveys and bands is available:\n",
    "    survey: 'desdr1'\n",
    "        bands: 'grizy'\n",
    "    survey: \"unwise-allwise, unwise-neo1, unwise-neo2, \"unwise-neo3\"\n",
    "        bands: 'w1w2w3s4\n",
    "\n",
    "    This function takes a table object (astropy table, astropy fitstable or\n",
    "    DataFrame) with specified Ra and Dec. It eiher looks for the image\n",
    "    cutouts associated with each survey/band/fov entry or automatically\n",
    "    downloads them, if specified. If the image cutouts are found forced\n",
    "    photometry is calculated within the specified aperture.\n",
    "\n",
    "    For each survey/band the following columns are added to the input table:\n",
    "    forced_[survey]_mag_[band]\n",
    "        Forced photometry magnitude for the object in the given survey/band.\n",
    "        The magnitudes are all in the AB system\n",
    "    forced_[survey]_flux_[band]\n",
    "        Forced photometry flux for the object in the given survey/band\n",
    "    forced_[survey]_sn_[band]\n",
    "        Forced photometry S/N for the object in the given survey/band\n",
    "    forced_[survey]_magerr_[band]\n",
    "        Forced photometry magnitude error for the object in the given\n",
    "        survey/band\n",
    "    forced_[survey]_comment_[band]\n",
    "        A comment with regard to the forced photometry calculation for each\n",
    "        object in the given survey/band.\n",
    "        If the forced photometry calculation is successful the comment will\n",
    "        give the used apertures: 'ap_[aperture in arcseconds]'\n",
    "        If the forced photometry calculation is unsuccessfull the comment will\n",
    "        reflect the problem:\n",
    "        'image_too_small': cutout image is too small to calculate the forced\n",
    "         photometry (minimum pixel size 50)\n",
    "        'image_not_available': cutout image could not be found and/or downloaded\n",
    "        'crashed': bad things happened! (Check try-except clause in\n",
    "        calculate_forced_aperture_photometry)\n",
    "\n",
    "    Lists of equal length need to be supplied to surveys, bands, apertures and\n",
    "    fovs.\n",
    "\n",
    "    :param table: table object\n",
    "        Input data table with at least RA and Decl. columns\n",
    "    :param ra_col_name: string\n",
    "        Exact string for the RA column in the table\n",
    "    :param dec_col_name: string\n",
    "        Exact string for the Decl. column in the table\n",
    "    :param surveys: list of strings\n",
    "        List of survey names, length has to be equal to bands, apertures and\n",
    "        fovs\n",
    "    :param bands: list of strings\n",
    "        List of band names, length has to be equal to surveys, apertures and\n",
    "        fovs\n",
    "    :param apertures: list of floats\n",
    "        List of apertures in arcseconds for forced photometry calculated,\n",
    "        length has to be equal to surveys, bands and fovs\n",
    "    :param fovs: list of floats\n",
    "        Field of view in arcseconds of image cutouts, length has be equal to\n",
    "        surveys,\n",
    "        bands and apertures\n",
    "    :param image_folder_path: string\n",
    "        Path to the directory where all the images will be stored\n",
    "    :param auto_download: Boolean\n",
    "        Switch to enable/disable auto-downloading the cutouts images\n",
    "    :param verbosity:\n",
    "        Verbosity > 0 will print verbose statements during the execution\n",
    "    :return: DataFrame\n",
    "        Returns a DataFrame with the added columns for the forced photometry\n",
    "        calculation.\n",
    "    \"\"\"\n",
    "\n",
    "### We start by calculating the forced photometry for DES and unWISE. We turn auto_download to True in order to make sure that we have the cutouts on file. If the files already exist in the specified image_path_folder then they will not be downloaded again."
   ]
  },
  {
   "cell_type": "code",
   "execution_count": 3,
   "metadata": {},
   "outputs": [
    {
     "name": "stderr",
     "output_type": "stream",
     "text": [
      "/Users/schindler/anaconda3/lib/python3.6/site-packages/qso_toolbox/image_tools.py:900: SettingWithCopyWarning: \n",
      "A value is trying to be set on a copy of a slice from a DataFrame.\n",
      "Try using .loc[row_indexer,col_indexer] = value instead\n",
      "\n",
      "See the caveats in the documentation: http://pandas.pydata.org/pandas-docs/stable/indexing.html#indexing-view-versus-copy\n",
      "  epoch=\"J\")\n"
     ]
    },
    {
     "name": "stdout",
     "output_type": "stream",
     "text": [
      "Opened ./cutouts/J224007.14-005332.81_desdr1_z_fov300.fits with a fov of 300 arcseconds\n",
      "flux:  926737.944563672 sn:  1140.9081117877436\n",
      "mag:  15.082607636913457\n"
     ]
    },
    {
     "name": "stderr",
     "output_type": "stream",
     "text": [
      "/Users/schindler/anaconda3/lib/python3.6/site-packages/pandas/core/indexing.py:362: SettingWithCopyWarning: \n",
      "A value is trying to be set on a copy of a slice from a DataFrame.\n",
      "Try using .loc[row_indexer,col_indexer] = value instead\n",
      "\n",
      "See the caveats in the documentation: http://pandas.pydata.org/pandas-docs/stable/indexing.html#indexing-view-versus-copy\n",
      "  self.obj[key] = _infer_fill_value(value)\n",
      "/Users/schindler/anaconda3/lib/python3.6/site-packages/pandas/core/indexing.py:543: SettingWithCopyWarning: \n",
      "A value is trying to be set on a copy of a slice from a DataFrame.\n",
      "Try using .loc[row_indexer,col_indexer] = value instead\n",
      "\n",
      "See the caveats in the documentation: http://pandas.pydata.org/pandas-docs/stable/indexing.html#indexing-view-versus-copy\n",
      "  self.obj[item] = s\n"
     ]
    },
    {
     "name": "stdout",
     "output_type": "stream",
     "text": [
      "Opened ./cutouts/J224007.90-011522.10_desdr1_z_fov300.fits with a fov of 300 arcseconds\n",
      "flux:  11399.831090738899 sn:  22.93014381730337\n",
      "mag:  19.857753958699057\n",
      "Opened ./cutouts/J224009.37-003856.60_desdr1_z_fov300.fits with a fov of 300 arcseconds\n"
     ]
    },
    {
     "name": "stderr",
     "output_type": "stream",
     "text": [
      "/Users/schindler/anaconda3/lib/python3.6/site-packages/pandas/core/indexing.py:543: SettingWithCopyWarning: \n",
      "A value is trying to be set on a copy of a slice from a DataFrame.\n",
      "Try using .loc[row_indexer,col_indexer] = value instead\n",
      "\n",
      "See the caveats in the documentation: http://pandas.pydata.org/pandas-docs/stable/indexing.html#indexing-view-versus-copy\n",
      "  self.obj[item] = s\n"
     ]
    },
    {
     "name": "stdout",
     "output_type": "stream",
     "text": [
      "flux:  5569.2212343982665 sn:  8.44178102301304\n",
      "mag:  20.635513824116522\n",
      "Opened ./cutouts/J224011.47-011448.62_desdr1_z_fov300.fits with a fov of 300 arcseconds\n"
     ]
    },
    {
     "name": "stderr",
     "output_type": "stream",
     "text": [
      "/Users/schindler/anaconda3/lib/python3.6/site-packages/pandas/core/indexing.py:543: SettingWithCopyWarning: \n",
      "A value is trying to be set on a copy of a slice from a DataFrame.\n",
      "Try using .loc[row_indexer,col_indexer] = value instead\n",
      "\n",
      "See the caveats in the documentation: http://pandas.pydata.org/pandas-docs/stable/indexing.html#indexing-view-versus-copy\n",
      "  self.obj[item] = s\n"
     ]
    },
    {
     "name": "stdout",
     "output_type": "stream",
     "text": [
      "flux:  22069.803603654025 sn:  39.126901882471444\n",
      "mag:  19.140503828879826\n",
      "Opened ./cutouts/J224013.39-005404.40_desdr1_z_fov300.fits with a fov of 300 arcseconds\n"
     ]
    },
    {
     "name": "stderr",
     "output_type": "stream",
     "text": [
      "/Users/schindler/anaconda3/lib/python3.6/site-packages/pandas/core/indexing.py:543: SettingWithCopyWarning: \n",
      "A value is trying to be set on a copy of a slice from a DataFrame.\n",
      "Try using .loc[row_indexer,col_indexer] = value instead\n",
      "\n",
      "See the caveats in the documentation: http://pandas.pydata.org/pandas-docs/stable/indexing.html#indexing-view-versus-copy\n",
      "  self.obj[item] = s\n"
     ]
    },
    {
     "name": "stdout",
     "output_type": "stream",
     "text": [
      "flux:  143382.44751976777 sn:  173.27385397752408\n",
      "mag:  17.10876002634069\n",
      "Opened ./cutouts/J224014.28-001121.15_desdr1_z_fov300.fits with a fov of 300 arcseconds\n"
     ]
    },
    {
     "name": "stderr",
     "output_type": "stream",
     "text": [
      "/Users/schindler/anaconda3/lib/python3.6/site-packages/pandas/core/indexing.py:543: SettingWithCopyWarning: \n",
      "A value is trying to be set on a copy of a slice from a DataFrame.\n",
      "Try using .loc[row_indexer,col_indexer] = value instead\n",
      "\n",
      "See the caveats in the documentation: http://pandas.pydata.org/pandas-docs/stable/indexing.html#indexing-view-versus-copy\n",
      "  self.obj[item] = s\n"
     ]
    },
    {
     "name": "stdout",
     "output_type": "stream",
     "text": [
      "flux:  24173.011868962156 sn:  31.837868779981484\n",
      "mag:  19.041673086788208\n",
      "Opened ./cutouts/J224017.29-011442.85_desdr1_z_fov300.fits with a fov of 300 arcseconds\n"
     ]
    },
    {
     "name": "stderr",
     "output_type": "stream",
     "text": [
      "/Users/schindler/anaconda3/lib/python3.6/site-packages/pandas/core/indexing.py:543: SettingWithCopyWarning: \n",
      "A value is trying to be set on a copy of a slice from a DataFrame.\n",
      "Try using .loc[row_indexer,col_indexer] = value instead\n",
      "\n",
      "See the caveats in the documentation: http://pandas.pydata.org/pandas-docs/stable/indexing.html#indexing-view-versus-copy\n",
      "  self.obj[item] = s\n"
     ]
    },
    {
     "name": "stdout",
     "output_type": "stream",
     "text": [
      "flux:  20375.848510103973 sn:  38.82866642421153\n",
      "mag:  19.227210742287987\n",
      "Opened ./cutouts/J224018.29-005223.75_desdr1_z_fov300.fits with a fov of 300 arcseconds\n"
     ]
    },
    {
     "name": "stderr",
     "output_type": "stream",
     "text": [
      "/Users/schindler/anaconda3/lib/python3.6/site-packages/pandas/core/indexing.py:543: SettingWithCopyWarning: \n",
      "A value is trying to be set on a copy of a slice from a DataFrame.\n",
      "Try using .loc[row_indexer,col_indexer] = value instead\n",
      "\n",
      "See the caveats in the documentation: http://pandas.pydata.org/pandas-docs/stable/indexing.html#indexing-view-versus-copy\n",
      "  self.obj[item] = s\n"
     ]
    },
    {
     "name": "stdout",
     "output_type": "stream",
     "text": [
      "flux:  4120.285535922089 sn:  4.960139966415019\n",
      "mag:  20.9626817157555\n",
      "Opened ./cutouts/J224018.58-000656.89_desdr1_z_fov300.fits with a fov of 300 arcseconds\n"
     ]
    },
    {
     "name": "stderr",
     "output_type": "stream",
     "text": [
      "/Users/schindler/anaconda3/lib/python3.6/site-packages/pandas/core/indexing.py:543: SettingWithCopyWarning: \n",
      "A value is trying to be set on a copy of a slice from a DataFrame.\n",
      "Try using .loc[row_indexer,col_indexer] = value instead\n",
      "\n",
      "See the caveats in the documentation: http://pandas.pydata.org/pandas-docs/stable/indexing.html#indexing-view-versus-copy\n",
      "  self.obj[item] = s\n"
     ]
    },
    {
     "name": "stdout",
     "output_type": "stream",
     "text": [
      "flux:  6626.362411214352 sn:  10.378673654966185\n",
      "mag:  20.446812038066028\n",
      "Opened ./cutouts/J224022.77-000151.97_desdr1_z_fov300.fits with a fov of 300 arcseconds\n"
     ]
    },
    {
     "name": "stderr",
     "output_type": "stream",
     "text": [
      "/Users/schindler/anaconda3/lib/python3.6/site-packages/pandas/core/indexing.py:543: SettingWithCopyWarning: \n",
      "A value is trying to be set on a copy of a slice from a DataFrame.\n",
      "Try using .loc[row_indexer,col_indexer] = value instead\n",
      "\n",
      "See the caveats in the documentation: http://pandas.pydata.org/pandas-docs/stable/indexing.html#indexing-view-versus-copy\n",
      "  self.obj[item] = s\n"
     ]
    },
    {
     "name": "stdout",
     "output_type": "stream",
     "text": [
      "flux:  7433.403106524133 sn:  10.838602994864647\n",
      "mag:  20.322030787933393\n",
      "Opened ./cutouts/J224007.14-005332.81_unwise-neo3_w1_fov400.fits with a fov of 400 arcseconds\n"
     ]
    },
    {
     "name": "stderr",
     "output_type": "stream",
     "text": [
      "/Users/schindler/anaconda3/lib/python3.6/site-packages/pandas/core/indexing.py:543: SettingWithCopyWarning: \n",
      "A value is trying to be set on a copy of a slice from a DataFrame.\n",
      "Try using .loc[row_indexer,col_indexer] = value instead\n",
      "\n",
      "See the caveats in the documentation: http://pandas.pydata.org/pandas-docs/stable/indexing.html#indexing-view-versus-copy\n",
      "  self.obj[item] = s\n"
     ]
    },
    {
     "name": "stdout",
     "output_type": "stream",
     "text": [
      "flux:  9050.998583555716 sn:  257.5876918281527\n",
      "mag:  12.608258757676637\n"
     ]
    },
    {
     "name": "stderr",
     "output_type": "stream",
     "text": [
      "/Users/schindler/anaconda3/lib/python3.6/site-packages/pandas/core/indexing.py:362: SettingWithCopyWarning: \n",
      "A value is trying to be set on a copy of a slice from a DataFrame.\n",
      "Try using .loc[row_indexer,col_indexer] = value instead\n",
      "\n",
      "See the caveats in the documentation: http://pandas.pydata.org/pandas-docs/stable/indexing.html#indexing-view-versus-copy\n",
      "  self.obj[key] = _infer_fill_value(value)\n",
      "/Users/schindler/anaconda3/lib/python3.6/site-packages/pandas/core/indexing.py:543: SettingWithCopyWarning: \n",
      "A value is trying to be set on a copy of a slice from a DataFrame.\n",
      "Try using .loc[row_indexer,col_indexer] = value instead\n",
      "\n",
      "See the caveats in the documentation: http://pandas.pydata.org/pandas-docs/stable/indexing.html#indexing-view-versus-copy\n",
      "  self.obj[item] = s\n"
     ]
    },
    {
     "name": "stdout",
     "output_type": "stream",
     "text": [
      "Opened ./cutouts/J224007.90-011522.10_unwise-neo3_w1_fov400.fits with a fov of 400 arcseconds\n",
      "flux:  243.74422689811794 sn:  9.291293353420114\n",
      "mag:  16.532664154519537\n"
     ]
    },
    {
     "name": "stderr",
     "output_type": "stream",
     "text": [
      "/Users/schindler/anaconda3/lib/python3.6/site-packages/pandas/core/indexing.py:543: SettingWithCopyWarning: \n",
      "A value is trying to be set on a copy of a slice from a DataFrame.\n",
      "Try using .loc[row_indexer,col_indexer] = value instead\n",
      "\n",
      "See the caveats in the documentation: http://pandas.pydata.org/pandas-docs/stable/indexing.html#indexing-view-versus-copy\n",
      "  self.obj[item] = s\n"
     ]
    },
    {
     "name": "stdout",
     "output_type": "stream",
     "text": [
      "Opened ./cutouts/J224009.37-003856.60_unwise-neo3_w1_fov400.fits with a fov of 400 arcseconds\n",
      "flux:  2545.7152097359412 sn:  88.16809039927516\n",
      "mag:  13.985475456692308\n"
     ]
    },
    {
     "name": "stderr",
     "output_type": "stream",
     "text": [
      "/Users/schindler/anaconda3/lib/python3.6/site-packages/pandas/core/indexing.py:543: SettingWithCopyWarning: \n",
      "A value is trying to be set on a copy of a slice from a DataFrame.\n",
      "Try using .loc[row_indexer,col_indexer] = value instead\n",
      "\n",
      "See the caveats in the documentation: http://pandas.pydata.org/pandas-docs/stable/indexing.html#indexing-view-versus-copy\n",
      "  self.obj[item] = s\n"
     ]
    },
    {
     "name": "stdout",
     "output_type": "stream",
     "text": [
      "Opened ./cutouts/J224011.47-011448.62_unwise-neo3_w1_fov400.fits with a fov of 400 arcseconds\n",
      "flux:  333.6107022837959 sn:  10.697153142473852\n",
      "mag:  16.19190006393885\n"
     ]
    },
    {
     "name": "stderr",
     "output_type": "stream",
     "text": [
      "/Users/schindler/anaconda3/lib/python3.6/site-packages/pandas/core/indexing.py:543: SettingWithCopyWarning: \n",
      "A value is trying to be set on a copy of a slice from a DataFrame.\n",
      "Try using .loc[row_indexer,col_indexer] = value instead\n",
      "\n",
      "See the caveats in the documentation: http://pandas.pydata.org/pandas-docs/stable/indexing.html#indexing-view-versus-copy\n",
      "  self.obj[item] = s\n"
     ]
    },
    {
     "name": "stdout",
     "output_type": "stream",
     "text": [
      "Opened ./cutouts/J224013.39-005404.40_unwise-neo3_w1_fov400.fits with a fov of 400 arcseconds\n",
      "flux:  1999.5038459490936 sn:  60.70009936217575\n",
      "mag:  14.247694390462978\n"
     ]
    },
    {
     "name": "stderr",
     "output_type": "stream",
     "text": [
      "/Users/schindler/anaconda3/lib/python3.6/site-packages/pandas/core/indexing.py:543: SettingWithCopyWarning: \n",
      "A value is trying to be set on a copy of a slice from a DataFrame.\n",
      "Try using .loc[row_indexer,col_indexer] = value instead\n",
      "\n",
      "See the caveats in the documentation: http://pandas.pydata.org/pandas-docs/stable/indexing.html#indexing-view-versus-copy\n",
      "  self.obj[item] = s\n"
     ]
    },
    {
     "name": "stdout",
     "output_type": "stream",
     "text": [
      "Opened ./cutouts/J224014.28-001121.15_unwise-neo3_w1_fov400.fits with a fov of 400 arcseconds\n",
      "flux:  733.4057422835456 sn:  21.738366022858788\n",
      "mag:  15.336639235010349\n"
     ]
    },
    {
     "name": "stderr",
     "output_type": "stream",
     "text": [
      "/Users/schindler/anaconda3/lib/python3.6/site-packages/pandas/core/indexing.py:543: SettingWithCopyWarning: \n",
      "A value is trying to be set on a copy of a slice from a DataFrame.\n",
      "Try using .loc[row_indexer,col_indexer] = value instead\n",
      "\n",
      "See the caveats in the documentation: http://pandas.pydata.org/pandas-docs/stable/indexing.html#indexing-view-versus-copy\n",
      "  self.obj[item] = s\n"
     ]
    },
    {
     "name": "stdout",
     "output_type": "stream",
     "text": [
      "Opened ./cutouts/J224017.29-011442.85_unwise-neo3_w1_fov400.fits with a fov of 400 arcseconds\n",
      "flux:  606.4168450720745 sn:  19.44804727090625\n",
      "mag:  15.543071858396141\n"
     ]
    },
    {
     "name": "stderr",
     "output_type": "stream",
     "text": [
      "/Users/schindler/anaconda3/lib/python3.6/site-packages/pandas/core/indexing.py:543: SettingWithCopyWarning: \n",
      "A value is trying to be set on a copy of a slice from a DataFrame.\n",
      "Try using .loc[row_indexer,col_indexer] = value instead\n",
      "\n",
      "See the caveats in the documentation: http://pandas.pydata.org/pandas-docs/stable/indexing.html#indexing-view-versus-copy\n",
      "  self.obj[item] = s\n"
     ]
    },
    {
     "name": "stdout",
     "output_type": "stream",
     "text": [
      "Opened ./cutouts/J224018.29-005223.75_unwise-neo3_w1_fov400.fits with a fov of 400 arcseconds\n",
      "flux:  424.5232174023386 sn:  12.112248736424474\n",
      "mag:  15.930246382431184\n"
     ]
    },
    {
     "name": "stderr",
     "output_type": "stream",
     "text": [
      "/Users/schindler/anaconda3/lib/python3.6/site-packages/pandas/core/indexing.py:543: SettingWithCopyWarning: \n",
      "A value is trying to be set on a copy of a slice from a DataFrame.\n",
      "Try using .loc[row_indexer,col_indexer] = value instead\n",
      "\n",
      "See the caveats in the documentation: http://pandas.pydata.org/pandas-docs/stable/indexing.html#indexing-view-versus-copy\n",
      "  self.obj[item] = s\n"
     ]
    },
    {
     "name": "stdout",
     "output_type": "stream",
     "text": [
      "Opened ./cutouts/J224018.58-000656.89_unwise-neo3_w1_fov400.fits with a fov of 400 arcseconds\n",
      "flux:  275.55143321511366 sn:  4.82318126669498\n",
      "mag:  16.399493314383463\n"
     ]
    },
    {
     "name": "stderr",
     "output_type": "stream",
     "text": [
      "/Users/schindler/anaconda3/lib/python3.6/site-packages/pandas/core/indexing.py:543: SettingWithCopyWarning: \n",
      "A value is trying to be set on a copy of a slice from a DataFrame.\n",
      "Try using .loc[row_indexer,col_indexer] = value instead\n",
      "\n",
      "See the caveats in the documentation: http://pandas.pydata.org/pandas-docs/stable/indexing.html#indexing-view-versus-copy\n",
      "  self.obj[item] = s\n"
     ]
    },
    {
     "name": "stdout",
     "output_type": "stream",
     "text": [
      "Opened ./cutouts/J224022.77-000151.97_unwise-neo3_w1_fov400.fits with a fov of 400 arcseconds\n",
      "flux:  518.6755886374915 sn:  12.363122361274884\n",
      "mag:  15.712760478770198\n"
     ]
    },
    {
     "name": "stderr",
     "output_type": "stream",
     "text": [
      "/Users/schindler/anaconda3/lib/python3.6/site-packages/pandas/core/indexing.py:543: SettingWithCopyWarning: \n",
      "A value is trying to be set on a copy of a slice from a DataFrame.\n",
      "Try using .loc[row_indexer,col_indexer] = value instead\n",
      "\n",
      "See the caveats in the documentation: http://pandas.pydata.org/pandas-docs/stable/indexing.html#indexing-view-versus-copy\n",
      "  self.obj[item] = s\n"
     ]
    }
   ],
   "source": [
    "surveys = ['desdr1','unwise-neo3']\n",
    "bands = ['z','w1']\n",
    "apertures = [6, 10]\n",
    "fovs = [300, 400]\n",
    "\n",
    "forced_photometry = it.get_forced_photometry(test_set[:10], 'mq_ra', 'mq_dec', surveys, bands, apertures, fovs,\n",
    "                         './cutouts/', auto_download=True, verbosity=2)"
   ]
  },
  {
   "cell_type": "markdown",
   "metadata": {},
   "source": [
    "### Let us now take a quick look at the table with the forced photometry information. If you are wondering why some of the forced photometry calculations fail, setting verbosity=2 can be helpful in identifying the problem. "
   ]
  },
  {
   "cell_type": "code",
   "execution_count": 4,
   "metadata": {},
   "outputs": [
    {
     "data": {
      "text/html": [
       "<div>\n",
       "<style scoped>\n",
       "    .dataframe tbody tr th:only-of-type {\n",
       "        vertical-align: middle;\n",
       "    }\n",
       "\n",
       "    .dataframe tbody tr th {\n",
       "        vertical-align: top;\n",
       "    }\n",
       "\n",
       "    .dataframe thead th {\n",
       "        text-align: right;\n",
       "    }\n",
       "</style>\n",
       "<table border=\"1\" class=\"dataframe\">\n",
       "  <thead>\n",
       "    <tr style=\"text-align: right;\">\n",
       "      <th></th>\n",
       "      <th>mq_ra</th>\n",
       "      <th>mq_dec</th>\n",
       "      <th>mq_name</th>\n",
       "      <th>mq_z</th>\n",
       "      <th>mq_cite</th>\n",
       "      <th>temp_object_name</th>\n",
       "      <th>forced_desdr1_mag_z</th>\n",
       "      <th>forced_desdr1_flux_z</th>\n",
       "      <th>forced_desdr1_sn_z</th>\n",
       "      <th>forced_desdr1_magerr_z</th>\n",
       "      <th>forced_desdr1_z_comment</th>\n",
       "      <th>forced_unwise-neo3_mag_w1</th>\n",
       "      <th>forced_unwise-neo3_flux_w1</th>\n",
       "      <th>forced_unwise-neo3_sn_w1</th>\n",
       "      <th>forced_unwise-neo3_magerr_w1</th>\n",
       "      <th>forced_unwise-neo3_w1_comment</th>\n",
       "    </tr>\n",
       "  </thead>\n",
       "  <tbody>\n",
       "    <tr>\n",
       "      <th>29552</th>\n",
       "      <td>340.029741</td>\n",
       "      <td>-0.892448</td>\n",
       "      <td>PGC 1132088</td>\n",
       "      <td>0.054</td>\n",
       "      <td>PGC</td>\n",
       "      <td>J224007.14-005332.81</td>\n",
       "      <td>15.082608</td>\n",
       "      <td>926737.944564</td>\n",
       "      <td>1140.908112</td>\n",
       "      <td>0.000952</td>\n",
       "      <td>ap_6</td>\n",
       "      <td>15.307259</td>\n",
       "      <td>9050.998584</td>\n",
       "      <td>257.587692</td>\n",
       "      <td>0.004215</td>\n",
       "      <td>ap_10</td>\n",
       "    </tr>\n",
       "    <tr>\n",
       "      <th>29553</th>\n",
       "      <td>340.032899</td>\n",
       "      <td>-1.256140</td>\n",
       "      <td>SDSS J224007.89-011522.1</td>\n",
       "      <td>0.659</td>\n",
       "      <td>DR14Q</td>\n",
       "      <td>J224007.90-011522.10</td>\n",
       "      <td>19.857754</td>\n",
       "      <td>11399.831091</td>\n",
       "      <td>22.930144</td>\n",
       "      <td>0.047350</td>\n",
       "      <td>ap_6</td>\n",
       "      <td>19.231664</td>\n",
       "      <td>243.744227</td>\n",
       "      <td>9.291293</td>\n",
       "      <td>0.116855</td>\n",
       "      <td>ap_10</td>\n",
       "    </tr>\n",
       "    <tr>\n",
       "      <th>29554</th>\n",
       "      <td>340.039043</td>\n",
       "      <td>-0.649055</td>\n",
       "      <td>SDSS J224009.37-003856.5</td>\n",
       "      <td>2.306</td>\n",
       "      <td>DR14Q</td>\n",
       "      <td>J224009.37-003856.60</td>\n",
       "      <td>20.635514</td>\n",
       "      <td>5569.221234</td>\n",
       "      <td>8.441781</td>\n",
       "      <td>0.128615</td>\n",
       "      <td>ap_6</td>\n",
       "      <td>16.684475</td>\n",
       "      <td>2545.715210</td>\n",
       "      <td>88.168090</td>\n",
       "      <td>0.012314</td>\n",
       "      <td>ap_10</td>\n",
       "    </tr>\n",
       "    <tr>\n",
       "      <th>29556</th>\n",
       "      <td>340.047792</td>\n",
       "      <td>-1.246840</td>\n",
       "      <td>SDSS J224011.46-011448.6</td>\n",
       "      <td>1.451</td>\n",
       "      <td>DR14Q</td>\n",
       "      <td>J224011.47-011448.62</td>\n",
       "      <td>19.140504</td>\n",
       "      <td>22069.803604</td>\n",
       "      <td>39.126902</td>\n",
       "      <td>0.027749</td>\n",
       "      <td>ap_6</td>\n",
       "      <td>18.890900</td>\n",
       "      <td>333.610702</td>\n",
       "      <td>10.697153</td>\n",
       "      <td>0.101498</td>\n",
       "      <td>ap_10</td>\n",
       "    </tr>\n",
       "    <tr>\n",
       "      <th>29557</th>\n",
       "      <td>340.055801</td>\n",
       "      <td>-0.901223</td>\n",
       "      <td>SDSS J224013.39-005404.4</td>\n",
       "      <td>0.160</td>\n",
       "      <td>DR14</td>\n",
       "      <td>J224013.39-005404.40</td>\n",
       "      <td>17.108760</td>\n",
       "      <td>143382.447520</td>\n",
       "      <td>173.273854</td>\n",
       "      <td>0.006266</td>\n",
       "      <td>ap_6</td>\n",
       "      <td>16.946694</td>\n",
       "      <td>1999.503846</td>\n",
       "      <td>60.700099</td>\n",
       "      <td>0.017887</td>\n",
       "      <td>ap_10</td>\n",
       "    </tr>\n",
       "    <tr>\n",
       "      <th>29559</th>\n",
       "      <td>340.059501</td>\n",
       "      <td>-0.189209</td>\n",
       "      <td>SDSS J224014.28-001121.1</td>\n",
       "      <td>2.235</td>\n",
       "      <td>DR14</td>\n",
       "      <td>J224014.28-001121.15</td>\n",
       "      <td>19.041673</td>\n",
       "      <td>24173.011869</td>\n",
       "      <td>31.837869</td>\n",
       "      <td>0.034102</td>\n",
       "      <td>ap_6</td>\n",
       "      <td>18.035639</td>\n",
       "      <td>733.405742</td>\n",
       "      <td>21.738366</td>\n",
       "      <td>0.049946</td>\n",
       "      <td>ap_10</td>\n",
       "    </tr>\n",
       "    <tr>\n",
       "      <th>29561</th>\n",
       "      <td>340.072023</td>\n",
       "      <td>-1.245235</td>\n",
       "      <td>SDSS J224017.28-011442.8</td>\n",
       "      <td>0.502</td>\n",
       "      <td>DR14Q</td>\n",
       "      <td>J224017.29-011442.85</td>\n",
       "      <td>19.227211</td>\n",
       "      <td>20375.848510</td>\n",
       "      <td>38.828666</td>\n",
       "      <td>0.027962</td>\n",
       "      <td>ap_6</td>\n",
       "      <td>18.242072</td>\n",
       "      <td>606.416845</td>\n",
       "      <td>19.448047</td>\n",
       "      <td>0.055828</td>\n",
       "      <td>ap_10</td>\n",
       "    </tr>\n",
       "    <tr>\n",
       "      <th>29562</th>\n",
       "      <td>340.076227</td>\n",
       "      <td>-0.873265</td>\n",
       "      <td>SDSS J224018.29-005223.7</td>\n",
       "      <td>2.561</td>\n",
       "      <td>DR14Q</td>\n",
       "      <td>J224018.29-005223.75</td>\n",
       "      <td>20.962682</td>\n",
       "      <td>4120.285536</td>\n",
       "      <td>4.960140</td>\n",
       "      <td>0.218892</td>\n",
       "      <td>ap_6</td>\n",
       "      <td>18.629246</td>\n",
       "      <td>424.523217</td>\n",
       "      <td>12.112249</td>\n",
       "      <td>0.089640</td>\n",
       "      <td>ap_10</td>\n",
       "    </tr>\n",
       "    <tr>\n",
       "      <th>29563</th>\n",
       "      <td>340.077436</td>\n",
       "      <td>-0.115803</td>\n",
       "      <td>SDSS J224018.58-000656.8</td>\n",
       "      <td>2.297</td>\n",
       "      <td>DR14Q</td>\n",
       "      <td>J224018.58-000656.89</td>\n",
       "      <td>20.446812</td>\n",
       "      <td>6626.362411</td>\n",
       "      <td>10.378674</td>\n",
       "      <td>0.104612</td>\n",
       "      <td>ap_6</td>\n",
       "      <td>19.098493</td>\n",
       "      <td>275.551433</td>\n",
       "      <td>4.823181</td>\n",
       "      <td>0.225108</td>\n",
       "      <td>ap_10</td>\n",
       "    </tr>\n",
       "    <tr>\n",
       "      <th>29567</th>\n",
       "      <td>340.094890</td>\n",
       "      <td>-0.031102</td>\n",
       "      <td>SDSS J224022.77-000151.9</td>\n",
       "      <td>0.910</td>\n",
       "      <td>DR14Q</td>\n",
       "      <td>J224022.77-000151.97</td>\n",
       "      <td>20.322031</td>\n",
       "      <td>7433.403107</td>\n",
       "      <td>10.838603</td>\n",
       "      <td>0.100173</td>\n",
       "      <td>ap_6</td>\n",
       "      <td>18.411760</td>\n",
       "      <td>518.675589</td>\n",
       "      <td>12.363122</td>\n",
       "      <td>0.087821</td>\n",
       "      <td>ap_10</td>\n",
       "    </tr>\n",
       "  </tbody>\n",
       "</table>\n",
       "</div>"
      ],
      "text/plain": [
       "            mq_ra    mq_dec                   mq_name   mq_z mq_cite  \\\n",
       "29552  340.029741 -0.892448               PGC 1132088  0.054     PGC   \n",
       "29553  340.032899 -1.256140  SDSS J224007.89-011522.1  0.659   DR14Q   \n",
       "29554  340.039043 -0.649055  SDSS J224009.37-003856.5  2.306   DR14Q   \n",
       "29556  340.047792 -1.246840  SDSS J224011.46-011448.6  1.451   DR14Q   \n",
       "29557  340.055801 -0.901223  SDSS J224013.39-005404.4  0.160    DR14   \n",
       "29559  340.059501 -0.189209  SDSS J224014.28-001121.1  2.235    DR14   \n",
       "29561  340.072023 -1.245235  SDSS J224017.28-011442.8  0.502   DR14Q   \n",
       "29562  340.076227 -0.873265  SDSS J224018.29-005223.7  2.561   DR14Q   \n",
       "29563  340.077436 -0.115803  SDSS J224018.58-000656.8  2.297   DR14Q   \n",
       "29567  340.094890 -0.031102  SDSS J224022.77-000151.9  0.910   DR14Q   \n",
       "\n",
       "           temp_object_name  forced_desdr1_mag_z  forced_desdr1_flux_z  \\\n",
       "29552  J224007.14-005332.81            15.082608         926737.944564   \n",
       "29553  J224007.90-011522.10            19.857754          11399.831091   \n",
       "29554  J224009.37-003856.60            20.635514           5569.221234   \n",
       "29556  J224011.47-011448.62            19.140504          22069.803604   \n",
       "29557  J224013.39-005404.40            17.108760         143382.447520   \n",
       "29559  J224014.28-001121.15            19.041673          24173.011869   \n",
       "29561  J224017.29-011442.85            19.227211          20375.848510   \n",
       "29562  J224018.29-005223.75            20.962682           4120.285536   \n",
       "29563  J224018.58-000656.89            20.446812           6626.362411   \n",
       "29567  J224022.77-000151.97            20.322031           7433.403107   \n",
       "\n",
       "       forced_desdr1_sn_z  forced_desdr1_magerr_z forced_desdr1_z_comment  \\\n",
       "29552         1140.908112                0.000952                    ap_6   \n",
       "29553           22.930144                0.047350                    ap_6   \n",
       "29554            8.441781                0.128615                    ap_6   \n",
       "29556           39.126902                0.027749                    ap_6   \n",
       "29557          173.273854                0.006266                    ap_6   \n",
       "29559           31.837869                0.034102                    ap_6   \n",
       "29561           38.828666                0.027962                    ap_6   \n",
       "29562            4.960140                0.218892                    ap_6   \n",
       "29563           10.378674                0.104612                    ap_6   \n",
       "29567           10.838603                0.100173                    ap_6   \n",
       "\n",
       "       forced_unwise-neo3_mag_w1  forced_unwise-neo3_flux_w1  \\\n",
       "29552                  15.307259                 9050.998584   \n",
       "29553                  19.231664                  243.744227   \n",
       "29554                  16.684475                 2545.715210   \n",
       "29556                  18.890900                  333.610702   \n",
       "29557                  16.946694                 1999.503846   \n",
       "29559                  18.035639                  733.405742   \n",
       "29561                  18.242072                  606.416845   \n",
       "29562                  18.629246                  424.523217   \n",
       "29563                  19.098493                  275.551433   \n",
       "29567                  18.411760                  518.675589   \n",
       "\n",
       "       forced_unwise-neo3_sn_w1  forced_unwise-neo3_magerr_w1  \\\n",
       "29552                257.587692                      0.004215   \n",
       "29553                  9.291293                      0.116855   \n",
       "29554                 88.168090                      0.012314   \n",
       "29556                 10.697153                      0.101498   \n",
       "29557                 60.700099                      0.017887   \n",
       "29559                 21.738366                      0.049946   \n",
       "29561                 19.448047                      0.055828   \n",
       "29562                 12.112249                      0.089640   \n",
       "29563                  4.823181                      0.225108   \n",
       "29567                 12.363122                      0.087821   \n",
       "\n",
       "      forced_unwise-neo3_w1_comment  \n",
       "29552                         ap_10  \n",
       "29553                         ap_10  \n",
       "29554                         ap_10  \n",
       "29556                         ap_10  \n",
       "29557                         ap_10  \n",
       "29559                         ap_10  \n",
       "29561                         ap_10  \n",
       "29562                         ap_10  \n",
       "29563                         ap_10  \n",
       "29567                         ap_10  "
      ]
     },
     "execution_count": 4,
     "metadata": {},
     "output_type": "execute_result"
    }
   ],
   "source": [
    "forced_photometry"
   ]
  },
  {
   "cell_type": "markdown",
   "metadata": {},
   "source": [
    "# 2) Calculating forced photometry - Multiprocessing"
   ]
  },
  {
   "cell_type": "markdown",
   "metadata": {},
   "source": [
    "### The function to calculate forced photometry in multiprocessing mode works analogous to the single core function above. The number of threads spawned is defined by n_jobs and should not exceed the cores on your machine (even if your CPU has multithreading). We have enabled verbose statement (verbosity=2) to get and follow the routine while it is working. "
   ]
  },
  {
   "cell_type": "code",
   "execution_count": 9,
   "metadata": {},
   "outputs": [
    {
     "name": "stdout",
     "output_type": "stream",
     "text": [
      "Opened ./cutouts/J224026.75-010057.92_desdr1_z_fov300.fits with a fov of 300 arcseconds\n",
      "Opened ./cutouts/J224028.15-003813.17_desdr1_z_fov300.fits with a fov of 300 arcseconds\n",
      "Opened ./cutouts/J224023.25-003555.74_desdr1_z_fov300.fits with a fov of 300 arcseconds\n",
      "Opened ./cutouts/J224029.07-011419.77_desdr1_z_fov300.fits with a fov of 300 arcseconds\n",
      "Opened ./cutouts/J224028.85-010649.87_desdr1_z_fov300.fits with a fov of 300 arcseconds\n",
      "flux:  315778.7053973 sn:  552.4334731569365\n",
      "mag:  16.25154290019759\n",
      "flux:  41723.175229531495 sn:  71.45956588880676\n",
      "mag:  18.449056620448914\n",
      "flux:  3669.865506973944 sn:  6.005200956623964\n",
      "mag:  21.08837462864045\n",
      "flux:  3474.5844498411157 sn:  6.011771217905685\n",
      "mag:  21.147742820801533\n",
      "flux:  34318.06982009232 sn:  50.09602516541712\n",
      "mag:  18.661192866310678\n",
      "File ./cutouts//J224028.15-003813.17_unwise-neo3_w1*.fits in folder ./cutouts/ not found. Target with RA 340.1172887 and Decl -0.6369927\n",
      "File ./cutouts//J224028.85-010649.87_unwise-neo3_w1*.fits in folder ./cutouts/ not found. Target with RA 340.1202098 and Decl -1.1138541000000002\n",
      "File ./cutouts//J224023.25-003555.74_unwise-neo3_w1*.fits in folder ./cutouts/ not found. Target with RA 340.0968943 and Decl -0.598817\n",
      "File ./cutouts//J224026.75-010057.92_unwise-neo3_w1*.fits in folder ./cutouts/ not found. Target with RA 340.1114784 and Decl -1.0160884\n",
      "File ./cutouts//J224029.07-011419.77_unwise-neo3_w1*.fits in folder ./cutouts/ not found. Target with RA 340.12114110000005 and Decl -1.2388244\n",
      "Download of J224023.25-003555.74_unwise-neo3_w1_fov400 to ./cutouts/ completed\n",
      "Download of J224028.85-010649.87_unwise-neo3_w1_fov400 to ./cutouts/ completed\n",
      "Download of J224028.15-003813.17_unwise-neo3_w1_fov400 to ./cutouts/ completed\n",
      "Download of J224026.75-010057.92_unwise-neo3_w1_fov400 to ./cutouts/ completed\n",
      "flux:  608.3186666770662 sn:  27.7421277389965\n",
      "mag:  15.539672141768625\n",
      "flux:  11210.615377933402 sn:  349.33952455989777\n",
      "mag:  12.375926368176822\n",
      "flux:  -- sn:  --\n",
      "mag:  --\n",
      "flux:  169.26082310869833 sn:  5.803427602004314\n",
      "mag:  16.92860887874735\n",
      "Download of J224029.07-011419.77_unwise-neo3_w1_fov400 to ./cutouts/ completed\n",
      "flux:  119.27937177889056 sn:  3.610112579779543\n",
      "mag:  17.30858664223272\n"
     ]
    }
   ],
   "source": [
    "surveys = ['desdr1','unwise-neo3']\n",
    "bands = ['z','w1']\n",
    "apertures = [6, 10]\n",
    "fovs = [300, 400]\n",
    "\n",
    "mp_forced_photometry = it.get_forced_photometry_mp(test_set[10:15], 'mq_ra', 'mq_dec', surveys,\n",
    "                          bands, apertures, fovs, './cutouts/', n_jobs=5,\n",
    "                          auto_download=True, verbosity=2)"
   ]
  },
  {
   "cell_type": "markdown",
   "metadata": {},
   "source": [
    "### Let us now take a look at the output."
   ]
  },
  {
   "cell_type": "code",
   "execution_count": 10,
   "metadata": {},
   "outputs": [
    {
     "data": {
      "text/html": [
       "<div>\n",
       "<style scoped>\n",
       "    .dataframe tbody tr th:only-of-type {\n",
       "        vertical-align: middle;\n",
       "    }\n",
       "\n",
       "    .dataframe tbody tr th {\n",
       "        vertical-align: top;\n",
       "    }\n",
       "\n",
       "    .dataframe thead th {\n",
       "        text-align: right;\n",
       "    }\n",
       "</style>\n",
       "<table border=\"1\" class=\"dataframe\">\n",
       "  <thead>\n",
       "    <tr style=\"text-align: right;\">\n",
       "      <th></th>\n",
       "      <th>mq_ra</th>\n",
       "      <th>mq_dec</th>\n",
       "      <th>mq_name</th>\n",
       "      <th>mq_z</th>\n",
       "      <th>mq_cite</th>\n",
       "      <th>temp_object_name</th>\n",
       "      <th>forced_desdr1_mag_z</th>\n",
       "      <th>forced_desdr1_flux_z</th>\n",
       "      <th>forced_desdr1_sn_z</th>\n",
       "      <th>forced_desdr1_magerr_z</th>\n",
       "      <th>forced_desdr1_z_comment</th>\n",
       "      <th>forced_unwise-neo3_mag_w1</th>\n",
       "      <th>forced_unwise-neo3_flux_w1</th>\n",
       "      <th>forced_unwise-neo3_sn_w1</th>\n",
       "      <th>forced_unwise-neo3_magerr_w1</th>\n",
       "      <th>forced_unwise-neo3_w1_comment</th>\n",
       "    </tr>\n",
       "  </thead>\n",
       "  <tbody>\n",
       "    <tr>\n",
       "      <th>29568</th>\n",
       "      <td>340.096894</td>\n",
       "      <td>-0.598817</td>\n",
       "      <td>FBQS J2240-0035</td>\n",
       "      <td>1.167</td>\n",
       "      <td>DR7Q</td>\n",
       "      <td>J224023.25-003555.74</td>\n",
       "      <td>18.661193</td>\n",
       "      <td>34318.069820</td>\n",
       "      <td>50.096025</td>\n",
       "      <td>0.021673</td>\n",
       "      <td>ap_6</td>\n",
       "      <td>18.238672</td>\n",
       "      <td>608.318667</td>\n",
       "      <td>27.742128</td>\n",
       "      <td>0.039137</td>\n",
       "      <td>ap_10</td>\n",
       "    </tr>\n",
       "    <tr>\n",
       "      <th>29570</th>\n",
       "      <td>340.111478</td>\n",
       "      <td>-1.016088</td>\n",
       "      <td>SDSS J224026.75-010057.9</td>\n",
       "      <td>0.845</td>\n",
       "      <td>DR14Q</td>\n",
       "      <td>J224026.75-010057.92</td>\n",
       "      <td>21.088375</td>\n",
       "      <td>3669.865507</td>\n",
       "      <td>6.005201</td>\n",
       "      <td>0.180799</td>\n",
       "      <td>ap_6</td>\n",
       "      <td>19.627609</td>\n",
       "      <td>169.260823</td>\n",
       "      <td>5.803428</td>\n",
       "      <td>0.187085</td>\n",
       "      <td>ap_10</td>\n",
       "    </tr>\n",
       "    <tr>\n",
       "      <th>29572</th>\n",
       "      <td>340.117289</td>\n",
       "      <td>-0.636993</td>\n",
       "      <td>SDSS J224028.14-003813.1</td>\n",
       "      <td>0.658</td>\n",
       "      <td>DR14Q</td>\n",
       "      <td>J224028.15-003813.17</td>\n",
       "      <td>18.449057</td>\n",
       "      <td>41723.175230</td>\n",
       "      <td>71.459566</td>\n",
       "      <td>0.015194</td>\n",
       "      <td>ap_6</td>\n",
       "      <td>-996.301000</td>\n",
       "      <td>NaN</td>\n",
       "      <td>NaN</td>\n",
       "      <td>NaN</td>\n",
       "      <td>masked</td>\n",
       "    </tr>\n",
       "    <tr>\n",
       "      <th>29574</th>\n",
       "      <td>340.120210</td>\n",
       "      <td>-1.113854</td>\n",
       "      <td>2MASX J22402887-0106495</td>\n",
       "      <td>0.127</td>\n",
       "      <td>DR7Q</td>\n",
       "      <td>J224028.85-010649.87</td>\n",
       "      <td>16.251543</td>\n",
       "      <td>315778.705397</td>\n",
       "      <td>552.433473</td>\n",
       "      <td>0.001965</td>\n",
       "      <td>ap_6</td>\n",
       "      <td>15.074926</td>\n",
       "      <td>11210.615378</td>\n",
       "      <td>349.339525</td>\n",
       "      <td>0.003108</td>\n",
       "      <td>ap_10</td>\n",
       "    </tr>\n",
       "    <tr>\n",
       "      <th>29576</th>\n",
       "      <td>340.121141</td>\n",
       "      <td>-1.238824</td>\n",
       "      <td>SDSS J224029.07-011419.7</td>\n",
       "      <td>2.472</td>\n",
       "      <td>DR14Q</td>\n",
       "      <td>J224029.07-011419.77</td>\n",
       "      <td>21.147743</td>\n",
       "      <td>3474.584450</td>\n",
       "      <td>6.011771</td>\n",
       "      <td>0.180602</td>\n",
       "      <td>ap_6</td>\n",
       "      <td>20.007587</td>\n",
       "      <td>119.279372</td>\n",
       "      <td>3.610113</td>\n",
       "      <td>0.300749</td>\n",
       "      <td>ap_10</td>\n",
       "    </tr>\n",
       "  </tbody>\n",
       "</table>\n",
       "</div>"
      ],
      "text/plain": [
       "            mq_ra    mq_dec                   mq_name   mq_z mq_cite  \\\n",
       "29568  340.096894 -0.598817           FBQS J2240-0035  1.167    DR7Q   \n",
       "29570  340.111478 -1.016088  SDSS J224026.75-010057.9  0.845   DR14Q   \n",
       "29572  340.117289 -0.636993  SDSS J224028.14-003813.1  0.658   DR14Q   \n",
       "29574  340.120210 -1.113854   2MASX J22402887-0106495  0.127    DR7Q   \n",
       "29576  340.121141 -1.238824  SDSS J224029.07-011419.7  2.472   DR14Q   \n",
       "\n",
       "           temp_object_name  forced_desdr1_mag_z  forced_desdr1_flux_z  \\\n",
       "29568  J224023.25-003555.74            18.661193          34318.069820   \n",
       "29570  J224026.75-010057.92            21.088375           3669.865507   \n",
       "29572  J224028.15-003813.17            18.449057          41723.175230   \n",
       "29574  J224028.85-010649.87            16.251543         315778.705397   \n",
       "29576  J224029.07-011419.77            21.147743           3474.584450   \n",
       "\n",
       "       forced_desdr1_sn_z  forced_desdr1_magerr_z forced_desdr1_z_comment  \\\n",
       "29568           50.096025                0.021673                    ap_6   \n",
       "29570            6.005201                0.180799                    ap_6   \n",
       "29572           71.459566                0.015194                    ap_6   \n",
       "29574          552.433473                0.001965                    ap_6   \n",
       "29576            6.011771                0.180602                    ap_6   \n",
       "\n",
       "       forced_unwise-neo3_mag_w1  forced_unwise-neo3_flux_w1  \\\n",
       "29568                  18.238672                  608.318667   \n",
       "29570                  19.627609                  169.260823   \n",
       "29572                -996.301000                         NaN   \n",
       "29574                  15.074926                11210.615378   \n",
       "29576                  20.007587                  119.279372   \n",
       "\n",
       "       forced_unwise-neo3_sn_w1  forced_unwise-neo3_magerr_w1  \\\n",
       "29568                 27.742128                      0.039137   \n",
       "29570                  5.803428                      0.187085   \n",
       "29572                       NaN                           NaN   \n",
       "29574                349.339525                      0.003108   \n",
       "29576                  3.610113                      0.300749   \n",
       "\n",
       "      forced_unwise-neo3_w1_comment  \n",
       "29568                         ap_10  \n",
       "29570                         ap_10  \n",
       "29572                        masked  \n",
       "29574                         ap_10  \n",
       "29576                         ap_10  "
      ]
     },
     "execution_count": 10,
     "metadata": {},
     "output_type": "execute_result"
    }
   ],
   "source": [
    "mp_forced_photometry"
   ]
  },
  {
   "cell_type": "code",
   "execution_count": null,
   "metadata": {},
   "outputs": [],
   "source": []
  }
 ],
 "metadata": {
  "kernelspec": {
   "display_name": "Python 3",
   "language": "python",
   "name": "python3"
  },
  "language_info": {
   "codemirror_mode": {
    "name": "ipython",
    "version": 3
   },
   "file_extension": ".py",
   "mimetype": "text/x-python",
   "name": "python",
   "nbconvert_exporter": "python",
   "pygments_lexer": "ipython3",
   "version": "3.6.8"
  }
 },
 "nbformat": 4,
 "nbformat_minor": 2
}
