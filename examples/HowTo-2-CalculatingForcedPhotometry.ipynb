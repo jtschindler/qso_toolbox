{
 "cells": [
  {
   "cell_type": "markdown",
   "metadata": {},
   "source": [
    "Please run the HowTo-1-DownloadingImageCutouts jupyter notebook before proceeding to this one. To calculate the forced photometry the image cutouts need to be on file."
   ]
  },
  {
   "cell_type": "code",
   "execution_count": 1,
   "metadata": {},
   "outputs": [],
   "source": [
    "from qso_toolbox import catalog_tools as ct, image_tools as it, photometry_tools as pt, utils as ut"
   ]
  },
  {
   "cell_type": "code",
   "execution_count": 2,
   "metadata": {},
   "outputs": [],
   "source": [
    "import pandas as pd \n",
    "from astropy.io import fits \n",
    "from astropy.table import Table\n",
    "\n",
    "df_hdf = pd.read_hdf('./data/stripe82_milliquas_190210.hdf5',key='data')\n",
    "\n",
    "# We use the first 200 entries of the test set we used for HowTo-1-DownloadingImageCutouts\n",
    "test_set = df_hdf.query('340 < mq_ra < 350 and -1.26 < mq_dec < 0')[:200]"
   ]
  },
  {
   "cell_type": "code",
   "execution_count": 8,
   "metadata": {},
   "outputs": [
    {
     "name": "stderr",
     "output_type": "stream",
     "text": [
      "/Users/schindler/anaconda3/lib/python3.6/site-packages/qso_toolbox/image_tools.py:445: SettingWithCopyWarning: \n",
      "A value is trying to be set on a copy of a slice from a DataFrame.\n",
      "Try using .loc[row_indexer,col_indexer] = value instead\n",
      "\n",
      "See the caveats in the documentation: http://pandas.pydata.org/pandas-docs/stable/indexing.html#indexing-view-versus-copy\n",
      "  epoch=\"J\")\n",
      "WARNING: W42: None:2:0: W42: No XML namespace specified [astropy.io.votable.tree]\n",
      "WARNING: W03: None:7:0: W03: Implicitly generating an ID from a name 'INPUT:POS' -> 'INPUT_POS' [astropy.io.votable.xmlutil]\n",
      "WARNING: W03: None:8:0: W03: Implicitly generating an ID from a name 'INPUT:SIZE' -> 'INPUT_SIZE' [astropy.io.votable.xmlutil]\n",
      "WARNING: W03: None:9:0: W03: Implicitly generating an ID from a name 'INPUT:FORMAT' -> 'INPUT_FORMAT' [astropy.io.votable.xmlutil]\n",
      "WARNING: W03: None:10:0: W03: Implicitly generating an ID from a name 'INPUT:INTERSECT' -> 'INPUT_INTERSECT' [astropy.io.votable.xmlutil]\n",
      "WARNING: W03: None:11:0: W03: Implicitly generating an ID from a name 'INPUT:VERB' -> 'INPUT_VERB' [astropy.io.votable.xmlutil]\n",
      "WARNING: W50: None:25:0: W50: Invalid unit string 'bytes' [astropy.io.votable.tree]\n",
      "WARNING: E10: None:76:0: E10: 'datatype' attribute required on all 'FIELD' elements [astropy.io.votable.tree]\n",
      "WARNING: W47: None:76:0: W47: Missing arraysize indicates length 1 [astropy.io.votable.converters]\n",
      "WARNING: W06: None:77:0: W06: Invalid UCD 'INST_ID': Unknown word 'INST_ID' [astropy.io.votable.tree]\n",
      "WARNING: W06: None:89:0: W06: Invalid UCD 'meta.ref.url;meta.curation': Primary word 'meta.curation' is not valid as a secondary word [astropy.io.votable.tree]\n",
      "WARNING: W06: None:104:0: W06: Invalid UCD 'POS_EQ_RA_MAIN': Unknown word 'POS_EQ_RA_MAIN' [astropy.io.votable.tree]\n",
      "WARNING: W06: None:107:0: W06: Invalid UCD 'POS_EQ_DEC_MAIN': Unknown word 'POS_EQ_DEC_MAIN' [astropy.io.votable.tree]\n",
      "WARNING: W06: None:110:0: W06: Invalid UCD 'pos.AngSize;instr.fov': Unknown word 'pos.AngSize' [astropy.io.votable.tree]\n",
      "WARNING: W06: None:137:0: W06: Invalid UCD 'time.stop;obs.exposure': Unknown word 'time.stop' [astropy.io.votable.tree]\n",
      "WARNING: W49: None:269:280: W49: Empty cell illegal for integer fields. [astropy.io.votable.converters]\n",
      "WARNING: W49: None:269:289: W49: Empty cell illegal for integer fields. [astropy.io.votable.converters]\n",
      "WARNING: W49: None:270:280: W49: Empty cell illegal for integer fields. [astropy.io.votable.converters]\n",
      "WARNING: W49: None:270:289: W49: Empty cell illegal for integer fields. [astropy.io.votable.converters]\n",
      "WARNING: W49: None:271:280: W49: Empty cell illegal for integer fields. [astropy.io.votable.converters]\n",
      "WARNING: W49: None:271:289: W49: Empty cell illegal for integer fields. [astropy.io.votable.converters]\n",
      "WARNING: W49: None:272:279: W49: Empty cell illegal for integer fields. [astropy.io.votable.converters]\n",
      "WARNING: W49: None:272:288: W49: Empty cell illegal for integer fields. [astropy.io.votable.converters]\n",
      "WARNING: W49: None:273:279: W49: Empty cell illegal for integer fields. [astropy.io.votable.converters]\n",
      "WARNING: W49: None:273:288: W49: Empty cell illegal for integer fields. (suppressing further warnings of this type...) [astropy.io.votable.converters]\n"
     ]
    },
    {
     "name": "stdout",
     "output_type": "stream",
     "text": [
      "The full image list contains 18 entries\n",
      "downloading deepest stacked image...\n",
      "Download of J224007.14-005332.81_desdr1_z_fov300 to ./cutouts/ completed\n"
     ]
    },
    {
     "name": "stderr",
     "output_type": "stream",
     "text": [
      "WARNING: FITSFixedWarning: 'datfix' made the change 'Changed '' to '2013-09-13T04:19:05.297''. [astropy.wcs.wcs]\n"
     ]
    },
    {
     "name": "stdout",
     "output_type": "stream",
     "text": [
      "flux:  926737.944563672 sn:  1202.826180013517\n",
      "mag:  15.082607636913457\n"
     ]
    },
    {
     "name": "stderr",
     "output_type": "stream",
     "text": [
      "/Users/schindler/anaconda3/lib/python3.6/site-packages/pandas/core/indexing.py:362: SettingWithCopyWarning: \n",
      "A value is trying to be set on a copy of a slice from a DataFrame.\n",
      "Try using .loc[row_indexer,col_indexer] = value instead\n",
      "\n",
      "See the caveats in the documentation: http://pandas.pydata.org/pandas-docs/stable/indexing.html#indexing-view-versus-copy\n",
      "  self.obj[key] = _infer_fill_value(value)\n",
      "/Users/schindler/anaconda3/lib/python3.6/site-packages/pandas/core/indexing.py:543: SettingWithCopyWarning: \n",
      "A value is trying to be set on a copy of a slice from a DataFrame.\n",
      "Try using .loc[row_indexer,col_indexer] = value instead\n",
      "\n",
      "See the caveats in the documentation: http://pandas.pydata.org/pandas-docs/stable/indexing.html#indexing-view-versus-copy\n",
      "  self.obj[item] = s\n",
      "WARNING: W42: None:2:0: W42: No XML namespace specified [astropy.io.votable.tree]\n",
      "WARNING: W03: None:7:0: W03: Implicitly generating an ID from a name 'INPUT:POS' -> 'INPUT_POS' [astropy.io.votable.xmlutil]\n",
      "WARNING: W03: None:8:0: W03: Implicitly generating an ID from a name 'INPUT:SIZE' -> 'INPUT_SIZE' [astropy.io.votable.xmlutil]\n",
      "WARNING: W03: None:9:0: W03: Implicitly generating an ID from a name 'INPUT:FORMAT' -> 'INPUT_FORMAT' [astropy.io.votable.xmlutil]\n",
      "WARNING: W03: None:10:0: W03: Implicitly generating an ID from a name 'INPUT:INTERSECT' -> 'INPUT_INTERSECT' [astropy.io.votable.xmlutil]\n",
      "WARNING: W03: None:11:0: W03: Implicitly generating an ID from a name 'INPUT:VERB' -> 'INPUT_VERB' [astropy.io.votable.xmlutil]\n",
      "WARNING: W50: None:25:0: W50: Invalid unit string 'bytes' [astropy.io.votable.tree]\n",
      "WARNING: E10: None:76:0: E10: 'datatype' attribute required on all 'FIELD' elements [astropy.io.votable.tree]\n",
      "WARNING: W47: None:76:0: W47: Missing arraysize indicates length 1 [astropy.io.votable.converters]\n",
      "WARNING: W06: None:77:0: W06: Invalid UCD 'INST_ID': Unknown word 'INST_ID' [astropy.io.votable.tree]\n",
      "WARNING: W06: None:89:0: W06: Invalid UCD 'meta.ref.url;meta.curation': Primary word 'meta.curation' is not valid as a secondary word [astropy.io.votable.tree]\n",
      "WARNING: W06: None:104:0: W06: Invalid UCD 'POS_EQ_RA_MAIN': Unknown word 'POS_EQ_RA_MAIN' [astropy.io.votable.tree]\n",
      "WARNING: W06: None:107:0: W06: Invalid UCD 'POS_EQ_DEC_MAIN': Unknown word 'POS_EQ_DEC_MAIN' [astropy.io.votable.tree]\n",
      "WARNING: W06: None:110:0: W06: Invalid UCD 'pos.AngSize;instr.fov': Unknown word 'pos.AngSize' [astropy.io.votable.tree]\n",
      "WARNING: W06: None:137:0: W06: Invalid UCD 'time.stop;obs.exposure': Unknown word 'time.stop' [astropy.io.votable.tree]\n",
      "WARNING: W49: None:269:277: W49: Empty cell illegal for integer fields. [astropy.io.votable.converters]\n",
      "WARNING: W49: None:269:286: W49: Empty cell illegal for integer fields. [astropy.io.votable.converters]\n",
      "WARNING: W49: None:270:277: W49: Empty cell illegal for integer fields. [astropy.io.votable.converters]\n",
      "WARNING: W49: None:270:286: W49: Empty cell illegal for integer fields. [astropy.io.votable.converters]\n",
      "WARNING: W49: None:271:277: W49: Empty cell illegal for integer fields. [astropy.io.votable.converters]\n",
      "WARNING: W49: None:271:286: W49: Empty cell illegal for integer fields. [astropy.io.votable.converters]\n",
      "WARNING: W49: None:272:276: W49: Empty cell illegal for integer fields. [astropy.io.votable.converters]\n",
      "WARNING: W49: None:272:285: W49: Empty cell illegal for integer fields. [astropy.io.votable.converters]\n",
      "WARNING: W49: None:273:276: W49: Empty cell illegal for integer fields. [astropy.io.votable.converters]\n",
      "WARNING: W49: None:273:285: W49: Empty cell illegal for integer fields. (suppressing further warnings of this type...) [astropy.io.votable.converters]\n"
     ]
    },
    {
     "name": "stdout",
     "output_type": "stream",
     "text": [
      "The full image list contains 18 entries\n",
      "downloading deepest stacked image...\n",
      "Download of J224007.90-011522.10_desdr1_z_fov300 to ./cutouts/ completed\n"
     ]
    },
    {
     "name": "stderr",
     "output_type": "stream",
     "text": [
      "WARNING: FITSFixedWarning: 'datfix' made the change 'Changed '' to '2013-09-13T04:19:05.297''. [astropy.wcs.wcs]\n"
     ]
    },
    {
     "name": "stdout",
     "output_type": "stream",
     "text": [
      "flux:  11399.831090738899 sn:  20.78427217524099\n",
      "mag:  19.857753958699057\n"
     ]
    },
    {
     "name": "stderr",
     "output_type": "stream",
     "text": [
      "/Users/schindler/anaconda3/lib/python3.6/site-packages/pandas/core/indexing.py:543: SettingWithCopyWarning: \n",
      "A value is trying to be set on a copy of a slice from a DataFrame.\n",
      "Try using .loc[row_indexer,col_indexer] = value instead\n",
      "\n",
      "See the caveats in the documentation: http://pandas.pydata.org/pandas-docs/stable/indexing.html#indexing-view-versus-copy\n",
      "  self.obj[item] = s\n",
      "WARNING: W42: None:2:0: W42: No XML namespace specified [astropy.io.votable.tree]\n",
      "WARNING: W03: None:7:0: W03: Implicitly generating an ID from a name 'INPUT:POS' -> 'INPUT_POS' [astropy.io.votable.xmlutil]\n",
      "WARNING: W03: None:8:0: W03: Implicitly generating an ID from a name 'INPUT:SIZE' -> 'INPUT_SIZE' [astropy.io.votable.xmlutil]\n",
      "WARNING: W03: None:9:0: W03: Implicitly generating an ID from a name 'INPUT:FORMAT' -> 'INPUT_FORMAT' [astropy.io.votable.xmlutil]\n",
      "WARNING: W03: None:10:0: W03: Implicitly generating an ID from a name 'INPUT:INTERSECT' -> 'INPUT_INTERSECT' [astropy.io.votable.xmlutil]\n",
      "WARNING: W03: None:11:0: W03: Implicitly generating an ID from a name 'INPUT:VERB' -> 'INPUT_VERB' [astropy.io.votable.xmlutil]\n",
      "WARNING: W50: None:25:0: W50: Invalid unit string 'bytes' [astropy.io.votable.tree]\n",
      "WARNING: E10: None:76:0: E10: 'datatype' attribute required on all 'FIELD' elements [astropy.io.votable.tree]\n",
      "WARNING: W47: None:76:0: W47: Missing arraysize indicates length 1 [astropy.io.votable.converters]\n",
      "WARNING: W06: None:77:0: W06: Invalid UCD 'INST_ID': Unknown word 'INST_ID' [astropy.io.votable.tree]\n",
      "WARNING: W06: None:89:0: W06: Invalid UCD 'meta.ref.url;meta.curation': Primary word 'meta.curation' is not valid as a secondary word [astropy.io.votable.tree]\n",
      "WARNING: W06: None:104:0: W06: Invalid UCD 'POS_EQ_RA_MAIN': Unknown word 'POS_EQ_RA_MAIN' [astropy.io.votable.tree]\n",
      "WARNING: W06: None:107:0: W06: Invalid UCD 'POS_EQ_DEC_MAIN': Unknown word 'POS_EQ_DEC_MAIN' [astropy.io.votable.tree]\n",
      "WARNING: W06: None:110:0: W06: Invalid UCD 'pos.AngSize;instr.fov': Unknown word 'pos.AngSize' [astropy.io.votable.tree]\n",
      "WARNING: W06: None:137:0: W06: Invalid UCD 'time.stop;obs.exposure': Unknown word 'time.stop' [astropy.io.votable.tree]\n",
      "WARNING: W49: None:269:280: W49: Empty cell illegal for integer fields. [astropy.io.votable.converters]\n",
      "WARNING: W49: None:269:289: W49: Empty cell illegal for integer fields. [astropy.io.votable.converters]\n",
      "WARNING: W49: None:270:280: W49: Empty cell illegal for integer fields. [astropy.io.votable.converters]\n",
      "WARNING: W49: None:270:289: W49: Empty cell illegal for integer fields. [astropy.io.votable.converters]\n",
      "WARNING: W49: None:271:280: W49: Empty cell illegal for integer fields. [astropy.io.votable.converters]\n",
      "WARNING: W49: None:271:289: W49: Empty cell illegal for integer fields. [astropy.io.votable.converters]\n",
      "WARNING: W49: None:272:279: W49: Empty cell illegal for integer fields. [astropy.io.votable.converters]\n",
      "WARNING: W49: None:272:288: W49: Empty cell illegal for integer fields. [astropy.io.votable.converters]\n",
      "WARNING: W49: None:273:279: W49: Empty cell illegal for integer fields. [astropy.io.votable.converters]\n",
      "WARNING: W49: None:273:288: W49: Empty cell illegal for integer fields. (suppressing further warnings of this type...) [astropy.io.votable.converters]\n"
     ]
    },
    {
     "name": "stdout",
     "output_type": "stream",
     "text": [
      "The full image list contains 18 entries\n",
      "downloading deepest stacked image...\n",
      "Download of J224009.37-003856.60_desdr1_z_fov300 to ./cutouts/ completed\n"
     ]
    },
    {
     "name": "stderr",
     "output_type": "stream",
     "text": [
      "WARNING: FITSFixedWarning: 'datfix' made the change 'Changed '' to '2013-09-13T04:19:05.297''. [astropy.wcs.wcs]\n"
     ]
    },
    {
     "name": "stdout",
     "output_type": "stream",
     "text": [
      "flux:  5569.2212343982665 sn:  9.264389343221866\n",
      "mag:  20.635513824116522\n"
     ]
    },
    {
     "name": "stderr",
     "output_type": "stream",
     "text": [
      "/Users/schindler/anaconda3/lib/python3.6/site-packages/pandas/core/indexing.py:543: SettingWithCopyWarning: \n",
      "A value is trying to be set on a copy of a slice from a DataFrame.\n",
      "Try using .loc[row_indexer,col_indexer] = value instead\n",
      "\n",
      "See the caveats in the documentation: http://pandas.pydata.org/pandas-docs/stable/indexing.html#indexing-view-versus-copy\n",
      "  self.obj[item] = s\n",
      "WARNING: W42: None:2:0: W42: No XML namespace specified [astropy.io.votable.tree]\n",
      "WARNING: W03: None:7:0: W03: Implicitly generating an ID from a name 'INPUT:POS' -> 'INPUT_POS' [astropy.io.votable.xmlutil]\n",
      "WARNING: W03: None:8:0: W03: Implicitly generating an ID from a name 'INPUT:SIZE' -> 'INPUT_SIZE' [astropy.io.votable.xmlutil]\n",
      "WARNING: W03: None:9:0: W03: Implicitly generating an ID from a name 'INPUT:FORMAT' -> 'INPUT_FORMAT' [astropy.io.votable.xmlutil]\n",
      "WARNING: W03: None:10:0: W03: Implicitly generating an ID from a name 'INPUT:INTERSECT' -> 'INPUT_INTERSECT' [astropy.io.votable.xmlutil]\n",
      "WARNING: W03: None:11:0: W03: Implicitly generating an ID from a name 'INPUT:VERB' -> 'INPUT_VERB' [astropy.io.votable.xmlutil]\n",
      "WARNING: W50: None:25:0: W50: Invalid unit string 'bytes' [astropy.io.votable.tree]\n",
      "WARNING: E10: None:76:0: E10: 'datatype' attribute required on all 'FIELD' elements [astropy.io.votable.tree]\n",
      "WARNING: W47: None:76:0: W47: Missing arraysize indicates length 1 [astropy.io.votable.converters]\n",
      "WARNING: W06: None:77:0: W06: Invalid UCD 'INST_ID': Unknown word 'INST_ID' [astropy.io.votable.tree]\n",
      "WARNING: W06: None:89:0: W06: Invalid UCD 'meta.ref.url;meta.curation': Primary word 'meta.curation' is not valid as a secondary word [astropy.io.votable.tree]\n",
      "WARNING: W06: None:104:0: W06: Invalid UCD 'POS_EQ_RA_MAIN': Unknown word 'POS_EQ_RA_MAIN' [astropy.io.votable.tree]\n",
      "WARNING: W06: None:107:0: W06: Invalid UCD 'POS_EQ_DEC_MAIN': Unknown word 'POS_EQ_DEC_MAIN' [astropy.io.votable.tree]\n",
      "WARNING: W06: None:110:0: W06: Invalid UCD 'pos.AngSize;instr.fov': Unknown word 'pos.AngSize' [astropy.io.votable.tree]\n",
      "WARNING: W06: None:137:0: W06: Invalid UCD 'time.stop;obs.exposure': Unknown word 'time.stop' [astropy.io.votable.tree]\n",
      "WARNING: W49: None:269:270: W49: Empty cell illegal for integer fields. [astropy.io.votable.converters]\n",
      "WARNING: W49: None:269:279: W49: Empty cell illegal for integer fields. [astropy.io.votable.converters]\n",
      "WARNING: W49: None:270:270: W49: Empty cell illegal for integer fields. [astropy.io.votable.converters]\n",
      "WARNING: W49: None:270:279: W49: Empty cell illegal for integer fields. [astropy.io.votable.converters]\n",
      "WARNING: W49: None:271:270: W49: Empty cell illegal for integer fields. [astropy.io.votable.converters]\n",
      "WARNING: W49: None:271:279: W49: Empty cell illegal for integer fields. [astropy.io.votable.converters]\n",
      "WARNING: W49: None:272:269: W49: Empty cell illegal for integer fields. [astropy.io.votable.converters]\n",
      "WARNING: W49: None:272:278: W49: Empty cell illegal for integer fields. [astropy.io.votable.converters]\n",
      "WARNING: W49: None:273:269: W49: Empty cell illegal for integer fields. [astropy.io.votable.converters]\n",
      "WARNING: W49: None:273:278: W49: Empty cell illegal for integer fields. (suppressing further warnings of this type...) [astropy.io.votable.converters]\n"
     ]
    },
    {
     "name": "stdout",
     "output_type": "stream",
     "text": [
      "The full image list contains 18 entries\n",
      "downloading deepest stacked image...\n",
      "Download of J224011.47-011448.62_desdr1_z_fov300 to ./cutouts/ completed\n"
     ]
    },
    {
     "name": "stderr",
     "output_type": "stream",
     "text": [
      "WARNING: FITSFixedWarning: 'datfix' made the change 'Changed '' to '2013-09-13T04:19:05.297''. [astropy.wcs.wcs]\n"
     ]
    },
    {
     "name": "stdout",
     "output_type": "stream",
     "text": [
      "flux:  22069.803603654025 sn:  42.30555811223302\n",
      "mag:  19.140503828879826\n"
     ]
    },
    {
     "name": "stderr",
     "output_type": "stream",
     "text": [
      "/Users/schindler/anaconda3/lib/python3.6/site-packages/pandas/core/indexing.py:543: SettingWithCopyWarning: \n",
      "A value is trying to be set on a copy of a slice from a DataFrame.\n",
      "Try using .loc[row_indexer,col_indexer] = value instead\n",
      "\n",
      "See the caveats in the documentation: http://pandas.pydata.org/pandas-docs/stable/indexing.html#indexing-view-versus-copy\n",
      "  self.obj[item] = s\n",
      "WARNING: W42: None:2:0: W42: No XML namespace specified [astropy.io.votable.tree]\n",
      "WARNING: W03: None:7:0: W03: Implicitly generating an ID from a name 'INPUT:POS' -> 'INPUT_POS' [astropy.io.votable.xmlutil]\n",
      "WARNING: W03: None:8:0: W03: Implicitly generating an ID from a name 'INPUT:SIZE' -> 'INPUT_SIZE' [astropy.io.votable.xmlutil]\n",
      "WARNING: W03: None:9:0: W03: Implicitly generating an ID from a name 'INPUT:FORMAT' -> 'INPUT_FORMAT' [astropy.io.votable.xmlutil]\n",
      "WARNING: W03: None:10:0: W03: Implicitly generating an ID from a name 'INPUT:INTERSECT' -> 'INPUT_INTERSECT' [astropy.io.votable.xmlutil]\n",
      "WARNING: W03: None:11:0: W03: Implicitly generating an ID from a name 'INPUT:VERB' -> 'INPUT_VERB' [astropy.io.votable.xmlutil]\n",
      "WARNING: W50: None:25:0: W50: Invalid unit string 'bytes' [astropy.io.votable.tree]\n",
      "WARNING: E10: None:76:0: E10: 'datatype' attribute required on all 'FIELD' elements [astropy.io.votable.tree]\n",
      "WARNING: W47: None:76:0: W47: Missing arraysize indicates length 1 [astropy.io.votable.converters]\n",
      "WARNING: W06: None:77:0: W06: Invalid UCD 'INST_ID': Unknown word 'INST_ID' [astropy.io.votable.tree]\n",
      "WARNING: W06: None:89:0: W06: Invalid UCD 'meta.ref.url;meta.curation': Primary word 'meta.curation' is not valid as a secondary word [astropy.io.votable.tree]\n",
      "WARNING: W06: None:104:0: W06: Invalid UCD 'POS_EQ_RA_MAIN': Unknown word 'POS_EQ_RA_MAIN' [astropy.io.votable.tree]\n",
      "WARNING: W06: None:107:0: W06: Invalid UCD 'POS_EQ_DEC_MAIN': Unknown word 'POS_EQ_DEC_MAIN' [astropy.io.votable.tree]\n",
      "WARNING: W06: None:110:0: W06: Invalid UCD 'pos.AngSize;instr.fov': Unknown word 'pos.AngSize' [astropy.io.votable.tree]\n",
      "WARNING: W06: None:137:0: W06: Invalid UCD 'time.stop;obs.exposure': Unknown word 'time.stop' [astropy.io.votable.tree]\n",
      "WARNING: W49: None:269:280: W49: Empty cell illegal for integer fields. [astropy.io.votable.converters]\n",
      "WARNING: W49: None:269:289: W49: Empty cell illegal for integer fields. [astropy.io.votable.converters]\n",
      "WARNING: W49: None:270:280: W49: Empty cell illegal for integer fields. [astropy.io.votable.converters]\n",
      "WARNING: W49: None:270:289: W49: Empty cell illegal for integer fields. [astropy.io.votable.converters]\n",
      "WARNING: W49: None:271:280: W49: Empty cell illegal for integer fields. [astropy.io.votable.converters]\n",
      "WARNING: W49: None:271:289: W49: Empty cell illegal for integer fields. [astropy.io.votable.converters]\n",
      "WARNING: W49: None:272:279: W49: Empty cell illegal for integer fields. [astropy.io.votable.converters]\n",
      "WARNING: W49: None:272:288: W49: Empty cell illegal for integer fields. [astropy.io.votable.converters]\n",
      "WARNING: W49: None:273:279: W49: Empty cell illegal for integer fields. [astropy.io.votable.converters]\n",
      "WARNING: W49: None:273:288: W49: Empty cell illegal for integer fields. (suppressing further warnings of this type...) [astropy.io.votable.converters]\n"
     ]
    },
    {
     "name": "stdout",
     "output_type": "stream",
     "text": [
      "The full image list contains 18 entries\n",
      "downloading deepest stacked image...\n",
      "Download of J224013.39-005404.40_desdr1_z_fov300 to ./cutouts/ completed\n"
     ]
    },
    {
     "name": "stderr",
     "output_type": "stream",
     "text": [
      "WARNING: FITSFixedWarning: 'datfix' made the change 'Changed '' to '2013-09-13T04:19:05.297''. [astropy.wcs.wcs]\n"
     ]
    },
    {
     "name": "stdout",
     "output_type": "stream",
     "text": [
      "flux:  143382.44751976777 sn:  193.70451713407306\n",
      "mag:  17.10876002634069\n"
     ]
    },
    {
     "name": "stderr",
     "output_type": "stream",
     "text": [
      "/Users/schindler/anaconda3/lib/python3.6/site-packages/pandas/core/indexing.py:543: SettingWithCopyWarning: \n",
      "A value is trying to be set on a copy of a slice from a DataFrame.\n",
      "Try using .loc[row_indexer,col_indexer] = value instead\n",
      "\n",
      "See the caveats in the documentation: http://pandas.pydata.org/pandas-docs/stable/indexing.html#indexing-view-versus-copy\n",
      "  self.obj[item] = s\n",
      "WARNING: W42: None:2:0: W42: No XML namespace specified [astropy.io.votable.tree]\n",
      "WARNING: W03: None:7:0: W03: Implicitly generating an ID from a name 'INPUT:POS' -> 'INPUT_POS' [astropy.io.votable.xmlutil]\n",
      "WARNING: W03: None:8:0: W03: Implicitly generating an ID from a name 'INPUT:SIZE' -> 'INPUT_SIZE' [astropy.io.votable.xmlutil]\n",
      "WARNING: W03: None:9:0: W03: Implicitly generating an ID from a name 'INPUT:FORMAT' -> 'INPUT_FORMAT' [astropy.io.votable.xmlutil]\n",
      "WARNING: W03: None:10:0: W03: Implicitly generating an ID from a name 'INPUT:INTERSECT' -> 'INPUT_INTERSECT' [astropy.io.votable.xmlutil]\n",
      "WARNING: W03: None:11:0: W03: Implicitly generating an ID from a name 'INPUT:VERB' -> 'INPUT_VERB' [astropy.io.votable.xmlutil]\n",
      "WARNING: W50: None:25:0: W50: Invalid unit string 'bytes' [astropy.io.votable.tree]\n",
      "WARNING: E10: None:76:0: E10: 'datatype' attribute required on all 'FIELD' elements [astropy.io.votable.tree]\n",
      "WARNING: W47: None:76:0: W47: Missing arraysize indicates length 1 [astropy.io.votable.converters]\n",
      "WARNING: W06: None:77:0: W06: Invalid UCD 'INST_ID': Unknown word 'INST_ID' [astropy.io.votable.tree]\n",
      "WARNING: W06: None:89:0: W06: Invalid UCD 'meta.ref.url;meta.curation': Primary word 'meta.curation' is not valid as a secondary word [astropy.io.votable.tree]\n",
      "WARNING: W06: None:104:0: W06: Invalid UCD 'POS_EQ_RA_MAIN': Unknown word 'POS_EQ_RA_MAIN' [astropy.io.votable.tree]\n",
      "WARNING: W06: None:107:0: W06: Invalid UCD 'POS_EQ_DEC_MAIN': Unknown word 'POS_EQ_DEC_MAIN' [astropy.io.votable.tree]\n",
      "WARNING: W06: None:110:0: W06: Invalid UCD 'pos.AngSize;instr.fov': Unknown word 'pos.AngSize' [astropy.io.votable.tree]\n",
      "WARNING: W06: None:137:0: W06: Invalid UCD 'time.stop;obs.exposure': Unknown word 'time.stop' [astropy.io.votable.tree]\n",
      "WARNING: W49: None:269:288: W49: Empty cell illegal for integer fields. [astropy.io.votable.converters]\n",
      "WARNING: W49: None:269:297: W49: Empty cell illegal for integer fields. [astropy.io.votable.converters]\n",
      "WARNING: W49: None:270:288: W49: Empty cell illegal for integer fields. [astropy.io.votable.converters]\n",
      "WARNING: W49: None:270:297: W49: Empty cell illegal for integer fields. [astropy.io.votable.converters]\n",
      "WARNING: W49: None:271:288: W49: Empty cell illegal for integer fields. [astropy.io.votable.converters]\n",
      "WARNING: W49: None:271:297: W49: Empty cell illegal for integer fields. [astropy.io.votable.converters]\n",
      "WARNING: W49: None:272:287: W49: Empty cell illegal for integer fields. [astropy.io.votable.converters]\n",
      "WARNING: W49: None:272:296: W49: Empty cell illegal for integer fields. [astropy.io.votable.converters]\n",
      "WARNING: W49: None:273:287: W49: Empty cell illegal for integer fields. [astropy.io.votable.converters]\n",
      "WARNING: W49: None:273:296: W49: Empty cell illegal for integer fields. (suppressing further warnings of this type...) [astropy.io.votable.converters]\n"
     ]
    },
    {
     "name": "stdout",
     "output_type": "stream",
     "text": [
      "The full image list contains 18 entries\n",
      "downloading deepest stacked image...\n",
      "Download of J224014.28-001121.15_desdr1_z_fov300 to ./cutouts/ completed\n"
     ]
    },
    {
     "name": "stderr",
     "output_type": "stream",
     "text": [
      "WARNING: FITSFixedWarning: 'datfix' made the change 'Changed '' to '2013-09-13T04:19:05.297''. [astropy.wcs.wcs]\n"
     ]
    },
    {
     "name": "stdout",
     "output_type": "stream",
     "text": [
      "flux:  24173.011868962156 sn:  29.78614167955787\n",
      "mag:  19.041673086788208\n"
     ]
    },
    {
     "name": "stderr",
     "output_type": "stream",
     "text": [
      "/Users/schindler/anaconda3/lib/python3.6/site-packages/pandas/core/indexing.py:543: SettingWithCopyWarning: \n",
      "A value is trying to be set on a copy of a slice from a DataFrame.\n",
      "Try using .loc[row_indexer,col_indexer] = value instead\n",
      "\n",
      "See the caveats in the documentation: http://pandas.pydata.org/pandas-docs/stable/indexing.html#indexing-view-versus-copy\n",
      "  self.obj[item] = s\n",
      "WARNING: W42: None:2:0: W42: No XML namespace specified [astropy.io.votable.tree]\n",
      "WARNING: W03: None:7:0: W03: Implicitly generating an ID from a name 'INPUT:POS' -> 'INPUT_POS' [astropy.io.votable.xmlutil]\n",
      "WARNING: W03: None:8:0: W03: Implicitly generating an ID from a name 'INPUT:SIZE' -> 'INPUT_SIZE' [astropy.io.votable.xmlutil]\n",
      "WARNING: W03: None:9:0: W03: Implicitly generating an ID from a name 'INPUT:FORMAT' -> 'INPUT_FORMAT' [astropy.io.votable.xmlutil]\n",
      "WARNING: W03: None:10:0: W03: Implicitly generating an ID from a name 'INPUT:INTERSECT' -> 'INPUT_INTERSECT' [astropy.io.votable.xmlutil]\n",
      "WARNING: W03: None:11:0: W03: Implicitly generating an ID from a name 'INPUT:VERB' -> 'INPUT_VERB' [astropy.io.votable.xmlutil]\n",
      "WARNING: W50: None:25:0: W50: Invalid unit string 'bytes' [astropy.io.votable.tree]\n",
      "WARNING: E10: None:76:0: E10: 'datatype' attribute required on all 'FIELD' elements [astropy.io.votable.tree]\n",
      "WARNING: W47: None:76:0: W47: Missing arraysize indicates length 1 [astropy.io.votable.converters]\n",
      "WARNING: W06: None:77:0: W06: Invalid UCD 'INST_ID': Unknown word 'INST_ID' [astropy.io.votable.tree]\n",
      "WARNING: W06: None:89:0: W06: Invalid UCD 'meta.ref.url;meta.curation': Primary word 'meta.curation' is not valid as a secondary word [astropy.io.votable.tree]\n",
      "WARNING: W06: None:104:0: W06: Invalid UCD 'POS_EQ_RA_MAIN': Unknown word 'POS_EQ_RA_MAIN' [astropy.io.votable.tree]\n",
      "WARNING: W06: None:107:0: W06: Invalid UCD 'POS_EQ_DEC_MAIN': Unknown word 'POS_EQ_DEC_MAIN' [astropy.io.votable.tree]\n",
      "WARNING: W06: None:110:0: W06: Invalid UCD 'pos.AngSize;instr.fov': Unknown word 'pos.AngSize' [astropy.io.votable.tree]\n",
      "WARNING: W06: None:137:0: W06: Invalid UCD 'time.stop;obs.exposure': Unknown word 'time.stop' [astropy.io.votable.tree]\n",
      "WARNING: W49: None:269:271: W49: Empty cell illegal for integer fields. [astropy.io.votable.converters]\n",
      "WARNING: W49: None:269:280: W49: Empty cell illegal for integer fields. [astropy.io.votable.converters]\n",
      "WARNING: W49: None:270:271: W49: Empty cell illegal for integer fields. [astropy.io.votable.converters]\n",
      "WARNING: W49: None:270:280: W49: Empty cell illegal for integer fields. [astropy.io.votable.converters]\n",
      "WARNING: W49: None:271:271: W49: Empty cell illegal for integer fields. [astropy.io.votable.converters]\n",
      "WARNING: W49: None:271:280: W49: Empty cell illegal for integer fields. [astropy.io.votable.converters]\n",
      "WARNING: W49: None:272:270: W49: Empty cell illegal for integer fields. [astropy.io.votable.converters]\n",
      "WARNING: W49: None:272:279: W49: Empty cell illegal for integer fields. [astropy.io.votable.converters]\n",
      "WARNING: W49: None:273:270: W49: Empty cell illegal for integer fields. [astropy.io.votable.converters]\n",
      "WARNING: W49: None:273:279: W49: Empty cell illegal for integer fields. (suppressing further warnings of this type...) [astropy.io.votable.converters]\n"
     ]
    },
    {
     "name": "stdout",
     "output_type": "stream",
     "text": [
      "The full image list contains 18 entries\n",
      "downloading deepest stacked image...\n",
      "Download of J224017.29-011442.85_desdr1_z_fov300 to ./cutouts/ completed\n"
     ]
    },
    {
     "name": "stderr",
     "output_type": "stream",
     "text": [
      "WARNING: FITSFixedWarning: 'datfix' made the change 'Changed '' to '2013-09-13T04:19:05.297''. [astropy.wcs.wcs]\n"
     ]
    },
    {
     "name": "stdout",
     "output_type": "stream",
     "text": [
      "flux:  20375.848510103973 sn:  37.0383100975895\n",
      "mag:  19.227210742287987\n"
     ]
    },
    {
     "name": "stderr",
     "output_type": "stream",
     "text": [
      "/Users/schindler/anaconda3/lib/python3.6/site-packages/pandas/core/indexing.py:543: SettingWithCopyWarning: \n",
      "A value is trying to be set on a copy of a slice from a DataFrame.\n",
      "Try using .loc[row_indexer,col_indexer] = value instead\n",
      "\n",
      "See the caveats in the documentation: http://pandas.pydata.org/pandas-docs/stable/indexing.html#indexing-view-versus-copy\n",
      "  self.obj[item] = s\n",
      "WARNING: W42: None:2:0: W42: No XML namespace specified [astropy.io.votable.tree]\n",
      "WARNING: W03: None:7:0: W03: Implicitly generating an ID from a name 'INPUT:POS' -> 'INPUT_POS' [astropy.io.votable.xmlutil]\n",
      "WARNING: W03: None:8:0: W03: Implicitly generating an ID from a name 'INPUT:SIZE' -> 'INPUT_SIZE' [astropy.io.votable.xmlutil]\n",
      "WARNING: W03: None:9:0: W03: Implicitly generating an ID from a name 'INPUT:FORMAT' -> 'INPUT_FORMAT' [astropy.io.votable.xmlutil]\n",
      "WARNING: W03: None:10:0: W03: Implicitly generating an ID from a name 'INPUT:INTERSECT' -> 'INPUT_INTERSECT' [astropy.io.votable.xmlutil]\n",
      "WARNING: W03: None:11:0: W03: Implicitly generating an ID from a name 'INPUT:VERB' -> 'INPUT_VERB' [astropy.io.votable.xmlutil]\n",
      "WARNING: W50: None:25:0: W50: Invalid unit string 'bytes' [astropy.io.votable.tree]\n",
      "WARNING: E10: None:76:0: E10: 'datatype' attribute required on all 'FIELD' elements [astropy.io.votable.tree]\n",
      "WARNING: W47: None:76:0: W47: Missing arraysize indicates length 1 [astropy.io.votable.converters]\n",
      "WARNING: W06: None:77:0: W06: Invalid UCD 'INST_ID': Unknown word 'INST_ID' [astropy.io.votable.tree]\n",
      "WARNING: W06: None:89:0: W06: Invalid UCD 'meta.ref.url;meta.curation': Primary word 'meta.curation' is not valid as a secondary word [astropy.io.votable.tree]\n",
      "WARNING: W06: None:104:0: W06: Invalid UCD 'POS_EQ_RA_MAIN': Unknown word 'POS_EQ_RA_MAIN' [astropy.io.votable.tree]\n",
      "WARNING: W06: None:107:0: W06: Invalid UCD 'POS_EQ_DEC_MAIN': Unknown word 'POS_EQ_DEC_MAIN' [astropy.io.votable.tree]\n",
      "WARNING: W06: None:110:0: W06: Invalid UCD 'pos.AngSize;instr.fov': Unknown word 'pos.AngSize' [astropy.io.votable.tree]\n",
      "WARNING: W06: None:137:0: W06: Invalid UCD 'time.stop;obs.exposure': Unknown word 'time.stop' [astropy.io.votable.tree]\n",
      "WARNING: W49: None:269:281: W49: Empty cell illegal for integer fields. [astropy.io.votable.converters]\n",
      "WARNING: W49: None:269:290: W49: Empty cell illegal for integer fields. [astropy.io.votable.converters]\n",
      "WARNING: W49: None:270:281: W49: Empty cell illegal for integer fields. [astropy.io.votable.converters]\n",
      "WARNING: W49: None:270:290: W49: Empty cell illegal for integer fields. [astropy.io.votable.converters]\n",
      "WARNING: W49: None:271:281: W49: Empty cell illegal for integer fields. [astropy.io.votable.converters]\n",
      "WARNING: W49: None:271:290: W49: Empty cell illegal for integer fields. [astropy.io.votable.converters]\n",
      "WARNING: W49: None:272:280: W49: Empty cell illegal for integer fields. [astropy.io.votable.converters]\n",
      "WARNING: W49: None:272:289: W49: Empty cell illegal for integer fields. [astropy.io.votable.converters]\n",
      "WARNING: W49: None:273:280: W49: Empty cell illegal for integer fields. [astropy.io.votable.converters]\n",
      "WARNING: W49: None:273:289: W49: Empty cell illegal for integer fields. (suppressing further warnings of this type...) [astropy.io.votable.converters]\n"
     ]
    },
    {
     "name": "stdout",
     "output_type": "stream",
     "text": [
      "The full image list contains 18 entries\n",
      "downloading deepest stacked image...\n",
      "Download of J224018.29-005223.75_desdr1_z_fov300 to ./cutouts/ completed\n"
     ]
    },
    {
     "name": "stderr",
     "output_type": "stream",
     "text": [
      "WARNING: FITSFixedWarning: 'datfix' made the change 'Changed '' to '2013-09-13T04:19:05.297''. [astropy.wcs.wcs]\n"
     ]
    },
    {
     "name": "stdout",
     "output_type": "stream",
     "text": [
      "flux:  4120.285535922089 sn:  5.29132306140063\n",
      "mag:  20.9626817157555\n"
     ]
    },
    {
     "name": "stderr",
     "output_type": "stream",
     "text": [
      "/Users/schindler/anaconda3/lib/python3.6/site-packages/pandas/core/indexing.py:543: SettingWithCopyWarning: \n",
      "A value is trying to be set on a copy of a slice from a DataFrame.\n",
      "Try using .loc[row_indexer,col_indexer] = value instead\n",
      "\n",
      "See the caveats in the documentation: http://pandas.pydata.org/pandas-docs/stable/indexing.html#indexing-view-versus-copy\n",
      "  self.obj[item] = s\n",
      "WARNING: W42: None:2:0: W42: No XML namespace specified [astropy.io.votable.tree]\n",
      "WARNING: W03: None:7:0: W03: Implicitly generating an ID from a name 'INPUT:POS' -> 'INPUT_POS' [astropy.io.votable.xmlutil]\n",
      "WARNING: W03: None:8:0: W03: Implicitly generating an ID from a name 'INPUT:SIZE' -> 'INPUT_SIZE' [astropy.io.votable.xmlutil]\n",
      "WARNING: W03: None:9:0: W03: Implicitly generating an ID from a name 'INPUT:FORMAT' -> 'INPUT_FORMAT' [astropy.io.votable.xmlutil]\n",
      "WARNING: W03: None:10:0: W03: Implicitly generating an ID from a name 'INPUT:INTERSECT' -> 'INPUT_INTERSECT' [astropy.io.votable.xmlutil]\n",
      "WARNING: W03: None:11:0: W03: Implicitly generating an ID from a name 'INPUT:VERB' -> 'INPUT_VERB' [astropy.io.votable.xmlutil]\n",
      "WARNING: W50: None:25:0: W50: Invalid unit string 'bytes' [astropy.io.votable.tree]\n",
      "WARNING: E10: None:76:0: E10: 'datatype' attribute required on all 'FIELD' elements [astropy.io.votable.tree]\n",
      "WARNING: W47: None:76:0: W47: Missing arraysize indicates length 1 [astropy.io.votable.converters]\n",
      "WARNING: W06: None:77:0: W06: Invalid UCD 'INST_ID': Unknown word 'INST_ID' [astropy.io.votable.tree]\n",
      "WARNING: W06: None:89:0: W06: Invalid UCD 'meta.ref.url;meta.curation': Primary word 'meta.curation' is not valid as a secondary word [astropy.io.votable.tree]\n",
      "WARNING: W06: None:104:0: W06: Invalid UCD 'POS_EQ_RA_MAIN': Unknown word 'POS_EQ_RA_MAIN' [astropy.io.votable.tree]\n",
      "WARNING: W06: None:107:0: W06: Invalid UCD 'POS_EQ_DEC_MAIN': Unknown word 'POS_EQ_DEC_MAIN' [astropy.io.votable.tree]\n",
      "WARNING: W06: None:110:0: W06: Invalid UCD 'pos.AngSize;instr.fov': Unknown word 'pos.AngSize' [astropy.io.votable.tree]\n",
      "WARNING: W06: None:137:0: W06: Invalid UCD 'time.stop;obs.exposure': Unknown word 'time.stop' [astropy.io.votable.tree]\n",
      "WARNING: W49: None:269:282: W49: Empty cell illegal for integer fields. [astropy.io.votable.converters]\n",
      "WARNING: W49: None:269:291: W49: Empty cell illegal for integer fields. [astropy.io.votable.converters]\n",
      "WARNING: W49: None:270:282: W49: Empty cell illegal for integer fields. [astropy.io.votable.converters]\n",
      "WARNING: W49: None:270:291: W49: Empty cell illegal for integer fields. [astropy.io.votable.converters]\n",
      "WARNING: W49: None:271:282: W49: Empty cell illegal for integer fields. [astropy.io.votable.converters]\n",
      "WARNING: W49: None:271:291: W49: Empty cell illegal for integer fields. [astropy.io.votable.converters]\n",
      "WARNING: W49: None:272:281: W49: Empty cell illegal for integer fields. [astropy.io.votable.converters]\n",
      "WARNING: W49: None:272:290: W49: Empty cell illegal for integer fields. [astropy.io.votable.converters]\n",
      "WARNING: W49: None:273:281: W49: Empty cell illegal for integer fields. [astropy.io.votable.converters]\n",
      "WARNING: W49: None:273:290: W49: Empty cell illegal for integer fields. (suppressing further warnings of this type...) [astropy.io.votable.converters]\n"
     ]
    },
    {
     "name": "stdout",
     "output_type": "stream",
     "text": [
      "The full image list contains 18 entries\n",
      "downloading deepest stacked image...\n",
      "Download of J224018.58-000656.89_desdr1_z_fov300 to ./cutouts/ completed\n"
     ]
    },
    {
     "name": "stderr",
     "output_type": "stream",
     "text": [
      "WARNING: FITSFixedWarning: 'datfix' made the change 'Changed '' to '2013-09-13T04:19:05.297''. [astropy.wcs.wcs]\n"
     ]
    },
    {
     "name": "stdout",
     "output_type": "stream",
     "text": [
      "flux:  6626.362411214352 sn:  10.525383293920175\n",
      "mag:  20.446812038066028\n"
     ]
    },
    {
     "name": "stderr",
     "output_type": "stream",
     "text": [
      "/Users/schindler/anaconda3/lib/python3.6/site-packages/pandas/core/indexing.py:543: SettingWithCopyWarning: \n",
      "A value is trying to be set on a copy of a slice from a DataFrame.\n",
      "Try using .loc[row_indexer,col_indexer] = value instead\n",
      "\n",
      "See the caveats in the documentation: http://pandas.pydata.org/pandas-docs/stable/indexing.html#indexing-view-versus-copy\n",
      "  self.obj[item] = s\n",
      "WARNING: W42: None:2:0: W42: No XML namespace specified [astropy.io.votable.tree]\n",
      "WARNING: W03: None:7:0: W03: Implicitly generating an ID from a name 'INPUT:POS' -> 'INPUT_POS' [astropy.io.votable.xmlutil]\n",
      "WARNING: W03: None:8:0: W03: Implicitly generating an ID from a name 'INPUT:SIZE' -> 'INPUT_SIZE' [astropy.io.votable.xmlutil]\n",
      "WARNING: W03: None:9:0: W03: Implicitly generating an ID from a name 'INPUT:FORMAT' -> 'INPUT_FORMAT' [astropy.io.votable.xmlutil]\n",
      "WARNING: W03: None:10:0: W03: Implicitly generating an ID from a name 'INPUT:INTERSECT' -> 'INPUT_INTERSECT' [astropy.io.votable.xmlutil]\n",
      "WARNING: W03: None:11:0: W03: Implicitly generating an ID from a name 'INPUT:VERB' -> 'INPUT_VERB' [astropy.io.votable.xmlutil]\n",
      "WARNING: W50: None:25:0: W50: Invalid unit string 'bytes' [astropy.io.votable.tree]\n",
      "WARNING: E10: None:76:0: E10: 'datatype' attribute required on all 'FIELD' elements [astropy.io.votable.tree]\n",
      "WARNING: W47: None:76:0: W47: Missing arraysize indicates length 1 [astropy.io.votable.converters]\n",
      "WARNING: W06: None:77:0: W06: Invalid UCD 'INST_ID': Unknown word 'INST_ID' [astropy.io.votable.tree]\n",
      "WARNING: W06: None:89:0: W06: Invalid UCD 'meta.ref.url;meta.curation': Primary word 'meta.curation' is not valid as a secondary word [astropy.io.votable.tree]\n",
      "WARNING: W06: None:104:0: W06: Invalid UCD 'POS_EQ_RA_MAIN': Unknown word 'POS_EQ_RA_MAIN' [astropy.io.votable.tree]\n",
      "WARNING: W06: None:107:0: W06: Invalid UCD 'POS_EQ_DEC_MAIN': Unknown word 'POS_EQ_DEC_MAIN' [astropy.io.votable.tree]\n",
      "WARNING: W06: None:110:0: W06: Invalid UCD 'pos.AngSize;instr.fov': Unknown word 'pos.AngSize' [astropy.io.votable.tree]\n",
      "WARNING: W06: None:137:0: W06: Invalid UCD 'time.stop;obs.exposure': Unknown word 'time.stop' [astropy.io.votable.tree]\n",
      "WARNING: W49: None:269:283: W49: Empty cell illegal for integer fields. [astropy.io.votable.converters]\n",
      "WARNING: W49: None:269:292: W49: Empty cell illegal for integer fields. [astropy.io.votable.converters]\n",
      "WARNING: W49: None:270:283: W49: Empty cell illegal for integer fields. [astropy.io.votable.converters]\n",
      "WARNING: W49: None:270:292: W49: Empty cell illegal for integer fields. [astropy.io.votable.converters]\n",
      "WARNING: W49: None:271:283: W49: Empty cell illegal for integer fields. [astropy.io.votable.converters]\n",
      "WARNING: W49: None:271:292: W49: Empty cell illegal for integer fields. [astropy.io.votable.converters]\n",
      "WARNING: W49: None:272:282: W49: Empty cell illegal for integer fields. [astropy.io.votable.converters]\n",
      "WARNING: W49: None:272:291: W49: Empty cell illegal for integer fields. [astropy.io.votable.converters]\n",
      "WARNING: W49: None:273:282: W49: Empty cell illegal for integer fields. [astropy.io.votable.converters]\n",
      "WARNING: W49: None:273:291: W49: Empty cell illegal for integer fields. (suppressing further warnings of this type...) [astropy.io.votable.converters]\n"
     ]
    },
    {
     "name": "stdout",
     "output_type": "stream",
     "text": [
      "The full image list contains 18 entries\n",
      "downloading deepest stacked image...\n",
      "Download of J224022.77-000151.97_desdr1_z_fov300 to ./cutouts/ completed\n"
     ]
    },
    {
     "name": "stderr",
     "output_type": "stream",
     "text": [
      "WARNING: FITSFixedWarning: 'datfix' made the change 'Changed '' to '2013-09-13T04:19:05.297''. [astropy.wcs.wcs]\n"
     ]
    },
    {
     "name": "stdout",
     "output_type": "stream",
     "text": [
      "flux:  7433.403106524133 sn:  11.329907367203994\n",
      "mag:  20.322030787933393\n"
     ]
    },
    {
     "name": "stderr",
     "output_type": "stream",
     "text": [
      "/Users/schindler/anaconda3/lib/python3.6/site-packages/pandas/core/indexing.py:543: SettingWithCopyWarning: \n",
      "A value is trying to be set on a copy of a slice from a DataFrame.\n",
      "Try using .loc[row_indexer,col_indexer] = value instead\n",
      "\n",
      "See the caveats in the documentation: http://pandas.pydata.org/pandas-docs/stable/indexing.html#indexing-view-versus-copy\n",
      "  self.obj[item] = s\n"
     ]
    },
    {
     "name": "stdout",
     "output_type": "stream",
     "text": [
      "Download of J224007.14-005332.81_unwise-neo3_w1_fov300 to ./cutouts/ completed\n",
      "flux:  9050.998583555716 sn:  276.51575776335284\n",
      "mag:  12.608258757676637\n"
     ]
    },
    {
     "name": "stderr",
     "output_type": "stream",
     "text": [
      "/Users/schindler/anaconda3/lib/python3.6/site-packages/pandas/core/indexing.py:362: SettingWithCopyWarning: \n",
      "A value is trying to be set on a copy of a slice from a DataFrame.\n",
      "Try using .loc[row_indexer,col_indexer] = value instead\n",
      "\n",
      "See the caveats in the documentation: http://pandas.pydata.org/pandas-docs/stable/indexing.html#indexing-view-versus-copy\n",
      "  self.obj[key] = _infer_fill_value(value)\n",
      "/Users/schindler/anaconda3/lib/python3.6/site-packages/pandas/core/indexing.py:543: SettingWithCopyWarning: \n",
      "A value is trying to be set on a copy of a slice from a DataFrame.\n",
      "Try using .loc[row_indexer,col_indexer] = value instead\n",
      "\n",
      "See the caveats in the documentation: http://pandas.pydata.org/pandas-docs/stable/indexing.html#indexing-view-versus-copy\n",
      "  self.obj[item] = s\n"
     ]
    },
    {
     "name": "stdout",
     "output_type": "stream",
     "text": [
      "Download of J224007.90-011522.10_unwise-neo3_w1_fov300 to ./cutouts/ completed\n",
      "flux:  243.74422689811794 sn:  10.26906286626502\n",
      "mag:  16.532664154519537\n"
     ]
    },
    {
     "name": "stderr",
     "output_type": "stream",
     "text": [
      "/Users/schindler/anaconda3/lib/python3.6/site-packages/pandas/core/indexing.py:543: SettingWithCopyWarning: \n",
      "A value is trying to be set on a copy of a slice from a DataFrame.\n",
      "Try using .loc[row_indexer,col_indexer] = value instead\n",
      "\n",
      "See the caveats in the documentation: http://pandas.pydata.org/pandas-docs/stable/indexing.html#indexing-view-versus-copy\n",
      "  self.obj[item] = s\n"
     ]
    },
    {
     "name": "stdout",
     "output_type": "stream",
     "text": [
      "Download of J224009.37-003856.60_unwise-neo3_w1_fov300 to ./cutouts/ completed\n",
      "flux:  2545.7152097359412 sn:  74.68258353713095\n",
      "mag:  13.985475456692308\n"
     ]
    },
    {
     "name": "stderr",
     "output_type": "stream",
     "text": [
      "/Users/schindler/anaconda3/lib/python3.6/site-packages/pandas/core/indexing.py:543: SettingWithCopyWarning: \n",
      "A value is trying to be set on a copy of a slice from a DataFrame.\n",
      "Try using .loc[row_indexer,col_indexer] = value instead\n",
      "\n",
      "See the caveats in the documentation: http://pandas.pydata.org/pandas-docs/stable/indexing.html#indexing-view-versus-copy\n",
      "  self.obj[item] = s\n"
     ]
    },
    {
     "name": "stdout",
     "output_type": "stream",
     "text": [
      "Download of J224011.47-011448.62_unwise-neo3_w1_fov300 to ./cutouts/ completed\n",
      "flux:  333.6107022837959 sn:  10.915156191545993\n",
      "mag:  16.19190006393885\n"
     ]
    },
    {
     "name": "stderr",
     "output_type": "stream",
     "text": [
      "/Users/schindler/anaconda3/lib/python3.6/site-packages/pandas/core/indexing.py:543: SettingWithCopyWarning: \n",
      "A value is trying to be set on a copy of a slice from a DataFrame.\n",
      "Try using .loc[row_indexer,col_indexer] = value instead\n",
      "\n",
      "See the caveats in the documentation: http://pandas.pydata.org/pandas-docs/stable/indexing.html#indexing-view-versus-copy\n",
      "  self.obj[item] = s\n"
     ]
    },
    {
     "name": "stdout",
     "output_type": "stream",
     "text": [
      "Download of J224013.39-005404.40_unwise-neo3_w1_fov300 to ./cutouts/ completed\n",
      "flux:  1999.5038459490936 sn:  59.01733020697069\n",
      "mag:  14.247694390462978\n"
     ]
    },
    {
     "name": "stderr",
     "output_type": "stream",
     "text": [
      "/Users/schindler/anaconda3/lib/python3.6/site-packages/pandas/core/indexing.py:543: SettingWithCopyWarning: \n",
      "A value is trying to be set on a copy of a slice from a DataFrame.\n",
      "Try using .loc[row_indexer,col_indexer] = value instead\n",
      "\n",
      "See the caveats in the documentation: http://pandas.pydata.org/pandas-docs/stable/indexing.html#indexing-view-versus-copy\n",
      "  self.obj[item] = s\n"
     ]
    },
    {
     "name": "stdout",
     "output_type": "stream",
     "text": [
      "Download of J224014.28-001121.15_unwise-neo3_w1_fov300 to ./cutouts/ completed\n",
      "flux:  733.4057422835456 sn:  20.298633575597442\n",
      "mag:  15.336639235010349\n"
     ]
    },
    {
     "name": "stderr",
     "output_type": "stream",
     "text": [
      "/Users/schindler/anaconda3/lib/python3.6/site-packages/pandas/core/indexing.py:543: SettingWithCopyWarning: \n",
      "A value is trying to be set on a copy of a slice from a DataFrame.\n",
      "Try using .loc[row_indexer,col_indexer] = value instead\n",
      "\n",
      "See the caveats in the documentation: http://pandas.pydata.org/pandas-docs/stable/indexing.html#indexing-view-versus-copy\n",
      "  self.obj[item] = s\n"
     ]
    },
    {
     "name": "stdout",
     "output_type": "stream",
     "text": [
      "Download of J224017.29-011442.85_unwise-neo3_w1_fov300 to ./cutouts/ completed\n",
      "flux:  606.4168450720745 sn:  17.996087256274905\n",
      "mag:  15.543071858396141\n"
     ]
    },
    {
     "name": "stderr",
     "output_type": "stream",
     "text": [
      "/Users/schindler/anaconda3/lib/python3.6/site-packages/pandas/core/indexing.py:543: SettingWithCopyWarning: \n",
      "A value is trying to be set on a copy of a slice from a DataFrame.\n",
      "Try using .loc[row_indexer,col_indexer] = value instead\n",
      "\n",
      "See the caveats in the documentation: http://pandas.pydata.org/pandas-docs/stable/indexing.html#indexing-view-versus-copy\n",
      "  self.obj[item] = s\n"
     ]
    },
    {
     "name": "stdout",
     "output_type": "stream",
     "text": [
      "Download of J224018.29-005223.75_unwise-neo3_w1_fov300 to ./cutouts/ completed\n",
      "flux:  424.5232174023386 sn:  11.281687279799089\n",
      "mag:  15.930246382431184\n"
     ]
    },
    {
     "name": "stderr",
     "output_type": "stream",
     "text": [
      "/Users/schindler/anaconda3/lib/python3.6/site-packages/pandas/core/indexing.py:543: SettingWithCopyWarning: \n",
      "A value is trying to be set on a copy of a slice from a DataFrame.\n",
      "Try using .loc[row_indexer,col_indexer] = value instead\n",
      "\n",
      "See the caveats in the documentation: http://pandas.pydata.org/pandas-docs/stable/indexing.html#indexing-view-versus-copy\n",
      "  self.obj[item] = s\n"
     ]
    },
    {
     "name": "stdout",
     "output_type": "stream",
     "text": [
      "Download of J224018.58-000656.89_unwise-neo3_w1_fov300 to ./cutouts/ completed\n",
      "flux:  275.55143321511366 sn:  5.112514617920476\n",
      "mag:  16.399493314383463\n"
     ]
    },
    {
     "name": "stderr",
     "output_type": "stream",
     "text": [
      "/Users/schindler/anaconda3/lib/python3.6/site-packages/pandas/core/indexing.py:543: SettingWithCopyWarning: \n",
      "A value is trying to be set on a copy of a slice from a DataFrame.\n",
      "Try using .loc[row_indexer,col_indexer] = value instead\n",
      "\n",
      "See the caveats in the documentation: http://pandas.pydata.org/pandas-docs/stable/indexing.html#indexing-view-versus-copy\n",
      "  self.obj[item] = s\n"
     ]
    },
    {
     "name": "stdout",
     "output_type": "stream",
     "text": [
      "Download of J224022.77-000151.97_unwise-neo3_w1_fov300 to ./cutouts/ completed\n",
      "flux:  518.6755886374915 sn:  17.666133180605133\n",
      "mag:  15.712760478770198\n"
     ]
    },
    {
     "name": "stderr",
     "output_type": "stream",
     "text": [
      "/Users/schindler/anaconda3/lib/python3.6/site-packages/pandas/core/indexing.py:543: SettingWithCopyWarning: \n",
      "A value is trying to be set on a copy of a slice from a DataFrame.\n",
      "Try using .loc[row_indexer,col_indexer] = value instead\n",
      "\n",
      "See the caveats in the documentation: http://pandas.pydata.org/pandas-docs/stable/indexing.html#indexing-view-versus-copy\n",
      "  self.obj[item] = s\n"
     ]
    }
   ],
   "source": [
    "surveys = ['desdr1','unwise-neo3']\n",
    "bands = ['z','w1']\n",
    "apertures = [6, 10]\n",
    "fovs = [300, 300]\n",
    "\n",
    "forced_photometry = it.get_forced_photometry(test_set[:10], 'mq_ra', 'mq_dec', surveys, bands, apertures, fovs,\n",
    "                         './cutouts/', auto_download=True, verbosity=2)"
   ]
  },
  {
   "cell_type": "code",
   "execution_count": 10,
   "metadata": {},
   "outputs": [
    {
     "data": {
      "text/html": [
       "<div>\n",
       "<style scoped>\n",
       "    .dataframe tbody tr th:only-of-type {\n",
       "        vertical-align: middle;\n",
       "    }\n",
       "\n",
       "    .dataframe tbody tr th {\n",
       "        vertical-align: top;\n",
       "    }\n",
       "\n",
       "    .dataframe thead th {\n",
       "        text-align: right;\n",
       "    }\n",
       "</style>\n",
       "<table border=\"1\" class=\"dataframe\">\n",
       "  <thead>\n",
       "    <tr style=\"text-align: right;\">\n",
       "      <th></th>\n",
       "      <th>mq_ra</th>\n",
       "      <th>mq_dec</th>\n",
       "      <th>mq_name</th>\n",
       "      <th>mq_z</th>\n",
       "      <th>mq_cite</th>\n",
       "      <th>temp_object_name</th>\n",
       "      <th>forced_desdr1_mag_z</th>\n",
       "      <th>forced_desdr1_flux_z</th>\n",
       "      <th>forced_desdr1_sn_z</th>\n",
       "      <th>forced_desdr1_magerr_z</th>\n",
       "      <th>forced_desdr1_z_comment</th>\n",
       "      <th>forced_unwise-neo3_mag_w1</th>\n",
       "      <th>forced_unwise-neo3_flux_w1</th>\n",
       "      <th>forced_unwise-neo3_sn_w1</th>\n",
       "      <th>forced_unwise-neo3_magerr_w1</th>\n",
       "      <th>forced_unwise-neo3_w1_comment</th>\n",
       "    </tr>\n",
       "  </thead>\n",
       "  <tbody>\n",
       "    <tr>\n",
       "      <th>29552</th>\n",
       "      <td>340.029741</td>\n",
       "      <td>-0.892448</td>\n",
       "      <td>PGC 1132088</td>\n",
       "      <td>0.054</td>\n",
       "      <td>PGC</td>\n",
       "      <td>J224007.14-005332.81</td>\n",
       "      <td>15.082608</td>\n",
       "      <td>926737.944564</td>\n",
       "      <td>1202.826180</td>\n",
       "      <td>0.000903</td>\n",
       "      <td>ap_6</td>\n",
       "      <td>12.608259</td>\n",
       "      <td>9050.998584</td>\n",
       "      <td>276.515758</td>\n",
       "      <td>0.003926</td>\n",
       "      <td>ap_10</td>\n",
       "    </tr>\n",
       "    <tr>\n",
       "      <th>29553</th>\n",
       "      <td>340.032899</td>\n",
       "      <td>-1.256140</td>\n",
       "      <td>SDSS J224007.89-011522.1</td>\n",
       "      <td>0.659</td>\n",
       "      <td>DR14Q</td>\n",
       "      <td>J224007.90-011522.10</td>\n",
       "      <td>19.857754</td>\n",
       "      <td>11399.831091</td>\n",
       "      <td>20.784272</td>\n",
       "      <td>0.052238</td>\n",
       "      <td>ap_6</td>\n",
       "      <td>16.532664</td>\n",
       "      <td>243.744227</td>\n",
       "      <td>10.269063</td>\n",
       "      <td>0.105729</td>\n",
       "      <td>ap_10</td>\n",
       "    </tr>\n",
       "    <tr>\n",
       "      <th>29554</th>\n",
       "      <td>340.039043</td>\n",
       "      <td>-0.649055</td>\n",
       "      <td>SDSS J224009.37-003856.5</td>\n",
       "      <td>2.306</td>\n",
       "      <td>DR14Q</td>\n",
       "      <td>J224009.37-003856.60</td>\n",
       "      <td>20.635514</td>\n",
       "      <td>5569.221234</td>\n",
       "      <td>9.264389</td>\n",
       "      <td>0.117195</td>\n",
       "      <td>ap_6</td>\n",
       "      <td>13.985475</td>\n",
       "      <td>2545.715210</td>\n",
       "      <td>74.682584</td>\n",
       "      <td>0.014538</td>\n",
       "      <td>ap_10</td>\n",
       "    </tr>\n",
       "    <tr>\n",
       "      <th>29556</th>\n",
       "      <td>340.047792</td>\n",
       "      <td>-1.246840</td>\n",
       "      <td>SDSS J224011.46-011448.6</td>\n",
       "      <td>1.451</td>\n",
       "      <td>DR14Q</td>\n",
       "      <td>J224011.47-011448.62</td>\n",
       "      <td>19.140504</td>\n",
       "      <td>22069.803604</td>\n",
       "      <td>42.305558</td>\n",
       "      <td>0.025664</td>\n",
       "      <td>ap_6</td>\n",
       "      <td>16.191900</td>\n",
       "      <td>333.610702</td>\n",
       "      <td>10.915156</td>\n",
       "      <td>0.099471</td>\n",
       "      <td>ap_10</td>\n",
       "    </tr>\n",
       "    <tr>\n",
       "      <th>29557</th>\n",
       "      <td>340.055801</td>\n",
       "      <td>-0.901223</td>\n",
       "      <td>SDSS J224013.39-005404.4</td>\n",
       "      <td>0.160</td>\n",
       "      <td>DR14</td>\n",
       "      <td>J224013.39-005404.40</td>\n",
       "      <td>17.108760</td>\n",
       "      <td>143382.447520</td>\n",
       "      <td>193.704517</td>\n",
       "      <td>0.005605</td>\n",
       "      <td>ap_6</td>\n",
       "      <td>14.247694</td>\n",
       "      <td>1999.503846</td>\n",
       "      <td>59.017330</td>\n",
       "      <td>0.018397</td>\n",
       "      <td>ap_10</td>\n",
       "    </tr>\n",
       "    <tr>\n",
       "      <th>29559</th>\n",
       "      <td>340.059501</td>\n",
       "      <td>-0.189209</td>\n",
       "      <td>SDSS J224014.28-001121.1</td>\n",
       "      <td>2.235</td>\n",
       "      <td>DR14</td>\n",
       "      <td>J224014.28-001121.15</td>\n",
       "      <td>19.041673</td>\n",
       "      <td>24173.011869</td>\n",
       "      <td>29.786142</td>\n",
       "      <td>0.036451</td>\n",
       "      <td>ap_6</td>\n",
       "      <td>15.336639</td>\n",
       "      <td>733.405742</td>\n",
       "      <td>20.298634</td>\n",
       "      <td>0.053488</td>\n",
       "      <td>ap_10</td>\n",
       "    </tr>\n",
       "    <tr>\n",
       "      <th>29561</th>\n",
       "      <td>340.072023</td>\n",
       "      <td>-1.245235</td>\n",
       "      <td>SDSS J224017.28-011442.8</td>\n",
       "      <td>0.502</td>\n",
       "      <td>DR14Q</td>\n",
       "      <td>J224017.29-011442.85</td>\n",
       "      <td>19.227211</td>\n",
       "      <td>20375.848510</td>\n",
       "      <td>37.038310</td>\n",
       "      <td>0.029314</td>\n",
       "      <td>ap_6</td>\n",
       "      <td>15.543072</td>\n",
       "      <td>606.416845</td>\n",
       "      <td>17.996087</td>\n",
       "      <td>0.060332</td>\n",
       "      <td>ap_10</td>\n",
       "    </tr>\n",
       "    <tr>\n",
       "      <th>29562</th>\n",
       "      <td>340.076227</td>\n",
       "      <td>-0.873265</td>\n",
       "      <td>SDSS J224018.29-005223.7</td>\n",
       "      <td>2.561</td>\n",
       "      <td>DR14Q</td>\n",
       "      <td>J224018.29-005223.75</td>\n",
       "      <td>20.962682</td>\n",
       "      <td>4120.285536</td>\n",
       "      <td>5.291323</td>\n",
       "      <td>0.205192</td>\n",
       "      <td>ap_6</td>\n",
       "      <td>15.930246</td>\n",
       "      <td>424.523217</td>\n",
       "      <td>11.281687</td>\n",
       "      <td>0.096239</td>\n",
       "      <td>ap_10</td>\n",
       "    </tr>\n",
       "    <tr>\n",
       "      <th>29563</th>\n",
       "      <td>340.077436</td>\n",
       "      <td>-0.115803</td>\n",
       "      <td>SDSS J224018.58-000656.8</td>\n",
       "      <td>2.297</td>\n",
       "      <td>DR14Q</td>\n",
       "      <td>J224018.58-000656.89</td>\n",
       "      <td>20.446812</td>\n",
       "      <td>6626.362411</td>\n",
       "      <td>10.525383</td>\n",
       "      <td>0.103154</td>\n",
       "      <td>ap_6</td>\n",
       "      <td>16.399493</td>\n",
       "      <td>275.551433</td>\n",
       "      <td>5.112515</td>\n",
       "      <td>0.212368</td>\n",
       "      <td>ap_10</td>\n",
       "    </tr>\n",
       "    <tr>\n",
       "      <th>29567</th>\n",
       "      <td>340.094890</td>\n",
       "      <td>-0.031102</td>\n",
       "      <td>SDSS J224022.77-000151.9</td>\n",
       "      <td>0.910</td>\n",
       "      <td>DR14Q</td>\n",
       "      <td>J224022.77-000151.97</td>\n",
       "      <td>20.322031</td>\n",
       "      <td>7433.403107</td>\n",
       "      <td>11.329907</td>\n",
       "      <td>0.095829</td>\n",
       "      <td>ap_6</td>\n",
       "      <td>15.712760</td>\n",
       "      <td>518.675589</td>\n",
       "      <td>17.666133</td>\n",
       "      <td>0.061459</td>\n",
       "      <td>ap_10</td>\n",
       "    </tr>\n",
       "  </tbody>\n",
       "</table>\n",
       "</div>"
      ],
      "text/plain": [
       "            mq_ra    mq_dec                   mq_name   mq_z mq_cite  \\\n",
       "29552  340.029741 -0.892448               PGC 1132088  0.054     PGC   \n",
       "29553  340.032899 -1.256140  SDSS J224007.89-011522.1  0.659   DR14Q   \n",
       "29554  340.039043 -0.649055  SDSS J224009.37-003856.5  2.306   DR14Q   \n",
       "29556  340.047792 -1.246840  SDSS J224011.46-011448.6  1.451   DR14Q   \n",
       "29557  340.055801 -0.901223  SDSS J224013.39-005404.4  0.160    DR14   \n",
       "29559  340.059501 -0.189209  SDSS J224014.28-001121.1  2.235    DR14   \n",
       "29561  340.072023 -1.245235  SDSS J224017.28-011442.8  0.502   DR14Q   \n",
       "29562  340.076227 -0.873265  SDSS J224018.29-005223.7  2.561   DR14Q   \n",
       "29563  340.077436 -0.115803  SDSS J224018.58-000656.8  2.297   DR14Q   \n",
       "29567  340.094890 -0.031102  SDSS J224022.77-000151.9  0.910   DR14Q   \n",
       "\n",
       "           temp_object_name  forced_desdr1_mag_z  forced_desdr1_flux_z  \\\n",
       "29552  J224007.14-005332.81            15.082608         926737.944564   \n",
       "29553  J224007.90-011522.10            19.857754          11399.831091   \n",
       "29554  J224009.37-003856.60            20.635514           5569.221234   \n",
       "29556  J224011.47-011448.62            19.140504          22069.803604   \n",
       "29557  J224013.39-005404.40            17.108760         143382.447520   \n",
       "29559  J224014.28-001121.15            19.041673          24173.011869   \n",
       "29561  J224017.29-011442.85            19.227211          20375.848510   \n",
       "29562  J224018.29-005223.75            20.962682           4120.285536   \n",
       "29563  J224018.58-000656.89            20.446812           6626.362411   \n",
       "29567  J224022.77-000151.97            20.322031           7433.403107   \n",
       "\n",
       "       forced_desdr1_sn_z  forced_desdr1_magerr_z forced_desdr1_z_comment  \\\n",
       "29552         1202.826180                0.000903                    ap_6   \n",
       "29553           20.784272                0.052238                    ap_6   \n",
       "29554            9.264389                0.117195                    ap_6   \n",
       "29556           42.305558                0.025664                    ap_6   \n",
       "29557          193.704517                0.005605                    ap_6   \n",
       "29559           29.786142                0.036451                    ap_6   \n",
       "29561           37.038310                0.029314                    ap_6   \n",
       "29562            5.291323                0.205192                    ap_6   \n",
       "29563           10.525383                0.103154                    ap_6   \n",
       "29567           11.329907                0.095829                    ap_6   \n",
       "\n",
       "       forced_unwise-neo3_mag_w1  forced_unwise-neo3_flux_w1  \\\n",
       "29552                  12.608259                 9050.998584   \n",
       "29553                  16.532664                  243.744227   \n",
       "29554                  13.985475                 2545.715210   \n",
       "29556                  16.191900                  333.610702   \n",
       "29557                  14.247694                 1999.503846   \n",
       "29559                  15.336639                  733.405742   \n",
       "29561                  15.543072                  606.416845   \n",
       "29562                  15.930246                  424.523217   \n",
       "29563                  16.399493                  275.551433   \n",
       "29567                  15.712760                  518.675589   \n",
       "\n",
       "       forced_unwise-neo3_sn_w1  forced_unwise-neo3_magerr_w1  \\\n",
       "29552                276.515758                      0.003926   \n",
       "29553                 10.269063                      0.105729   \n",
       "29554                 74.682584                      0.014538   \n",
       "29556                 10.915156                      0.099471   \n",
       "29557                 59.017330                      0.018397   \n",
       "29559                 20.298634                      0.053488   \n",
       "29561                 17.996087                      0.060332   \n",
       "29562                 11.281687                      0.096239   \n",
       "29563                  5.112515                      0.212368   \n",
       "29567                 17.666133                      0.061459   \n",
       "\n",
       "      forced_unwise-neo3_w1_comment  \n",
       "29552                         ap_10  \n",
       "29553                         ap_10  \n",
       "29554                         ap_10  \n",
       "29556                         ap_10  \n",
       "29557                         ap_10  \n",
       "29559                         ap_10  \n",
       "29561                         ap_10  \n",
       "29562                         ap_10  \n",
       "29563                         ap_10  \n",
       "29567                         ap_10  "
      ]
     },
     "execution_count": 10,
     "metadata": {},
     "output_type": "execute_result"
    }
   ],
   "source": [
    "forced_photometry"
   ]
  },
  {
   "cell_type": "code",
   "execution_count": 7,
   "metadata": {},
   "outputs": [
    {
     "data": {
      "text/plain": [
       "167"
      ]
     },
     "execution_count": 7,
     "metadata": {},
     "output_type": "execute_result"
    }
   ],
   "source": [
    "int(round(400/ 60. / 4. * 100))"
   ]
  },
  {
   "cell_type": "code",
   "execution_count": null,
   "metadata": {},
   "outputs": [],
   "source": []
  }
 ],
 "metadata": {
  "kernelspec": {
   "display_name": "Python 3",
   "language": "python",
   "name": "python3"
  },
  "language_info": {
   "codemirror_mode": {
    "name": "ipython",
    "version": 3
   },
   "file_extension": ".py",
   "mimetype": "text/x-python",
   "name": "python",
   "nbconvert_exporter": "python",
   "pygments_lexer": "ipython3",
   "version": "3.6.8"
  }
 },
 "nbformat": 4,
 "nbformat_minor": 2
}
