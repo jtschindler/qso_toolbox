{
 "cells": [
  {
   "cell_type": "markdown",
   "metadata": {},
   "source": [
    "# HowTo-2-CalculatingForcedPhotometry\n"
   ]
  },
  {
   "cell_type": "code",
   "execution_count": 2,
   "metadata": {},
   "outputs": [
    {
     "name": "stdout",
     "output_type": "stream",
     "text": [
      "loading dl.conf\n"
     ]
    }
   ],
   "source": [
    "from qso_toolbox import catalog_tools as ct, image_tools as it, photometry_tools as pt, utils as ut"
   ]
  },
  {
   "cell_type": "markdown",
   "metadata": {},
   "source": [
    "# 0) Loading the test file\n",
    "\n",
    "We begin again my loading our Stripe 82 milliquas test file into memory."
   ]
  },
  {
   "cell_type": "code",
   "execution_count": 3,
   "metadata": {},
   "outputs": [],
   "source": [
    "import pandas as pd \n",
    "from astropy.io import fits \n",
    "from astropy.table import Table\n",
    "\n",
    "df_hdf = pd.read_hdf('./data/stripe82_milliquas_190210.hdf5',key='data')\n",
    "\n",
    "# We use the first 100 entries of the test set we used for HowTo-1-DownloadingImageCutouts\n",
    "test_set = df_hdf.query('340 < mq_ra < 350 and -1.26 < mq_dec < 0')[:200]"
   ]
  },
  {
   "cell_type": "markdown",
   "metadata": {},
   "source": [
    "# 1) Calculing forced photometry\n",
    "\n",
    "There is a lot that goes into the calculation of the forced photometry and it is hidden in a range of routines in image_tools.py. \n",
    "\n",
    "## The main routine to calculate forced photometry is:\n",
    "\n",
    "def get_forced_photometry(table, ra_col_name, dec_col_name, surveys,\n",
    "                          bands, apertures, fovs, image_folder_path,\n",
    "                          auto_download=True,\n",
    "                          verbosity=0):\n",
    "    \"\"\"Calculate forced photometry for all objects in the table Data Frame.\n",
    "\n",
    "    In the current version of this routine forced photometry calculations for\n",
    "    the following surveys and bands is available:\n",
    "    survey: 'desdr1'\n",
    "        bands: 'grizy'\n",
    "    survey: \"unwise-allwise, unwise-neo1, unwise-neo2, \"unwise-neo3\"\n",
    "        bands: 'w1w2w3s4\n",
    "\n",
    "    This function takes a table object (astropy table, astropy fitstable or\n",
    "    DataFrame) with specified Ra and Dec. It eiher looks for the image\n",
    "    cutouts associated with each survey/band/fov entry or automatically\n",
    "    downloads them, if specified. If the image cutouts are found forced\n",
    "    photometry is calculated within the specified aperture.\n",
    "\n",
    "    For each survey/band the following columns are added to the input table:\n",
    "    forced_[survey]_mag_[band]\n",
    "        Forced photometry magnitude for the object in the given survey/band.\n",
    "        The magnitudes are all in the AB system\n",
    "    forced_[survey]_flux_[band]\n",
    "        Forced photometry flux for the object in the given survey/band\n",
    "    forced_[survey]_sn_[band]\n",
    "        Forced photometry S/N for the object in the given survey/band\n",
    "    forced_[survey]_magerr_[band]\n",
    "        Forced photometry magnitude error for the object in the given\n",
    "        survey/band\n",
    "    forced_[survey]_comment_[band]\n",
    "        A comment with regard to the forced photometry calculation for each\n",
    "        object in the given survey/band.\n",
    "        If the forced photometry calculation is successful the comment will\n",
    "        give the used apertures: 'ap_[aperture in arcseconds]'\n",
    "        If the forced photometry calculation is unsuccessfull the comment will\n",
    "        reflect the problem:\n",
    "        'image_too_small': cutout image is too small to calculate the forced\n",
    "         photometry (minimum pixel size 50)\n",
    "        'image_not_available': cutout image could not be found and/or downloaded\n",
    "        'crashed': bad things happened! (Check try-except clause in\n",
    "        calculate_forced_aperture_photometry)\n",
    "\n",
    "    Lists of equal length need to be supplied to surveys, bands, apertures and\n",
    "    fovs.\n",
    "\n",
    "    :param table: table object\n",
    "        Input data table with at least RA and Decl. columns\n",
    "    :param ra_col_name: string\n",
    "        Exact string for the RA column in the table\n",
    "    :param dec_col_name: string\n",
    "        Exact string for the Decl. column in the table\n",
    "    :param surveys: list of strings\n",
    "        List of survey names, length has to be equal to bands, apertures and\n",
    "        fovs\n",
    "    :param bands: list of strings\n",
    "        List of band names, length has to be equal to surveys, apertures and\n",
    "        fovs\n",
    "    :param apertures: list of floats\n",
    "        List of apertures in arcseconds for forced photometry calculated,\n",
    "        length has to be equal to surveys, bands and fovs\n",
    "    :param fovs: list of floats\n",
    "        Field of view in arcseconds of image cutouts, length has be equal to\n",
    "        surveys,\n",
    "        bands and apertures\n",
    "    :param image_folder_path: string\n",
    "        Path to the directory where all the images will be stored\n",
    "    :param auto_download: Boolean\n",
    "        Switch to enable/disable auto-downloading the cutouts images\n",
    "    :param verbosity:\n",
    "        Verbosity > 0 will print verbose statements during the execution\n",
    "    :return: DataFrame\n",
    "        Returns a DataFrame with the added columns for the forced photometry\n",
    "        calculation.\n",
    "    \"\"\"\n",
    "\n",
    "### We start by calculating the forced photometry for DES and unWISE. We turn auto_download to True in order to make sure that we have the cutouts on file. If the files already exist in the specified image_path_folder then they will not be downloaded again."
   ]
  },
  {
   "cell_type": "code",
   "execution_count": 6,
   "metadata": {},
   "outputs": [
    {
     "name": "stderr",
     "output_type": "stream",
     "text": [
      "/Users/schindler/anaconda3/lib/python3.6/site-packages/qso_toolbox/image_tools.py:864: SettingWithCopyWarning: \n",
      "A value is trying to be set on a copy of a slice from a DataFrame.\n",
      "Try using .loc[row_indexer,col_indexer] = value instead\n",
      "\n",
      "See the caveats in the documentation: http://pandas.pydata.org/pandas-docs/stable/indexing.html#indexing-view-versus-copy\n",
      "  epoch=\"J\")\n"
     ]
    },
    {
     "name": "stdout",
     "output_type": "stream",
     "text": [
      "Opened ./cutouts/J224007.14-005332.81_desdr1_z_fov300.fits with a fov of 300 arcseconds\n",
      "flux:  926737.944563672 sn:  1168.9612883349598\n",
      "mag:  15.082607636913457\n"
     ]
    },
    {
     "name": "stderr",
     "output_type": "stream",
     "text": [
      "/Users/schindler/anaconda3/lib/python3.6/site-packages/pandas/core/indexing.py:362: SettingWithCopyWarning: \n",
      "A value is trying to be set on a copy of a slice from a DataFrame.\n",
      "Try using .loc[row_indexer,col_indexer] = value instead\n",
      "\n",
      "See the caveats in the documentation: http://pandas.pydata.org/pandas-docs/stable/indexing.html#indexing-view-versus-copy\n",
      "  self.obj[key] = _infer_fill_value(value)\n",
      "/Users/schindler/anaconda3/lib/python3.6/site-packages/pandas/core/indexing.py:543: SettingWithCopyWarning: \n",
      "A value is trying to be set on a copy of a slice from a DataFrame.\n",
      "Try using .loc[row_indexer,col_indexer] = value instead\n",
      "\n",
      "See the caveats in the documentation: http://pandas.pydata.org/pandas-docs/stable/indexing.html#indexing-view-versus-copy\n",
      "  self.obj[item] = s\n"
     ]
    },
    {
     "name": "stdout",
     "output_type": "stream",
     "text": [
      "Opened ./cutouts/J224007.90-011522.10_desdr1_z_fov300.fits with a fov of 300 arcseconds\n",
      "flux:  11399.831090738899 sn:  21.119467410625496\n",
      "mag:  19.857753958699057\n"
     ]
    },
    {
     "name": "stderr",
     "output_type": "stream",
     "text": [
      "/Users/schindler/anaconda3/lib/python3.6/site-packages/pandas/core/indexing.py:543: SettingWithCopyWarning: \n",
      "A value is trying to be set on a copy of a slice from a DataFrame.\n",
      "Try using .loc[row_indexer,col_indexer] = value instead\n",
      "\n",
      "See the caveats in the documentation: http://pandas.pydata.org/pandas-docs/stable/indexing.html#indexing-view-versus-copy\n",
      "  self.obj[item] = s\n"
     ]
    },
    {
     "name": "stdout",
     "output_type": "stream",
     "text": [
      "Opened J224009.37-003856.60_desdr1_z_fov300 with a fov of 100 arcseconds\n",
      "flux:  5569.2212343982665 sn:  10.345465360691918\n",
      "mag:  20.635513824116522\n",
      "Opened J224011.47-011448.62_desdr1_z_fov300 with a fov of 100 arcseconds\n"
     ]
    },
    {
     "name": "stderr",
     "output_type": "stream",
     "text": [
      "/Users/schindler/anaconda3/lib/python3.6/site-packages/pandas/core/indexing.py:543: SettingWithCopyWarning: \n",
      "A value is trying to be set on a copy of a slice from a DataFrame.\n",
      "Try using .loc[row_indexer,col_indexer] = value instead\n",
      "\n",
      "See the caveats in the documentation: http://pandas.pydata.org/pandas-docs/stable/indexing.html#indexing-view-versus-copy\n",
      "  self.obj[item] = s\n"
     ]
    },
    {
     "name": "stdout",
     "output_type": "stream",
     "text": [
      "flux:  22069.803603654025 sn:  46.445862276773816\n",
      "mag:  19.140503828879826\n",
      "Opened ./cutouts/J224013.39-005404.40_desdr1_z_fov300.fits with a fov of 300 arcseconds"
     ]
    },
    {
     "name": "stderr",
     "output_type": "stream",
     "text": [
      "/Users/schindler/anaconda3/lib/python3.6/site-packages/pandas/core/indexing.py:543: SettingWithCopyWarning: \n",
      "A value is trying to be set on a copy of a slice from a DataFrame.\n",
      "Try using .loc[row_indexer,col_indexer] = value instead\n",
      "\n",
      "See the caveats in the documentation: http://pandas.pydata.org/pandas-docs/stable/indexing.html#indexing-view-versus-copy\n",
      "  self.obj[item] = s\n"
     ]
    },
    {
     "name": "stdout",
     "output_type": "stream",
     "text": [
      "\n",
      "flux:  143382.44751976777 sn:  175.52617063670343\n",
      "mag:  17.10876002634069\n",
      "Opened ./cutouts/J224014.28-001121.15_desdr1_z_fov300.fits with a fov of 300 arcseconds\n"
     ]
    },
    {
     "name": "stderr",
     "output_type": "stream",
     "text": [
      "/Users/schindler/anaconda3/lib/python3.6/site-packages/pandas/core/indexing.py:543: SettingWithCopyWarning: \n",
      "A value is trying to be set on a copy of a slice from a DataFrame.\n",
      "Try using .loc[row_indexer,col_indexer] = value instead\n",
      "\n",
      "See the caveats in the documentation: http://pandas.pydata.org/pandas-docs/stable/indexing.html#indexing-view-versus-copy\n",
      "  self.obj[item] = s\n"
     ]
    },
    {
     "name": "stdout",
     "output_type": "stream",
     "text": [
      "flux:  24173.011868962156 sn:  29.314671169410495\n",
      "mag:  19.041673086788208\n",
      "Opened J224017.29-011442.85_desdr1_z_fov300 with a fov of 100 arcseconds\n"
     ]
    },
    {
     "name": "stderr",
     "output_type": "stream",
     "text": [
      "/Users/schindler/anaconda3/lib/python3.6/site-packages/pandas/core/indexing.py:543: SettingWithCopyWarning: \n",
      "A value is trying to be set on a copy of a slice from a DataFrame.\n",
      "Try using .loc[row_indexer,col_indexer] = value instead\n",
      "\n",
      "See the caveats in the documentation: http://pandas.pydata.org/pandas-docs/stable/indexing.html#indexing-view-versus-copy\n",
      "  self.obj[item] = s\n"
     ]
    },
    {
     "name": "stdout",
     "output_type": "stream",
     "text": [
      "flux:  20375.848510103973 sn:  29.84756781505954\n",
      "mag:  19.227210742287987\n",
      "Opened ./cutouts/J224018.29-005223.75_desdr1_z_fov300.fits with a fov of 300 arcseconds\n"
     ]
    },
    {
     "name": "stderr",
     "output_type": "stream",
     "text": [
      "/Users/schindler/anaconda3/lib/python3.6/site-packages/pandas/core/indexing.py:543: SettingWithCopyWarning: \n",
      "A value is trying to be set on a copy of a slice from a DataFrame.\n",
      "Try using .loc[row_indexer,col_indexer] = value instead\n",
      "\n",
      "See the caveats in the documentation: http://pandas.pydata.org/pandas-docs/stable/indexing.html#indexing-view-versus-copy\n",
      "  self.obj[item] = s\n"
     ]
    },
    {
     "name": "stdout",
     "output_type": "stream",
     "text": [
      "flux:  4120.285535922089 sn:  5.074662137393879\n",
      "mag:  20.9626817157555\n",
      "Opened J224018.58-000656.89_desdr1_z_fov300 with a fov of 100 arcseconds\n"
     ]
    },
    {
     "name": "stderr",
     "output_type": "stream",
     "text": [
      "/Users/schindler/anaconda3/lib/python3.6/site-packages/pandas/core/indexing.py:543: SettingWithCopyWarning: \n",
      "A value is trying to be set on a copy of a slice from a DataFrame.\n",
      "Try using .loc[row_indexer,col_indexer] = value instead\n",
      "\n",
      "See the caveats in the documentation: http://pandas.pydata.org/pandas-docs/stable/indexing.html#indexing-view-versus-copy\n",
      "  self.obj[item] = s\n"
     ]
    },
    {
     "name": "stdout",
     "output_type": "stream",
     "text": [
      "flux:  6626.362411214352 sn:  12.390090999759042\n",
      "mag:  20.446812038066028\n",
      "Opened ./cutouts/J224022.77-000151.97_desdr1_z_fov300.fits with a fov of 300 arcseconds\n"
     ]
    },
    {
     "name": "stderr",
     "output_type": "stream",
     "text": [
      "/Users/schindler/anaconda3/lib/python3.6/site-packages/pandas/core/indexing.py:543: SettingWithCopyWarning: \n",
      "A value is trying to be set on a copy of a slice from a DataFrame.\n",
      "Try using .loc[row_indexer,col_indexer] = value instead\n",
      "\n",
      "See the caveats in the documentation: http://pandas.pydata.org/pandas-docs/stable/indexing.html#indexing-view-versus-copy\n",
      "  self.obj[item] = s\n"
     ]
    },
    {
     "name": "stdout",
     "output_type": "stream",
     "text": [
      "flux:  7433.403106524133 sn:  10.772991035934972\n",
      "mag:  20.322030787933393\n",
      "File J224007.14-005332.81_unwise-neo3_w1_fov400 in folder ./cutouts/ not found. Target with RA 340.029741 and Decl -0.8924476999999998\n"
     ]
    },
    {
     "name": "stderr",
     "output_type": "stream",
     "text": [
      "/Users/schindler/anaconda3/lib/python3.6/site-packages/pandas/core/indexing.py:543: SettingWithCopyWarning: \n",
      "A value is trying to be set on a copy of a slice from a DataFrame.\n",
      "Try using .loc[row_indexer,col_indexer] = value instead\n",
      "\n",
      "See the caveats in the documentation: http://pandas.pydata.org/pandas-docs/stable/indexing.html#indexing-view-versus-copy\n",
      "  self.obj[item] = s\n"
     ]
    },
    {
     "name": "stdout",
     "output_type": "stream",
     "text": [
      "Download of J224007.14-005332.81_unwise-neo3_w1_fov400 to ./cutouts/ completed\n",
      "flux:  9050.998583555716 sn:  244.62067903015816\n",
      "mag:  12.608258757676637\n"
     ]
    },
    {
     "name": "stderr",
     "output_type": "stream",
     "text": [
      "/Users/schindler/anaconda3/lib/python3.6/site-packages/pandas/core/indexing.py:362: SettingWithCopyWarning: \n",
      "A value is trying to be set on a copy of a slice from a DataFrame.\n",
      "Try using .loc[row_indexer,col_indexer] = value instead\n",
      "\n",
      "See the caveats in the documentation: http://pandas.pydata.org/pandas-docs/stable/indexing.html#indexing-view-versus-copy\n",
      "  self.obj[key] = _infer_fill_value(value)\n",
      "/Users/schindler/anaconda3/lib/python3.6/site-packages/pandas/core/indexing.py:543: SettingWithCopyWarning: \n",
      "A value is trying to be set on a copy of a slice from a DataFrame.\n",
      "Try using .loc[row_indexer,col_indexer] = value instead\n",
      "\n",
      "See the caveats in the documentation: http://pandas.pydata.org/pandas-docs/stable/indexing.html#indexing-view-versus-copy\n",
      "  self.obj[item] = s\n"
     ]
    },
    {
     "name": "stdout",
     "output_type": "stream",
     "text": [
      "File J224007.90-011522.10_unwise-neo3_w1_fov400 in folder ./cutouts/ not found. Target with RA 340.03289900000004 and Decl -1.25614\n",
      "Download of J224007.90-011522.10_unwise-neo3_w1_fov400 to ./cutouts/ completed\n",
      "flux:  243.74422689811794 sn:  7.797730742929225\n",
      "mag:  16.532664154519537\n"
     ]
    },
    {
     "name": "stderr",
     "output_type": "stream",
     "text": [
      "/Users/schindler/anaconda3/lib/python3.6/site-packages/pandas/core/indexing.py:543: SettingWithCopyWarning: \n",
      "A value is trying to be set on a copy of a slice from a DataFrame.\n",
      "Try using .loc[row_indexer,col_indexer] = value instead\n",
      "\n",
      "See the caveats in the documentation: http://pandas.pydata.org/pandas-docs/stable/indexing.html#indexing-view-versus-copy\n",
      "  self.obj[item] = s\n"
     ]
    },
    {
     "name": "stdout",
     "output_type": "stream",
     "text": [
      "File J224009.37-003856.60_unwise-neo3_w1_fov400 in folder ./cutouts/ not found. Target with RA 340.039043 and Decl -0.6490545999999999\n",
      "Download of J224009.37-003856.60_unwise-neo3_w1_fov400 to ./cutouts/ completed\n",
      "flux:  2545.7152097359412 sn:  80.62021310997723\n",
      "mag:  13.985475456692308\n"
     ]
    },
    {
     "name": "stderr",
     "output_type": "stream",
     "text": [
      "/Users/schindler/anaconda3/lib/python3.6/site-packages/pandas/core/indexing.py:543: SettingWithCopyWarning: \n",
      "A value is trying to be set on a copy of a slice from a DataFrame.\n",
      "Try using .loc[row_indexer,col_indexer] = value instead\n",
      "\n",
      "See the caveats in the documentation: http://pandas.pydata.org/pandas-docs/stable/indexing.html#indexing-view-versus-copy\n",
      "  self.obj[item] = s\n"
     ]
    },
    {
     "name": "stdout",
     "output_type": "stream",
     "text": [
      "File J224011.47-011448.62_unwise-neo3_w1_fov400 in folder ./cutouts/ not found. Target with RA 340.0477915 and Decl -1.24684\n",
      "Download of J224011.47-011448.62_unwise-neo3_w1_fov400 to ./cutouts/ completed\n",
      "flux:  333.6107022837959 sn:  13.090537771991903\n",
      "mag:  16.19190006393885\n"
     ]
    },
    {
     "name": "stderr",
     "output_type": "stream",
     "text": [
      "/Users/schindler/anaconda3/lib/python3.6/site-packages/pandas/core/indexing.py:543: SettingWithCopyWarning: \n",
      "A value is trying to be set on a copy of a slice from a DataFrame.\n",
      "Try using .loc[row_indexer,col_indexer] = value instead\n",
      "\n",
      "See the caveats in the documentation: http://pandas.pydata.org/pandas-docs/stable/indexing.html#indexing-view-versus-copy\n",
      "  self.obj[item] = s\n"
     ]
    },
    {
     "name": "stdout",
     "output_type": "stream",
     "text": [
      "File J224013.39-005404.40_unwise-neo3_w1_fov400 in folder ./cutouts/ not found. Target with RA 340.055801 and Decl -0.9012233000000001\n",
      "Download of J224013.39-005404.40_unwise-neo3_w1_fov400 to ./cutouts/ completed\n",
      "flux:  1999.5038459490936 sn:  66.8087106263031\n",
      "mag:  14.247694390462978\n"
     ]
    },
    {
     "name": "stderr",
     "output_type": "stream",
     "text": [
      "/Users/schindler/anaconda3/lib/python3.6/site-packages/pandas/core/indexing.py:543: SettingWithCopyWarning: \n",
      "A value is trying to be set on a copy of a slice from a DataFrame.\n",
      "Try using .loc[row_indexer,col_indexer] = value instead\n",
      "\n",
      "See the caveats in the documentation: http://pandas.pydata.org/pandas-docs/stable/indexing.html#indexing-view-versus-copy\n",
      "  self.obj[item] = s\n"
     ]
    },
    {
     "name": "stdout",
     "output_type": "stream",
     "text": [
      "File J224014.28-001121.15_unwise-neo3_w1_fov400 in folder ./cutouts/ not found. Target with RA 340.05950099999995 and Decl -0.18920889999999999\n",
      "Download of J224014.28-001121.15_unwise-neo3_w1_fov400 to ./cutouts/ completed\n",
      "flux:  733.4057422835456 sn:  17.149932995610108\n",
      "mag:  15.336639235010349\n"
     ]
    },
    {
     "name": "stderr",
     "output_type": "stream",
     "text": [
      "/Users/schindler/anaconda3/lib/python3.6/site-packages/pandas/core/indexing.py:543: SettingWithCopyWarning: \n",
      "A value is trying to be set on a copy of a slice from a DataFrame.\n",
      "Try using .loc[row_indexer,col_indexer] = value instead\n",
      "\n",
      "See the caveats in the documentation: http://pandas.pydata.org/pandas-docs/stable/indexing.html#indexing-view-versus-copy\n",
      "  self.obj[item] = s\n"
     ]
    },
    {
     "name": "stdout",
     "output_type": "stream",
     "text": [
      "File J224017.29-011442.85_unwise-neo3_w1_fov400 in folder ./cutouts/ not found. Target with RA 340.0720225 and Decl -1.245235\n",
      "Download of J224017.29-011442.85_unwise-neo3_w1_fov400 to ./cutouts/ completed\n",
      "Minimum image dimension : 42 (pixels)\n",
      "Too few pixels in one axis (<50). Skipping J224017.29-011442.85_unwise-neo3_w1_fov400\n",
      "File J224018.29-005223.75_unwise-neo3_w1_fov400 in folder ./cutouts/ not found. Target with RA 340.0762269 and Decl -0.8732648999999999\n",
      "Download of J224018.29-005223.75_unwise-neo3_w1_fov400 to ./cutouts/ completed\n",
      "Minimum image dimension : 42 (pixels)\n",
      "Too few pixels in one axis (<50). Skipping J224018.29-005223.75_unwise-neo3_w1_fov400\n",
      "File J224018.58-000656.89_unwise-neo3_w1_fov400 in folder ./cutouts/ not found. Target with RA 340.0774356 and Decl -0.11580309999999999\n",
      "Download of J224018.58-000656.89_unwise-neo3_w1_fov400 to ./cutouts/ completed\n",
      "flux:  275.55143321511366 sn:  5.312159565806851\n",
      "mag:  16.399493314383463\n"
     ]
    },
    {
     "name": "stderr",
     "output_type": "stream",
     "text": [
      "/Users/schindler/anaconda3/lib/python3.6/site-packages/pandas/core/indexing.py:543: SettingWithCopyWarning: \n",
      "A value is trying to be set on a copy of a slice from a DataFrame.\n",
      "Try using .loc[row_indexer,col_indexer] = value instead\n",
      "\n",
      "See the caveats in the documentation: http://pandas.pydata.org/pandas-docs/stable/indexing.html#indexing-view-versus-copy\n",
      "  self.obj[item] = s\n"
     ]
    },
    {
     "name": "stdout",
     "output_type": "stream",
     "text": [
      "File J224022.77-000151.97_unwise-neo3_w1_fov400 in folder ./cutouts/ not found. Target with RA 340.0948901 and Decl -0.031101900000000002\n",
      "Download of J224022.77-000151.97_unwise-neo3_w1_fov400 to ./cutouts/ completed\n",
      "flux:  518.6755886374915 sn:  16.79658172507934\n",
      "mag:  15.712760478770198\n"
     ]
    },
    {
     "name": "stderr",
     "output_type": "stream",
     "text": [
      "/Users/schindler/anaconda3/lib/python3.6/site-packages/pandas/core/indexing.py:543: SettingWithCopyWarning: \n",
      "A value is trying to be set on a copy of a slice from a DataFrame.\n",
      "Try using .loc[row_indexer,col_indexer] = value instead\n",
      "\n",
      "See the caveats in the documentation: http://pandas.pydata.org/pandas-docs/stable/indexing.html#indexing-view-versus-copy\n",
      "  self.obj[item] = s\n"
     ]
    }
   ],
   "source": [
    "surveys = ['desdr1','unwise-neo3']\n",
    "bands = ['z','w1']\n",
    "apertures = [6, 10]\n",
    "fovs = [300, 400]\n",
    "\n",
    "forced_photometry = it.get_forced_photometry(test_set[:10], 'mq_ra', 'mq_dec', surveys, bands, apertures, fovs,\n",
    "                         './cutouts/', auto_download=True, verbosity=2)"
   ]
  },
  {
   "cell_type": "markdown",
   "metadata": {},
   "source": [
    "### Let us now take a quick look at the table with the forced photometry information. If you are wondering why some of the forced photometry calculations fail, setting verbosity=2 can be helpful in identifying the problem. "
   ]
  },
  {
   "cell_type": "code",
   "execution_count": 7,
   "metadata": {},
   "outputs": [
    {
     "data": {
      "text/html": [
       "<div>\n",
       "<style scoped>\n",
       "    .dataframe tbody tr th:only-of-type {\n",
       "        vertical-align: middle;\n",
       "    }\n",
       "\n",
       "    .dataframe tbody tr th {\n",
       "        vertical-align: top;\n",
       "    }\n",
       "\n",
       "    .dataframe thead th {\n",
       "        text-align: right;\n",
       "    }\n",
       "</style>\n",
       "<table border=\"1\" class=\"dataframe\">\n",
       "  <thead>\n",
       "    <tr style=\"text-align: right;\">\n",
       "      <th></th>\n",
       "      <th>mq_ra</th>\n",
       "      <th>mq_dec</th>\n",
       "      <th>mq_name</th>\n",
       "      <th>mq_z</th>\n",
       "      <th>mq_cite</th>\n",
       "      <th>temp_object_name</th>\n",
       "      <th>forced_desdr1_mag_z</th>\n",
       "      <th>forced_desdr1_flux_z</th>\n",
       "      <th>forced_desdr1_sn_z</th>\n",
       "      <th>forced_desdr1_magerr_z</th>\n",
       "      <th>forced_desdr1_z_comment</th>\n",
       "      <th>forced_unwise-neo3_mag_w1</th>\n",
       "      <th>forced_unwise-neo3_flux_w1</th>\n",
       "      <th>forced_unwise-neo3_sn_w1</th>\n",
       "      <th>forced_unwise-neo3_magerr_w1</th>\n",
       "      <th>forced_unwise-neo3_w1_comment</th>\n",
       "    </tr>\n",
       "  </thead>\n",
       "  <tbody>\n",
       "    <tr>\n",
       "      <th>29552</th>\n",
       "      <td>340.029741</td>\n",
       "      <td>-0.892448</td>\n",
       "      <td>PGC 1132088</td>\n",
       "      <td>0.054</td>\n",
       "      <td>PGC</td>\n",
       "      <td>J224007.14-005332.81</td>\n",
       "      <td>15.082608</td>\n",
       "      <td>926737.944564</td>\n",
       "      <td>1168.961288</td>\n",
       "      <td>0.000929</td>\n",
       "      <td>ap_6</td>\n",
       "      <td>15.307259</td>\n",
       "      <td>9050.998584</td>\n",
       "      <td>244.620679</td>\n",
       "      <td>0.004438</td>\n",
       "      <td>ap_10</td>\n",
       "    </tr>\n",
       "    <tr>\n",
       "      <th>29553</th>\n",
       "      <td>340.032899</td>\n",
       "      <td>-1.256140</td>\n",
       "      <td>SDSS J224007.89-011522.1</td>\n",
       "      <td>0.659</td>\n",
       "      <td>DR14Q</td>\n",
       "      <td>J224007.90-011522.10</td>\n",
       "      <td>19.857754</td>\n",
       "      <td>11399.831091</td>\n",
       "      <td>21.119467</td>\n",
       "      <td>0.051409</td>\n",
       "      <td>ap_6</td>\n",
       "      <td>19.231664</td>\n",
       "      <td>243.744227</td>\n",
       "      <td>7.797731</td>\n",
       "      <td>0.139237</td>\n",
       "      <td>ap_10</td>\n",
       "    </tr>\n",
       "    <tr>\n",
       "      <th>29554</th>\n",
       "      <td>340.039043</td>\n",
       "      <td>-0.649055</td>\n",
       "      <td>SDSS J224009.37-003856.5</td>\n",
       "      <td>2.306</td>\n",
       "      <td>DR14Q</td>\n",
       "      <td>J224009.37-003856.60</td>\n",
       "      <td>20.635514</td>\n",
       "      <td>5569.221234</td>\n",
       "      <td>10.345465</td>\n",
       "      <td>0.104948</td>\n",
       "      <td>ap_6</td>\n",
       "      <td>16.684475</td>\n",
       "      <td>2545.715210</td>\n",
       "      <td>80.620213</td>\n",
       "      <td>0.013467</td>\n",
       "      <td>ap_10</td>\n",
       "    </tr>\n",
       "    <tr>\n",
       "      <th>29556</th>\n",
       "      <td>340.047792</td>\n",
       "      <td>-1.246840</td>\n",
       "      <td>SDSS J224011.46-011448.6</td>\n",
       "      <td>1.451</td>\n",
       "      <td>DR14Q</td>\n",
       "      <td>J224011.47-011448.62</td>\n",
       "      <td>19.140504</td>\n",
       "      <td>22069.803604</td>\n",
       "      <td>46.445862</td>\n",
       "      <td>0.023376</td>\n",
       "      <td>ap_6</td>\n",
       "      <td>18.890900</td>\n",
       "      <td>333.610702</td>\n",
       "      <td>13.090538</td>\n",
       "      <td>0.082941</td>\n",
       "      <td>ap_10</td>\n",
       "    </tr>\n",
       "    <tr>\n",
       "      <th>29557</th>\n",
       "      <td>340.055801</td>\n",
       "      <td>-0.901223</td>\n",
       "      <td>SDSS J224013.39-005404.4</td>\n",
       "      <td>0.160</td>\n",
       "      <td>DR14</td>\n",
       "      <td>J224013.39-005404.40</td>\n",
       "      <td>17.108760</td>\n",
       "      <td>143382.447520</td>\n",
       "      <td>175.526171</td>\n",
       "      <td>0.006186</td>\n",
       "      <td>ap_6</td>\n",
       "      <td>16.946694</td>\n",
       "      <td>1999.503846</td>\n",
       "      <td>66.808711</td>\n",
       "      <td>0.016251</td>\n",
       "      <td>ap_10</td>\n",
       "    </tr>\n",
       "    <tr>\n",
       "      <th>29559</th>\n",
       "      <td>340.059501</td>\n",
       "      <td>-0.189209</td>\n",
       "      <td>SDSS J224014.28-001121.1</td>\n",
       "      <td>2.235</td>\n",
       "      <td>DR14</td>\n",
       "      <td>J224014.28-001121.15</td>\n",
       "      <td>19.041673</td>\n",
       "      <td>24173.011869</td>\n",
       "      <td>29.314671</td>\n",
       "      <td>0.037037</td>\n",
       "      <td>ap_6</td>\n",
       "      <td>18.035639</td>\n",
       "      <td>733.405742</td>\n",
       "      <td>17.149933</td>\n",
       "      <td>0.063308</td>\n",
       "      <td>ap_10</td>\n",
       "    </tr>\n",
       "    <tr>\n",
       "      <th>29561</th>\n",
       "      <td>340.072023</td>\n",
       "      <td>-1.245235</td>\n",
       "      <td>SDSS J224017.28-011442.8</td>\n",
       "      <td>0.502</td>\n",
       "      <td>DR14Q</td>\n",
       "      <td>J224017.29-011442.85</td>\n",
       "      <td>19.227211</td>\n",
       "      <td>20375.848510</td>\n",
       "      <td>29.847568</td>\n",
       "      <td>0.036376</td>\n",
       "      <td>ap_6</td>\n",
       "      <td>NaN</td>\n",
       "      <td>NaN</td>\n",
       "      <td>NaN</td>\n",
       "      <td>NaN</td>\n",
       "      <td>image_too_small</td>\n",
       "    </tr>\n",
       "    <tr>\n",
       "      <th>29562</th>\n",
       "      <td>340.076227</td>\n",
       "      <td>-0.873265</td>\n",
       "      <td>SDSS J224018.29-005223.7</td>\n",
       "      <td>2.561</td>\n",
       "      <td>DR14Q</td>\n",
       "      <td>J224018.29-005223.75</td>\n",
       "      <td>20.962682</td>\n",
       "      <td>4120.285536</td>\n",
       "      <td>5.074662</td>\n",
       "      <td>0.213952</td>\n",
       "      <td>ap_6</td>\n",
       "      <td>NaN</td>\n",
       "      <td>NaN</td>\n",
       "      <td>NaN</td>\n",
       "      <td>NaN</td>\n",
       "      <td>image_too_small</td>\n",
       "    </tr>\n",
       "    <tr>\n",
       "      <th>29563</th>\n",
       "      <td>340.077436</td>\n",
       "      <td>-0.115803</td>\n",
       "      <td>SDSS J224018.58-000656.8</td>\n",
       "      <td>2.297</td>\n",
       "      <td>DR14Q</td>\n",
       "      <td>J224018.58-000656.89</td>\n",
       "      <td>20.446812</td>\n",
       "      <td>6626.362411</td>\n",
       "      <td>12.390091</td>\n",
       "      <td>0.087629</td>\n",
       "      <td>ap_6</td>\n",
       "      <td>19.098493</td>\n",
       "      <td>275.551433</td>\n",
       "      <td>5.312160</td>\n",
       "      <td>0.204387</td>\n",
       "      <td>ap_10</td>\n",
       "    </tr>\n",
       "    <tr>\n",
       "      <th>29567</th>\n",
       "      <td>340.094890</td>\n",
       "      <td>-0.031102</td>\n",
       "      <td>SDSS J224022.77-000151.9</td>\n",
       "      <td>0.910</td>\n",
       "      <td>DR14Q</td>\n",
       "      <td>J224022.77-000151.97</td>\n",
       "      <td>20.322031</td>\n",
       "      <td>7433.403107</td>\n",
       "      <td>10.772991</td>\n",
       "      <td>0.100783</td>\n",
       "      <td>ap_6</td>\n",
       "      <td>18.411760</td>\n",
       "      <td>518.675589</td>\n",
       "      <td>16.796582</td>\n",
       "      <td>0.064640</td>\n",
       "      <td>ap_10</td>\n",
       "    </tr>\n",
       "  </tbody>\n",
       "</table>\n",
       "</div>"
      ],
      "text/plain": [
       "            mq_ra    mq_dec                   mq_name   mq_z mq_cite  \\\n",
       "29552  340.029741 -0.892448               PGC 1132088  0.054     PGC   \n",
       "29553  340.032899 -1.256140  SDSS J224007.89-011522.1  0.659   DR14Q   \n",
       "29554  340.039043 -0.649055  SDSS J224009.37-003856.5  2.306   DR14Q   \n",
       "29556  340.047792 -1.246840  SDSS J224011.46-011448.6  1.451   DR14Q   \n",
       "29557  340.055801 -0.901223  SDSS J224013.39-005404.4  0.160    DR14   \n",
       "29559  340.059501 -0.189209  SDSS J224014.28-001121.1  2.235    DR14   \n",
       "29561  340.072023 -1.245235  SDSS J224017.28-011442.8  0.502   DR14Q   \n",
       "29562  340.076227 -0.873265  SDSS J224018.29-005223.7  2.561   DR14Q   \n",
       "29563  340.077436 -0.115803  SDSS J224018.58-000656.8  2.297   DR14Q   \n",
       "29567  340.094890 -0.031102  SDSS J224022.77-000151.9  0.910   DR14Q   \n",
       "\n",
       "           temp_object_name  forced_desdr1_mag_z  forced_desdr1_flux_z  \\\n",
       "29552  J224007.14-005332.81            15.082608         926737.944564   \n",
       "29553  J224007.90-011522.10            19.857754          11399.831091   \n",
       "29554  J224009.37-003856.60            20.635514           5569.221234   \n",
       "29556  J224011.47-011448.62            19.140504          22069.803604   \n",
       "29557  J224013.39-005404.40            17.108760         143382.447520   \n",
       "29559  J224014.28-001121.15            19.041673          24173.011869   \n",
       "29561  J224017.29-011442.85            19.227211          20375.848510   \n",
       "29562  J224018.29-005223.75            20.962682           4120.285536   \n",
       "29563  J224018.58-000656.89            20.446812           6626.362411   \n",
       "29567  J224022.77-000151.97            20.322031           7433.403107   \n",
       "\n",
       "       forced_desdr1_sn_z  forced_desdr1_magerr_z forced_desdr1_z_comment  \\\n",
       "29552         1168.961288                0.000929                    ap_6   \n",
       "29553           21.119467                0.051409                    ap_6   \n",
       "29554           10.345465                0.104948                    ap_6   \n",
       "29556           46.445862                0.023376                    ap_6   \n",
       "29557          175.526171                0.006186                    ap_6   \n",
       "29559           29.314671                0.037037                    ap_6   \n",
       "29561           29.847568                0.036376                    ap_6   \n",
       "29562            5.074662                0.213952                    ap_6   \n",
       "29563           12.390091                0.087629                    ap_6   \n",
       "29567           10.772991                0.100783                    ap_6   \n",
       "\n",
       "       forced_unwise-neo3_mag_w1  forced_unwise-neo3_flux_w1  \\\n",
       "29552                  15.307259                 9050.998584   \n",
       "29553                  19.231664                  243.744227   \n",
       "29554                  16.684475                 2545.715210   \n",
       "29556                  18.890900                  333.610702   \n",
       "29557                  16.946694                 1999.503846   \n",
       "29559                  18.035639                  733.405742   \n",
       "29561                        NaN                         NaN   \n",
       "29562                        NaN                         NaN   \n",
       "29563                  19.098493                  275.551433   \n",
       "29567                  18.411760                  518.675589   \n",
       "\n",
       "       forced_unwise-neo3_sn_w1  forced_unwise-neo3_magerr_w1  \\\n",
       "29552                244.620679                      0.004438   \n",
       "29553                  7.797731                      0.139237   \n",
       "29554                 80.620213                      0.013467   \n",
       "29556                 13.090538                      0.082941   \n",
       "29557                 66.808711                      0.016251   \n",
       "29559                 17.149933                      0.063308   \n",
       "29561                       NaN                           NaN   \n",
       "29562                       NaN                           NaN   \n",
       "29563                  5.312160                      0.204387   \n",
       "29567                 16.796582                      0.064640   \n",
       "\n",
       "      forced_unwise-neo3_w1_comment  \n",
       "29552                         ap_10  \n",
       "29553                         ap_10  \n",
       "29554                         ap_10  \n",
       "29556                         ap_10  \n",
       "29557                         ap_10  \n",
       "29559                         ap_10  \n",
       "29561               image_too_small  \n",
       "29562               image_too_small  \n",
       "29563                         ap_10  \n",
       "29567                         ap_10  "
      ]
     },
     "execution_count": 7,
     "metadata": {},
     "output_type": "execute_result"
    }
   ],
   "source": [
    "forced_photometry"
   ]
  },
  {
   "cell_type": "code",
   "execution_count": null,
   "metadata": {},
   "outputs": [],
   "source": []
  },
  {
   "cell_type": "code",
   "execution_count": null,
   "metadata": {},
   "outputs": [],
   "source": []
  }
 ],
 "metadata": {
  "kernelspec": {
   "display_name": "Python 3",
   "language": "python",
   "name": "python3"
  },
  "language_info": {
   "codemirror_mode": {
    "name": "ipython",
    "version": 3
   },
   "file_extension": ".py",
   "mimetype": "text/x-python",
   "name": "python",
   "nbconvert_exporter": "python",
   "pygments_lexer": "ipython3",
   "version": "3.6.8"
  }
 },
 "nbformat": 4,
 "nbformat_minor": 2
}
