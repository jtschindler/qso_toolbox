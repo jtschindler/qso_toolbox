{
 "cells": [
  {
   "cell_type": "markdown",
   "metadata": {},
   "source": [
    "## Quick example on how to get VLASS and Skymapper images"
   ]
  },
  {
   "cell_type": "markdown",
   "metadata": {},
   "source": [
    "Import statement."
   ]
  },
  {
   "cell_type": "code",
   "execution_count": 1,
   "metadata": {},
   "outputs": [],
   "source": [
    "import pandas as pd \n",
    "from astropy.io import fits \n",
    "from astropy.table import Table\n",
    "from qso_toolbox import catalog_tools as ct, image_tools as it, photometry_tools as pt, utils as ut"
   ]
  },
  {
   "cell_type": "markdown",
   "metadata": {},
   "source": [
    "Open example catalog file and select test set."
   ]
  },
  {
   "cell_type": "code",
   "execution_count": 2,
   "metadata": {},
   "outputs": [
    {
     "name": "stdout",
     "output_type": "stream",
     "text": [
      "      mq_ra    mq_dec                   mq_name   mq_z mq_cite\n",
      "0  0.006464 -0.559066  SDSS J000001.55-003332.6  2.219   DR14Q\n",
      "1  0.006855  0.583184  SDSS J000001.64+003459.4  2.271   DR14Q\n"
     ]
    }
   ],
   "source": [
    "df_hdf = pd.read_hdf('./data/stripe82_milliquas_190210.hdf5',key='data')\n",
    "print(df_hdf[:2])\n",
    "test_set = df_hdf.query('340 < mq_ra < 350 and -1.26 < mq_dec < 0')"
   ]
  },
  {
   "cell_type": "markdown",
   "metadata": {},
   "source": [
    "Creating the cutouts directory if it does not exist already."
   ]
  },
  {
   "cell_type": "code",
   "execution_count": 3,
   "metadata": {},
   "outputs": [
    {
     "name": "stdout",
     "output_type": "stream",
     "text": [
      "mkdir: cutouts: File exists\n",
      "GettingStarted.ipynb\n",
      "HowTo-1-DownloadingImageCutouts.ipynb\n",
      "HowTo-2-CalculatingForcedPhotometry.ipynb\n",
      "HowTo-3-OffsetStarsAndFindingCharts.ipynb\n",
      "Untitled.ipynb\n",
      "Untitled1.ipynb\n",
      "\u001b[34mcutouts\u001b[m\u001b[m\n",
      "\u001b[34mdata\u001b[m\u001b[m\n",
      "data.txt\n",
      "fc_PGC 1132088.png\n",
      "fc_SDSS J224007.89-011522.1.png\n",
      "fc_SDSS J224009.37-003856.5.png\n",
      "fc_SDSS J224011.46-011448.6.png\n",
      "fc_SDSS J224013.39-005404.4.png\n",
      "fc_SDSS J224014.28-001121.1.png\n",
      "fc_SDSS J224017.28-011442.8.png\n",
      "fc_SDSS J224018.29-005223.7.png\n",
      "fc_SDSS J224018.58-000656.8.png\n",
      "fc_SDSS J224022.77-000151.9.png\n",
      "imviewgui_example.py\n",
      "mp_test.py\n",
      "temp.hdf5\n",
      "temp_offset_df.csv\n",
      "tmp.tar.gz\n",
      "vlass_quicklook_summary.hdf5\n"
     ]
    }
   ],
   "source": [
    "! mkdir cutouts \n",
    "! ls "
   ]
  },
  {
   "cell_type": "markdown",
   "metadata": {},
   "source": [
    "## Downloading VLASS Images \n",
    "\n",
    "The normal *get_photometry* routine only downloads the most recent VLASS image. The main reason is that the saved file needs to be uniquely identifiable by the other routines in the qso_toolbox (finding charts, image viewer GUI) and the current tools were not designed to support multiple images from a the same RA, Dec with the same survey, data release, and band. \n",
    "\n",
    "For VLASS the toolbox will first download the full image (*_raw.fits*) and then create a cutout from that image, if possible. If the position of the source is outside the pixel in the raw image it will return a warning that it could not create the image. Obviously, this can still be improved in the future to make the warning more transparent. \n",
    "\n",
    "The *get_photometry* example for the first 3 images in the test_set:"
   ]
  },
  {
   "cell_type": "code",
   "execution_count": null,
   "metadata": {},
   "outputs": [
    {
     "name": "stdout",
     "output_type": "stream",
     "text": [
      "[INFO] Get photometry for J224007.14-005332.81_vlass_3GHz_fov200\n",
      "-98011.39942455292 86400\n",
      "True\n",
      "[INFO] Downloading VLASS quicklook summary table.\n"
     ]
    },
    {
     "name": "stderr",
     "output_type": "stream",
     "text": [
      "/Users/schindler/anaconda3/lib/python3.7/site-packages/pandas/core/indexing.py:1596: SettingWithCopyWarning: \n",
      "A value is trying to be set on a copy of a slice from a DataFrame.\n",
      "Try using .loc[row_indexer,col_indexer] = value instead\n",
      "\n",
      "See the caveats in the documentation: https://pandas.pydata.org/pandas-docs/stable/user_guide/indexing.html#returning-a-view-versus-a-copy\n",
      "  self.obj[key] = _infer_fill_value(value)\n",
      "/Users/schindler/anaconda3/lib/python3.7/site-packages/pandas/core/indexing.py:1743: SettingWithCopyWarning: \n",
      "A value is trying to be set on a copy of a slice from a DataFrame.\n",
      "Try using .loc[row_indexer,col_indexer] = value instead\n",
      "\n",
      "See the caveats in the documentation: https://pandas.pydata.org/pandas-docs/stable/user_guide/indexing.html#returning-a-view-versus-a-copy\n",
      "  isetter(ilocs[0], value)\n"
     ]
    },
    {
     "name": "stdout",
     "output_type": "stream",
     "text": [
      "[INFO] Source appears in more than one tile\n",
      "[INFO] tile T10t34, obsdate 2017-12-15, epoch VLASS1.1\n",
      "[INFO] tile T10t34, obsdate 2020-07-17, epoch VLASS2.1\n",
      "[INFO] Choosing tile with most recent observation date: T10t34\n",
      "[INFO] VLASS2.1.ql.T10t34.J224000-003000.10.2048.v1/ is closest subtile\n",
      "[INFO] with a source distance of 0.39357 deg \n"
     ]
    }
   ],
   "source": [
    "surveys = ['vlass']\n",
    "bands = ['3GHz']\n",
    "fovs = [200]\n",
    "\n",
    "ct.get_photometry(test_set[:3], 'mq_ra', 'mq_dec', surveys, bands, './cutouts/', fovs, verbosity=2)"
   ]
  },
  {
   "cell_type": "markdown",
   "metadata": {},
   "source": [
    "To download all VLASS images from all epochs at a given position, you can import *download_vlass_images(ra, dec, fov, image_folder_path)* from the *vlass_quicklook* module. This works simply on RA, and Dec. If you wanted to retrieve all VLASS images for the first 3 files in the test_set it would look like this:"
   ]
  },
  {
   "cell_type": "code",
   "execution_count": 10,
   "metadata": {},
   "outputs": [
    {
     "name": "stdout",
     "output_type": "stream",
     "text": [
      "1611567329.2477305 86400\n",
      "False\n",
      "[INFO] Downloading raw VLASS images.\n",
      "1611567329.2477305 86400\n",
      "False\n",
      "[INFO] Source appears in more than one tile\n",
      "[INFO] tile T10t34, obsdate 2017-12-15, epoch VLASS1.1\n",
      "[INFO] tile T10t34, obsdate 2020-07-17, epoch VLASS2.1\n",
      "[INFO] Returning all tiles:\n",
      "567    T10t34\n",
      "566    T10t34\n",
      "Name: name, dtype: object\n",
      "[INFO] VLASS1.1.ql.T10t34.J224000-003000.10.2048.v1/ is closest subtile\n",
      "[INFO] with a source distance of 0.39357 deg \n",
      "Download of J224007.14-005332.81_vlass_3GHz_VLASS1.1_raw to ./cutouts/ completed\n",
      "[INFO] Generating VLASS cutout image.\n",
      "[INFO] Generate VLASS cutout centered on 340.03 -0.89\n",
      "[INFO] Cutout with a FOV of 100 generated.\n",
      "[INFO] Cutout saved as ./cutouts//J224007.14-005332.81_vlass_3GHz_VLASS1.1_fov100.fits\n",
      "[INFO] Downloading raw VLASS images.\n",
      "1611567329.2477305 86400\n",
      "False\n",
      "[INFO] Source appears in more than one tile\n",
      "[INFO] tile T10t34, obsdate 2017-12-15, epoch VLASS1.1\n",
      "[INFO] tile T10t34, obsdate 2020-07-17, epoch VLASS2.1\n",
      "[INFO] Returning all tiles:\n",
      "567    T10t34\n",
      "566    T10t34\n",
      "Name: name, dtype: object\n",
      "[INFO] VLASS2.1.ql.T10t34.J224000-003000.10.2048.v1/ is closest subtile\n",
      "[INFO] with a source distance of 0.39357 deg \n",
      "Download of J224007.14-005332.81_vlass_3GHz_VLASS2.1_raw to ./cutouts/ completed\n",
      "[INFO] Generating VLASS cutout image.\n",
      "[INFO] Generate VLASS cutout centered on 340.03 -0.89\n",
      "[INFO] Cutout with a FOV of 100 generated.\n",
      "[INFO] Cutout saved as ./cutouts//J224007.14-005332.81_vlass_3GHz_VLASS2.1_fov100.fits\n",
      "1611567329.2477305 86400\n",
      "False\n",
      "[INFO] Downloading raw VLASS images.\n",
      "1611567329.2477305 86400\n",
      "False\n",
      "[INFO] Source appears in more than one tile\n",
      "[INFO] tile T10t34, obsdate 2017-12-15, epoch VLASS1.1\n",
      "[INFO] tile T10t34, obsdate 2020-07-17, epoch VLASS2.1\n",
      "[INFO] Returning all tiles:\n",
      "567    T10t34\n",
      "566    T10t34\n",
      "Name: name, dtype: object\n",
      "[INFO] VLASS1.1.ql.T10t34.J223800-013000.10.2048.v1/ is closest subtile\n",
      "[INFO] with a source distance of 0.58590 deg \n",
      "Download of J224007.90-011522.10_vlass_3GHz_VLASS1.1_raw to ./cutouts/ completed\n",
      "[INFO] Generating VLASS cutout image.\n",
      "[INFO] Generate VLASS cutout centered on 340.03 -1.26\n",
      "[WARNING] Cutout could not be generated.\n",
      "[INFO] Downloading raw VLASS images.\n",
      "1611567329.2477305 86400\n",
      "False\n",
      "[INFO] Source appears in more than one tile\n",
      "[INFO] tile T10t34, obsdate 2017-12-15, epoch VLASS1.1\n",
      "[INFO] tile T10t34, obsdate 2020-07-17, epoch VLASS2.1\n",
      "[INFO] Returning all tiles:\n",
      "567    T10t34\n",
      "566    T10t34\n",
      "Name: name, dtype: object\n",
      "[INFO] VLASS2.1.ql.T10t34.J223800-013000.10.2048.v1/ is closest subtile\n",
      "[INFO] with a source distance of 0.58590 deg \n",
      "Download of J224007.90-011522.10_vlass_3GHz_VLASS2.1_raw to ./cutouts/ completed\n",
      "[INFO] Generating VLASS cutout image.\n",
      "[INFO] Generate VLASS cutout centered on 340.03 -1.26\n",
      "[WARNING] Cutout could not be generated.\n",
      "1611567329.2477305 86400\n",
      "False\n",
      "[INFO] Downloading raw VLASS images.\n",
      "1611567329.2477305 86400\n",
      "False\n",
      "[INFO] Source appears in more than one tile\n",
      "[INFO] tile T10t34, obsdate 2017-12-15, epoch VLASS1.1\n",
      "[INFO] tile T10t34, obsdate 2020-07-17, epoch VLASS2.1\n",
      "[INFO] Returning all tiles:\n",
      "567    T10t34\n",
      "566    T10t34\n",
      "Name: name, dtype: object\n",
      "[INFO] VLASS1.1.ql.T10t34.J224000-003000.10.2048.v1/ is closest subtile\n",
      "[INFO] with a source distance of 0.15408 deg \n",
      "Download of J224009.37-003856.60_vlass_3GHz_VLASS1.1_raw to ./cutouts/ completed\n",
      "[INFO] Generating VLASS cutout image.\n",
      "[INFO] Generate VLASS cutout centered on 340.04 -0.65\n",
      "[INFO] Cutout with a FOV of 100 generated.\n",
      "[INFO] Cutout saved as ./cutouts//J224009.37-003856.60_vlass_3GHz_VLASS1.1_fov100.fits\n",
      "[INFO] Downloading raw VLASS images.\n",
      "1611567329.2477305 86400\n",
      "False\n",
      "[INFO] Source appears in more than one tile\n",
      "[INFO] tile T10t34, obsdate 2017-12-15, epoch VLASS1.1\n",
      "[INFO] tile T10t34, obsdate 2020-07-17, epoch VLASS2.1\n",
      "[INFO] Returning all tiles:\n",
      "567    T10t34\n",
      "566    T10t34\n",
      "Name: name, dtype: object\n",
      "[INFO] VLASS2.1.ql.T10t34.J224000-003000.10.2048.v1/ is closest subtile\n",
      "[INFO] with a source distance of 0.15408 deg \n",
      "Download of J224009.37-003856.60_vlass_3GHz_VLASS2.1_raw to ./cutouts/ completed\n",
      "[INFO] Generating VLASS cutout image.\n",
      "[INFO] Generate VLASS cutout centered on 340.04 -0.65\n",
      "[INFO] Cutout with a FOV of 100 generated.\n",
      "[INFO] Cutout saved as ./cutouts//J224009.37-003856.60_vlass_3GHz_VLASS2.1_fov100.fits\n",
      "1611567329.2477305 86400\n",
      "False\n",
      "[INFO] Downloading raw VLASS images.\n",
      "1611567329.2477305 86400\n",
      "False\n",
      "[INFO] Source appears in more than one tile\n",
      "[INFO] tile T10t34, obsdate 2017-12-15, epoch VLASS1.1\n",
      "[INFO] tile T10t34, obsdate 2020-07-17, epoch VLASS2.1\n",
      "[INFO] Returning all tiles:\n",
      "567    T10t34\n",
      "566    T10t34\n",
      "Name: name, dtype: object\n",
      "[INFO] VLASS1.1.ql.T10t34.J223800-013000.10.2048.v1/ is closest subtile\n",
      "[INFO] with a source distance of 0.60332 deg \n",
      "Download of J224011.47-011448.62_vlass_3GHz_VLASS1.1_raw to ./cutouts/ completed\n",
      "[INFO] Generating VLASS cutout image.\n",
      "[INFO] Generate VLASS cutout centered on 340.05 -1.25\n",
      "[WARNING] Cutout could not be generated.\n",
      "[INFO] Downloading raw VLASS images.\n",
      "1611567329.2477305 86400\n",
      "False\n",
      "[INFO] Source appears in more than one tile\n",
      "[INFO] tile T10t34, obsdate 2017-12-15, epoch VLASS1.1\n",
      "[INFO] tile T10t34, obsdate 2020-07-17, epoch VLASS2.1\n",
      "[INFO] Returning all tiles:\n",
      "567    T10t34\n",
      "566    T10t34\n",
      "Name: name, dtype: object\n",
      "[INFO] VLASS2.1.ql.T10t34.J223800-013000.10.2048.v1/ is closest subtile\n",
      "[INFO] with a source distance of 0.60332 deg \n",
      "Download of J224011.47-011448.62_vlass_3GHz_VLASS2.1_raw to ./cutouts/ completed\n",
      "[INFO] Generating VLASS cutout image.\n",
      "[INFO] Generate VLASS cutout centered on 340.05 -1.25\n",
      "[WARNING] Cutout could not be generated.\n",
      "1611567329.2477305 86400\n",
      "False\n",
      "[INFO] Downloading raw VLASS images.\n",
      "1611567329.2477305 86400\n",
      "False\n",
      "[INFO] Source appears in more than one tile\n",
      "[INFO] tile T10t35, obsdate 2017-12-15, epoch VLASS1.1\n",
      "[INFO] tile T10t35, obsdate 2020-08-05, epoch VLASS2.1\n",
      "[INFO] Returning all tiles:\n",
      "569    T10t35\n",
      "568    T10t35\n",
      "Name: name, dtype: object\n",
      "[INFO] VLASS1.1.ql.T10t35.J224159-003000.10.2048.v1/ is closest subtile\n",
      "[INFO] with a source distance of 0.59547 deg \n",
      "Download of J224013.39-005404.40_vlass_3GHz_VLASS1.1_raw to ./cutouts/ completed\n",
      "[INFO] Generating VLASS cutout image.\n",
      "[INFO] Generate VLASS cutout centered on 340.06 -0.90\n",
      "[INFO] Cutout with a FOV of 100 generated.\n",
      "[INFO] Cutout saved as ./cutouts//J224013.39-005404.40_vlass_3GHz_VLASS1.1_fov100.fits\n",
      "[INFO] Downloading raw VLASS images.\n",
      "1611567329.2477305 86400\n",
      "False\n",
      "[INFO] Source appears in more than one tile\n",
      "[INFO] tile T10t35, obsdate 2017-12-15, epoch VLASS1.1\n",
      "[INFO] tile T10t35, obsdate 2020-08-05, epoch VLASS2.1\n",
      "[INFO] Returning all tiles:\n",
      "569    T10t35\n",
      "568    T10t35\n",
      "Name: name, dtype: object\n",
      "[INFO] VLASS2.1.ql.T10t35.J224159-003000.10.2048.v1/ is closest subtile\n",
      "[INFO] with a source distance of 0.59547 deg \n",
      "Download of J224013.39-005404.40_vlass_3GHz_VLASS2.1_raw to ./cutouts/ completed\n",
      "[INFO] Generating VLASS cutout image.\n",
      "[INFO] Generate VLASS cutout centered on 340.06 -0.90\n",
      "[INFO] Cutout with a FOV of 100 generated.\n",
      "[INFO] Cutout saved as ./cutouts//J224013.39-005404.40_vlass_3GHz_VLASS2.1_fov100.fits\n",
      "1611567329.2477305 86400\n",
      "False\n",
      "[INFO] Downloading raw VLASS images.\n",
      "1611567329.2477305 86400\n",
      "False\n",
      "[INFO] Source appears in more than one tile\n",
      "[INFO] tile T10t35, obsdate 2017-12-15, epoch VLASS1.1\n",
      "[INFO] tile T10t35, obsdate 2020-08-05, epoch VLASS2.1\n",
      "[INFO] Returning all tiles:\n",
      "569    T10t35\n",
      "568    T10t35\n",
      "Name: name, dtype: object\n",
      "[INFO] VLASS1.1.ql.T10t35.J224159-003000.10.2048.v1/ is closest subtile\n",
      "[INFO] with a source distance of 0.53570 deg \n",
      "Download of J224014.28-001121.15_vlass_3GHz_VLASS1.1_raw to ./cutouts/ completed\n",
      "[INFO] Generating VLASS cutout image.\n",
      "[INFO] Generate VLASS cutout centered on 340.06 -0.19\n",
      "[INFO] Cutout with a FOV of 100 generated.\n",
      "[INFO] Cutout saved as ./cutouts//J224014.28-001121.15_vlass_3GHz_VLASS1.1_fov100.fits\n",
      "[INFO] Downloading raw VLASS images.\n",
      "1611567329.2477305 86400\n",
      "False\n",
      "[INFO] Source appears in more than one tile\n",
      "[INFO] tile T10t35, obsdate 2017-12-15, epoch VLASS1.1\n",
      "[INFO] tile T10t35, obsdate 2020-08-05, epoch VLASS2.1\n",
      "[INFO] Returning all tiles:\n",
      "569    T10t35\n",
      "568    T10t35\n",
      "Name: name, dtype: object\n",
      "[INFO] VLASS2.1.ql.T10t35.J224159-003000.10.2048.v1/ is closest subtile\n",
      "[INFO] with a source distance of 0.53570 deg \n"
     ]
    },
    {
     "name": "stdout",
     "output_type": "stream",
     "text": [
      "Download of J224014.28-001121.15_vlass_3GHz_VLASS2.1_raw to ./cutouts/ completed\n",
      "[INFO] Generating VLASS cutout image.\n",
      "[INFO] Generate VLASS cutout centered on 340.06 -0.19\n",
      "[INFO] Cutout with a FOV of 100 generated.\n",
      "[INFO] Cutout saved as ./cutouts//J224014.28-001121.15_vlass_3GHz_VLASS2.1_fov100.fits\n",
      "1611567329.2477305 86400\n",
      "False\n",
      "[INFO] Downloading raw VLASS images.\n",
      "1611567329.2477305 86400\n",
      "False\n",
      "[INFO] Source appears in more than one tile\n",
      "[INFO] tile T10t35, obsdate 2017-12-15, epoch VLASS1.1\n",
      "[INFO] tile T10t35, obsdate 2020-08-05, epoch VLASS2.1\n",
      "[INFO] Returning all tiles:\n",
      "569    T10t35\n",
      "568    T10t35\n",
      "Name: name, dtype: object\n",
      "[INFO] VLASS1.1.ql.T10t35.J224200-013000.10.2048.v1/ is closest subtile\n",
      "[INFO] with a source distance of 0.49796 deg \n"
     ]
    },
    {
     "ename": "KeyboardInterrupt",
     "evalue": "",
     "output_type": "error",
     "traceback": [
      "\u001b[0;31m---------------------------------------------------------------------------\u001b[0m",
      "\u001b[0;31mKeyboardInterrupt\u001b[0m                         Traceback (most recent call last)",
      "\u001b[0;32m<ipython-input-10-5d07207b9429>\u001b[0m in \u001b[0;36m<module>\u001b[0;34m\u001b[0m\n\u001b[1;32m      8\u001b[0m \u001b[0;34m\u001b[0m\u001b[0m\n\u001b[1;32m      9\u001b[0m     vql.download_vlass_images(ra, dec, 100,\n\u001b[0;32m---> 10\u001b[0;31m                               './cutouts/', verbosity=2)\n\u001b[0m",
      "\u001b[0;32m~/anaconda3/lib/python3.7/site-packages/qso_toolbox/vlass_quicklook.py\u001b[0m in \u001b[0;36mdownload_vlass_images\u001b[0;34m(ra, dec, fov, image_folder_path, update_summary, verbosity)\u001b[0m\n\u001b[1;32m    303\u001b[0m                   \u001b[0mepoch\u001b[0m\u001b[0;34m=\u001b[0m\u001b[0mepoch\u001b[0m\u001b[0;34m,\u001b[0m\u001b[0;34m\u001b[0m\u001b[0;34m\u001b[0m\u001b[0m\n\u001b[1;32m    304\u001b[0m                   \u001b[0mupdate_summary\u001b[0m\u001b[0;34m=\u001b[0m\u001b[0mupdate_summary\u001b[0m\u001b[0;34m,\u001b[0m\u001b[0;34m\u001b[0m\u001b[0;34m\u001b[0m\u001b[0m\n\u001b[0;32m--> 305\u001b[0;31m                   verbosity=verbosity)\n\u001b[0m\u001b[1;32m    306\u001b[0m \u001b[0;34m\u001b[0m\u001b[0m\n\u001b[1;32m    307\u001b[0m             ct.download_image(url[0], raw_img_name, image_folder_path,\n",
      "\u001b[0;32m~/anaconda3/lib/python3.7/site-packages/qso_toolbox/catalog_tools.py\u001b[0m in \u001b[0;36mdownload_image\u001b[0;34m(url, image_name, image_folder_path, verbosity)\u001b[0m\n\u001b[1;32m   1515\u001b[0m             \u001b[0;32melif\u001b[0m \u001b[0msurvey\u001b[0m \u001b[0;34m==\u001b[0m \u001b[0;34m'vlass'\u001b[0m\u001b[0;34m:\u001b[0m\u001b[0;34m\u001b[0m\u001b[0;34m\u001b[0m\u001b[0m\n\u001b[1;32m   1516\u001b[0m \u001b[0;34m\u001b[0m\u001b[0m\n\u001b[0;32m-> 1517\u001b[0;31m                 \u001b[0mfile\u001b[0m \u001b[0;34m=\u001b[0m \u001b[0mdatafile\u001b[0m\u001b[0;34m.\u001b[0m\u001b[0mread\u001b[0m\u001b[0;34m(\u001b[0m\u001b[0;34m)\u001b[0m\u001b[0;34m\u001b[0m\u001b[0;34m\u001b[0m\u001b[0m\n\u001b[0m\u001b[1;32m   1518\u001b[0m                 \u001b[0moutput\u001b[0m \u001b[0;34m=\u001b[0m \u001b[0mopen\u001b[0m\u001b[0;34m(\u001b[0m\u001b[0mimage_folder_path\u001b[0m\u001b[0;34m+\u001b[0m\u001b[0;34m'/'\u001b[0m\u001b[0;34m+\u001b[0m\u001b[0mimage_name\u001b[0m\u001b[0;34m+\u001b[0m\u001b[0;34m'.fits'\u001b[0m\u001b[0;34m,\u001b[0m \u001b[0;34m'wb'\u001b[0m\u001b[0;34m)\u001b[0m\u001b[0;34m\u001b[0m\u001b[0;34m\u001b[0m\u001b[0m\n\u001b[1;32m   1519\u001b[0m                 \u001b[0moutput\u001b[0m\u001b[0;34m.\u001b[0m\u001b[0mwrite\u001b[0m\u001b[0;34m(\u001b[0m\u001b[0mfile\u001b[0m\u001b[0;34m)\u001b[0m\u001b[0;34m\u001b[0m\u001b[0;34m\u001b[0m\u001b[0m\n",
      "\u001b[0;32m~/anaconda3/lib/python3.7/http/client.py\u001b[0m in \u001b[0;36mread\u001b[0;34m(self, amt)\u001b[0m\n\u001b[1;32m    462\u001b[0m \u001b[0;34m\u001b[0m\u001b[0m\n\u001b[1;32m    463\u001b[0m             \u001b[0;32mif\u001b[0m \u001b[0mself\u001b[0m\u001b[0;34m.\u001b[0m\u001b[0mchunked\u001b[0m\u001b[0;34m:\u001b[0m\u001b[0;34m\u001b[0m\u001b[0;34m\u001b[0m\u001b[0m\n\u001b[0;32m--> 464\u001b[0;31m                 \u001b[0;32mreturn\u001b[0m \u001b[0mself\u001b[0m\u001b[0;34m.\u001b[0m\u001b[0m_readall_chunked\u001b[0m\u001b[0;34m(\u001b[0m\u001b[0;34m)\u001b[0m\u001b[0;34m\u001b[0m\u001b[0;34m\u001b[0m\u001b[0m\n\u001b[0m\u001b[1;32m    465\u001b[0m \u001b[0;34m\u001b[0m\u001b[0m\n\u001b[1;32m    466\u001b[0m             \u001b[0;32mif\u001b[0m \u001b[0mself\u001b[0m\u001b[0;34m.\u001b[0m\u001b[0mlength\u001b[0m \u001b[0;32mis\u001b[0m \u001b[0;32mNone\u001b[0m\u001b[0;34m:\u001b[0m\u001b[0;34m\u001b[0m\u001b[0;34m\u001b[0m\u001b[0m\n",
      "\u001b[0;32m~/anaconda3/lib/python3.7/http/client.py\u001b[0m in \u001b[0;36m_readall_chunked\u001b[0;34m(self)\u001b[0m\n\u001b[1;32m    572\u001b[0m                 \u001b[0;32mif\u001b[0m \u001b[0mchunk_left\u001b[0m \u001b[0;32mis\u001b[0m \u001b[0;32mNone\u001b[0m\u001b[0;34m:\u001b[0m\u001b[0;34m\u001b[0m\u001b[0;34m\u001b[0m\u001b[0m\n\u001b[1;32m    573\u001b[0m                     \u001b[0;32mbreak\u001b[0m\u001b[0;34m\u001b[0m\u001b[0;34m\u001b[0m\u001b[0m\n\u001b[0;32m--> 574\u001b[0;31m                 \u001b[0mvalue\u001b[0m\u001b[0;34m.\u001b[0m\u001b[0mappend\u001b[0m\u001b[0;34m(\u001b[0m\u001b[0mself\u001b[0m\u001b[0;34m.\u001b[0m\u001b[0m_safe_read\u001b[0m\u001b[0;34m(\u001b[0m\u001b[0mchunk_left\u001b[0m\u001b[0;34m)\u001b[0m\u001b[0;34m)\u001b[0m\u001b[0;34m\u001b[0m\u001b[0;34m\u001b[0m\u001b[0m\n\u001b[0m\u001b[1;32m    575\u001b[0m                 \u001b[0mself\u001b[0m\u001b[0;34m.\u001b[0m\u001b[0mchunk_left\u001b[0m \u001b[0;34m=\u001b[0m \u001b[0;36m0\u001b[0m\u001b[0;34m\u001b[0m\u001b[0;34m\u001b[0m\u001b[0m\n\u001b[1;32m    576\u001b[0m             \u001b[0;32mreturn\u001b[0m \u001b[0;34mb''\u001b[0m\u001b[0;34m.\u001b[0m\u001b[0mjoin\u001b[0m\u001b[0;34m(\u001b[0m\u001b[0mvalue\u001b[0m\u001b[0;34m)\u001b[0m\u001b[0;34m\u001b[0m\u001b[0;34m\u001b[0m\u001b[0m\n",
      "\u001b[0;32m~/anaconda3/lib/python3.7/http/client.py\u001b[0m in \u001b[0;36m_safe_read\u001b[0;34m(self, amt)\u001b[0m\n\u001b[1;32m    618\u001b[0m         \u001b[0ms\u001b[0m \u001b[0;34m=\u001b[0m \u001b[0;34m[\u001b[0m\u001b[0;34m]\u001b[0m\u001b[0;34m\u001b[0m\u001b[0;34m\u001b[0m\u001b[0m\n\u001b[1;32m    619\u001b[0m         \u001b[0;32mwhile\u001b[0m \u001b[0mamt\u001b[0m \u001b[0;34m>\u001b[0m \u001b[0;36m0\u001b[0m\u001b[0;34m:\u001b[0m\u001b[0;34m\u001b[0m\u001b[0;34m\u001b[0m\u001b[0m\n\u001b[0;32m--> 620\u001b[0;31m             \u001b[0mchunk\u001b[0m \u001b[0;34m=\u001b[0m \u001b[0mself\u001b[0m\u001b[0;34m.\u001b[0m\u001b[0mfp\u001b[0m\u001b[0;34m.\u001b[0m\u001b[0mread\u001b[0m\u001b[0;34m(\u001b[0m\u001b[0mmin\u001b[0m\u001b[0;34m(\u001b[0m\u001b[0mamt\u001b[0m\u001b[0;34m,\u001b[0m \u001b[0mMAXAMOUNT\u001b[0m\u001b[0;34m)\u001b[0m\u001b[0;34m)\u001b[0m\u001b[0;34m\u001b[0m\u001b[0;34m\u001b[0m\u001b[0m\n\u001b[0m\u001b[1;32m    621\u001b[0m             \u001b[0;32mif\u001b[0m \u001b[0;32mnot\u001b[0m \u001b[0mchunk\u001b[0m\u001b[0;34m:\u001b[0m\u001b[0;34m\u001b[0m\u001b[0;34m\u001b[0m\u001b[0m\n\u001b[1;32m    622\u001b[0m                 \u001b[0;32mraise\u001b[0m \u001b[0mIncompleteRead\u001b[0m\u001b[0;34m(\u001b[0m\u001b[0;34mb''\u001b[0m\u001b[0;34m.\u001b[0m\u001b[0mjoin\u001b[0m\u001b[0;34m(\u001b[0m\u001b[0ms\u001b[0m\u001b[0;34m)\u001b[0m\u001b[0;34m,\u001b[0m \u001b[0mamt\u001b[0m\u001b[0;34m)\u001b[0m\u001b[0;34m\u001b[0m\u001b[0;34m\u001b[0m\u001b[0m\n",
      "\u001b[0;32m~/anaconda3/lib/python3.7/socket.py\u001b[0m in \u001b[0;36mreadinto\u001b[0;34m(self, b)\u001b[0m\n\u001b[1;32m    587\u001b[0m         \u001b[0;32mwhile\u001b[0m \u001b[0;32mTrue\u001b[0m\u001b[0;34m:\u001b[0m\u001b[0;34m\u001b[0m\u001b[0;34m\u001b[0m\u001b[0m\n\u001b[1;32m    588\u001b[0m             \u001b[0;32mtry\u001b[0m\u001b[0;34m:\u001b[0m\u001b[0;34m\u001b[0m\u001b[0;34m\u001b[0m\u001b[0m\n\u001b[0;32m--> 589\u001b[0;31m                 \u001b[0;32mreturn\u001b[0m \u001b[0mself\u001b[0m\u001b[0;34m.\u001b[0m\u001b[0m_sock\u001b[0m\u001b[0;34m.\u001b[0m\u001b[0mrecv_into\u001b[0m\u001b[0;34m(\u001b[0m\u001b[0mb\u001b[0m\u001b[0;34m)\u001b[0m\u001b[0;34m\u001b[0m\u001b[0;34m\u001b[0m\u001b[0m\n\u001b[0m\u001b[1;32m    590\u001b[0m             \u001b[0;32mexcept\u001b[0m \u001b[0mtimeout\u001b[0m\u001b[0;34m:\u001b[0m\u001b[0;34m\u001b[0m\u001b[0;34m\u001b[0m\u001b[0m\n\u001b[1;32m    591\u001b[0m                 \u001b[0mself\u001b[0m\u001b[0;34m.\u001b[0m\u001b[0m_timeout_occurred\u001b[0m \u001b[0;34m=\u001b[0m \u001b[0;32mTrue\u001b[0m\u001b[0;34m\u001b[0m\u001b[0;34m\u001b[0m\u001b[0m\n",
      "\u001b[0;32m~/anaconda3/lib/python3.7/ssl.py\u001b[0m in \u001b[0;36mrecv_into\u001b[0;34m(self, buffer, nbytes, flags)\u001b[0m\n\u001b[1;32m   1069\u001b[0m                   \u001b[0;34m\"non-zero flags not allowed in calls to recv_into() on %s\"\u001b[0m \u001b[0;34m%\u001b[0m\u001b[0;34m\u001b[0m\u001b[0;34m\u001b[0m\u001b[0m\n\u001b[1;32m   1070\u001b[0m                   self.__class__)\n\u001b[0;32m-> 1071\u001b[0;31m             \u001b[0;32mreturn\u001b[0m \u001b[0mself\u001b[0m\u001b[0;34m.\u001b[0m\u001b[0mread\u001b[0m\u001b[0;34m(\u001b[0m\u001b[0mnbytes\u001b[0m\u001b[0;34m,\u001b[0m \u001b[0mbuffer\u001b[0m\u001b[0;34m)\u001b[0m\u001b[0;34m\u001b[0m\u001b[0;34m\u001b[0m\u001b[0m\n\u001b[0m\u001b[1;32m   1072\u001b[0m         \u001b[0;32melse\u001b[0m\u001b[0;34m:\u001b[0m\u001b[0;34m\u001b[0m\u001b[0;34m\u001b[0m\u001b[0m\n\u001b[1;32m   1073\u001b[0m             \u001b[0;32mreturn\u001b[0m \u001b[0msuper\u001b[0m\u001b[0;34m(\u001b[0m\u001b[0;34m)\u001b[0m\u001b[0;34m.\u001b[0m\u001b[0mrecv_into\u001b[0m\u001b[0;34m(\u001b[0m\u001b[0mbuffer\u001b[0m\u001b[0;34m,\u001b[0m \u001b[0mnbytes\u001b[0m\u001b[0;34m,\u001b[0m \u001b[0mflags\u001b[0m\u001b[0;34m)\u001b[0m\u001b[0;34m\u001b[0m\u001b[0;34m\u001b[0m\u001b[0m\n",
      "\u001b[0;32m~/anaconda3/lib/python3.7/ssl.py\u001b[0m in \u001b[0;36mread\u001b[0;34m(self, len, buffer)\u001b[0m\n\u001b[1;32m    927\u001b[0m         \u001b[0;32mtry\u001b[0m\u001b[0;34m:\u001b[0m\u001b[0;34m\u001b[0m\u001b[0;34m\u001b[0m\u001b[0m\n\u001b[1;32m    928\u001b[0m             \u001b[0;32mif\u001b[0m \u001b[0mbuffer\u001b[0m \u001b[0;32mis\u001b[0m \u001b[0;32mnot\u001b[0m \u001b[0;32mNone\u001b[0m\u001b[0;34m:\u001b[0m\u001b[0;34m\u001b[0m\u001b[0;34m\u001b[0m\u001b[0m\n\u001b[0;32m--> 929\u001b[0;31m                 \u001b[0;32mreturn\u001b[0m \u001b[0mself\u001b[0m\u001b[0;34m.\u001b[0m\u001b[0m_sslobj\u001b[0m\u001b[0;34m.\u001b[0m\u001b[0mread\u001b[0m\u001b[0;34m(\u001b[0m\u001b[0mlen\u001b[0m\u001b[0;34m,\u001b[0m \u001b[0mbuffer\u001b[0m\u001b[0;34m)\u001b[0m\u001b[0;34m\u001b[0m\u001b[0;34m\u001b[0m\u001b[0m\n\u001b[0m\u001b[1;32m    930\u001b[0m             \u001b[0;32melse\u001b[0m\u001b[0;34m:\u001b[0m\u001b[0;34m\u001b[0m\u001b[0;34m\u001b[0m\u001b[0m\n\u001b[1;32m    931\u001b[0m                 \u001b[0;32mreturn\u001b[0m \u001b[0mself\u001b[0m\u001b[0;34m.\u001b[0m\u001b[0m_sslobj\u001b[0m\u001b[0;34m.\u001b[0m\u001b[0mread\u001b[0m\u001b[0;34m(\u001b[0m\u001b[0mlen\u001b[0m\u001b[0;34m)\u001b[0m\u001b[0;34m\u001b[0m\u001b[0;34m\u001b[0m\u001b[0m\n",
      "\u001b[0;31mKeyboardInterrupt\u001b[0m: "
     ]
    }
   ],
   "source": [
    "from qso_toolbox import vlass_quicklook as vql\n",
    "\n",
    "fov = 100\n",
    "\n",
    "for idx in test_set.index[:3]:\n",
    "    ra = test_set.loc[idx,'mq_ra']\n",
    "    dec = test_set.loc[idx,'mq_dec']\n",
    "\n",
    "    vql.download_vlass_images(ra, dec, 100,\n",
    "                              './cutouts/', verbosity=2)"
   ]
  },
  {
   "cell_type": "markdown",
   "metadata": {},
   "source": [
    "The images saved with this routine will have the epoch written in the file name, e.g., \"J224007.14-005332.81_vlass_3GHz_VLASS1.1_fov100.fits\""
   ]
  },
  {
   "cell_type": "markdown",
   "metadata": {},
   "source": [
    "## Downloading Skymapper images\n",
    "\n",
    "As I mentioned before, the qso_toolbox currently does not have a system for taking care of multiple epoch images for the same source, survey, and band. **Therefore, the current Skymapper download routine only downloads the most recent ('mjd_obs') images classified as \"image_type=main\" with the largest exposure times ('exptime').**\n",
    "\n",
    "In the future, we could think of downloading all main survey images and automatically generating a stacked image. I have no experience how to do this, but I am happy to work together with you to try this.\n",
    "\n",
    "For now you can get Skymapper data using the normal *get_photometry* function:\n"
   ]
  },
  {
   "cell_type": "code",
   "execution_count": null,
   "metadata": {},
   "outputs": [],
   "source": [
    "surveys = ['skymapper']*5\n",
    "bands = ['u', 'g', 'r','i','z']\n",
    "fovs = [200]*5\n",
    "print(test_set[:1][['mq_ra','mq_dec']])\n",
    "ct.get_photometry(test_set[:10], 'mq_ra', 'mq_dec', surveys, bands, './cutouts/', fovs, verbosity=2)"
   ]
  },
  {
   "cell_type": "code",
   "execution_count": null,
   "metadata": {},
   "outputs": [],
   "source": []
  }
 ],
 "metadata": {
  "kernelspec": {
   "display_name": "Python 3",
   "language": "python",
   "name": "python3"
  },
  "language_info": {
   "codemirror_mode": {
    "name": "ipython",
    "version": 3
   },
   "file_extension": ".py",
   "mimetype": "text/x-python",
   "name": "python",
   "nbconvert_exporter": "python",
   "pygments_lexer": "ipython3",
   "version": "3.7.4"
  }
 },
 "nbformat": 4,
 "nbformat_minor": 2
}
