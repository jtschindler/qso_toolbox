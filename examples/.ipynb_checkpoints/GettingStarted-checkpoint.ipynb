{
 "cells": [
  {
   "cell_type": "markdown",
   "metadata": {},
   "source": [
    "# Welcome to qso_toolbox\n",
    "## This library of python modules serves to consolidate a multitude of useful routines for quasar selection and observations.\n",
    "\n",
    "## The qso_toolbox consists of the following python modules:\n",
    "#### catalog_tools.py\n",
    "A collection of python routines to download a variety of catalog data, especially image cutouts\n",
    "\n",
    "#### image_tools.py \n",
    "This module largely focuses on the display, manipulation and forced photometry calculation of image data.\n",
    "\n",
    "#### photometry_tools.py \n",
    "This module focuses on the work with photometric data (magnitudes, fluxes), their conversion (e.g. between different magnitude systems) and manipulation (e.g. dereddening).\n",
    "\n",
    "#### utils.py \n",
    "A collection of routines to serve the other modules\n",
    "\n",
    "## Multiprocessing:\n",
    "A range of functions in the associated python modules have been prepared to be run with the python multiprocessing package. The function keyword \"n_jobs\" specifies in how many processes will be spawned. We specifically use the multiprocessing.starmap() function. \n",
    "For more information on the multiprocessing package, please follow this link:\n",
    "https://docs.python.org/3/library/multiprocessing.html#module-multiprocessing"
   ]
  },
  {
   "cell_type": "markdown",
   "metadata": {},
   "source": [
    "## 1) Some advice before getting started\n",
    "The functionality of the qso toolbox is based on a range of other python libraries. Especially knowledge of astropy, pandas, and numpy is of great importance in this context."
   ]
  },
  {
   "cell_type": "markdown",
   "metadata": {},
   "source": [
    "## 2) The jupyter notebook examples\n",
    "We highly recommend to get started with the examples given in the associated jupyter notebooks."
   ]
  },
  {
   "cell_type": "code",
   "execution_count": null,
   "metadata": {},
   "outputs": [],
   "source": []
  }
 ],
 "metadata": {
  "kernelspec": {
   "display_name": "Python 3",
   "language": "python",
   "name": "python3"
  },
  "language_info": {
   "codemirror_mode": {
    "name": "ipython",
    "version": 3
   },
   "file_extension": ".py",
   "mimetype": "text/x-python",
   "name": "python",
   "nbconvert_exporter": "python",
   "pygments_lexer": "ipython3",
   "version": "3.6.8"
  }
 },
 "nbformat": 4,
 "nbformat_minor": 2
}
