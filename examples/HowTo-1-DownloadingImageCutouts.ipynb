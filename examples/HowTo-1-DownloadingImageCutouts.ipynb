{
 "cells": [
  {
   "cell_type": "markdown",
   "metadata": {},
   "source": [
    "# HowTo-1-DownloadingImageCutouts"
   ]
  },
  {
   "cell_type": "markdown",
   "metadata": {},
   "source": [
    "### At first we will try to import the qso_toolbox modules:"
   ]
  },
  {
   "cell_type": "code",
   "execution_count": 1,
   "metadata": {},
   "outputs": [
    {
     "name": "stdout",
     "output_type": "stream",
     "text": [
      "loading dl.conf\n"
     ]
    }
   ],
   "source": [
    "from qso_toolbox import catalog_tools as ct, image_tools as it, photometry_tools as pt, utils as ut"
   ]
  },
  {
   "cell_type": "markdown",
   "metadata": {},
   "source": [
    "### If you encountered an error loading these modules, please check whether all the import python packages are successfully installed on your system."
   ]
  },
  {
   "cell_type": "markdown",
   "metadata": {},
   "source": [
    "## 0) The examples files \n",
    "### We have prepared example tables to test the qso_toolbox modules with: \n",
    "\n",
    "### A) stripe82_milliquas_190210.hdf5 \n",
    "(stripe82_milliquas_190210.csv, stripe82_milliquas_190210.fits)\n",
    "\n",
    "### This file contains all confirmed quasars within the Milliquas catalog (from Feb 10th 2019, intermediate release; https://heasarc.gsfc.nasa.gov/W3Browse/all/milliquas.html), which fall within the Stripe 82 footprint. This file includes the following columns: [RA:'mq_ra', Dec:'mq_dec, Name:'mq_name', Redshift:'mq_z', Reference:'mq_cite'].\n",
    "\n",
    "### The example below shows how to read these files into a pandas DataFrame. The qso_toolbox modules natively work with pandas dataframes. However, as long as the tables are either  an astropy record array or a fits record array, they will be converted inside the modules.\n"
   ]
  },
  {
   "cell_type": "code",
   "execution_count": 2,
   "metadata": {},
   "outputs": [
    {
     "name": "stdout",
     "output_type": "stream",
     "text": [
      "      mq_ra    mq_dec                   mq_name   mq_z mq_cite\n",
      "0  0.006464 -0.559066  SDSS J000001.55-003332.6  2.219   DR14Q\n",
      "1  0.006855  0.583184  SDSS J000001.64+003459.4  2.271   DR14Q\n",
      "      mq_ra    mq_dec                   mq_name   mq_z mq_cite\n",
      "0  0.006464 -0.559066  SDSS J000001.55-003332.6  2.219   DR14Q\n",
      "1  0.006855  0.583184  SDSS J000001.64+003459.4  2.271   DR14Q\n",
      "      mq_ra    mq_dec                   mq_name   mq_z mq_cite\n",
      "0  0.006464 -0.559066  SDSS J000001.55-003332.6  2.219   DR14Q\n",
      "1  0.006855  0.583184  SDSS J000001.64+003459.4  2.271   DR14Q\n"
     ]
    }
   ],
   "source": [
    "import pandas as pd \n",
    "from astropy.io import fits \n",
    "from astropy.table import Table\n",
    "\n",
    "df_hdf = pd.read_hdf('./data/stripe82_milliquas_190210.hdf5',key='data')\n",
    "print(df_hdf[:2])\n",
    "\n",
    "df_csv = pd.read_csv('./data/stripe82_milliquas_190210.csv')\n",
    "print(df_csv[:2])\n",
    "\n",
    "hdu = fits.open('./data/stripe82_milliquas_190210.fits')\n",
    "t = Table(hdu[1].data)\n",
    "df_fits = t.to_pandas()\n",
    "print(df_fits[:2])"
   ]
  },
  {
   "cell_type": "markdown",
   "metadata": {},
   "source": [
    "## 1) Downloading a sample of cutouts \n",
    "\n",
    "### The function inside the catalog_tools.py that is responsible for downloading image cutouts is called \"catalog_tools.get_photometry()\".\n",
    "\n",
    "### Here is the beginning of the function definition for an overview:\n",
    "\n",
    "def get_photometry(table, ra_col_name, dec_col_name, surveys, bands, image_path,\n",
    "                   fovs,\n",
    "                   verbosity=0):\n",
    "    \n",
    "    \"\"\"Download photometric images for all objects in the given input table.\n",
    "\n",
    "    Lists need to be supplied to specify the survey, the photometric passband\n",
    "    and the field of fiew. Each entry in the survey list corresponds to one\n",
    "    entry in the passband and field of view lists.\n",
    "    \n",
    "    The downloaded images will be save in the image_path directory using a\n",
    "    unique filename based on the target position, survey + data release,\n",
    "    passband and field of view.\n",
    "\n",
    "    Image name\n",
    "    [Epoch Identifier][RA in HHMMSS.SS][DEC in DDMMSS.SS]_\n",
    "                                 [SURVEY]_[PASSBAND]_fov[FIELD OF VIEW].fits\n",
    "    \n",
    "    A example for DES DR1 z-band with a field of view of 100 arcsec:\n",
    "    J224029.28-000511.83_desdr1_z_fov100.fits\n",
    "\n",
    "    The list of field of views will be accurately downloaded for desdr1. For\n",
    "    the download of the unWISE image cutouts the field of views will be\n",
    "    converted to number of pixels with npix = fov / 60. /4. * 100, with an\n",
    "    upper limit of 256 pixels.\n",
    "    \n",
    "    IMPORTANT:\n",
    "    The function will skip downloads for targets with exactly the same \n",
    "    specifications (filenames) that already exist in the folder.\n",
    "\n",
    "    :param table: table object\n",
    "        Input data table with at least RA and Decl. columns\n",
    "    :param ra_col_name: string\n",
    "        Exact string for the RA column in the table\n",
    "    :param dec_col_name: string\n",
    "        Exact string for the Decl. column in the table\n",
    "    :param surveys: list of strings\n",
    "        List of survey names, length has to be equal to bands and fovs\n",
    "    :param bands: list of strings\n",
    "        List of band names, length has to be equal to surveys and fovs\n",
    "    :param image_path: string\n",
    "        Path to the directory where all the images will be stored\n",
    "    :param fovs: list of floats\n",
    "        Field of view in arcseconds, length has be equal to surveys and bands\n",
    "    :param verbosity:\n",
    "        Verbosity > 0 will print verbose statements during the execution\n",
    "    :return: None\n",
    "    \"\"\""
   ]
  },
  {
   "cell_type": "markdown",
   "metadata": {},
   "source": [
    "### We will now create a 'cutouts' directory in this folder, where the cutouts will be saved."
   ]
  },
  {
   "cell_type": "code",
   "execution_count": 3,
   "metadata": {},
   "outputs": [
    {
     "name": "stdout",
     "output_type": "stream",
     "text": [
      "GettingStarted.ipynb\r\n",
      "HowTo-1-DownloadingImageCutouts.ipynb\r\n",
      "HowTo-2-CalculatingForcedPhotometry.ipynb\r\n",
      "HowTo-3-OffsetStarsAndFindingCharts.ipynb\r\n",
      "\u001b[34mcutouts\u001b[m\u001b[m\r\n",
      "\u001b[34mdata\u001b[m\u001b[m\r\n"
     ]
    }
   ],
   "source": [
    "! mkdir cutouts \n",
    "! ls "
   ]
  },
  {
   "cell_type": "markdown",
   "metadata": {},
   "source": [
    "### We first choose a subset of Stripe 82 to make sure not to download over 35000 cutouts per band."
   ]
  },
  {
   "cell_type": "code",
   "execution_count": null,
   "metadata": {},
   "outputs": [
    {
     "name": "stdout",
     "output_type": "stream",
     "text": [
      "(1344, 5)\n"
     ]
    }
   ],
   "source": [
    "test_set = df_hdf.query('340 < mq_ra < 350 and -1.26 < mq_dec < 0')\n",
    "print(test_set.shape)"
   ]
  },
  {
   "cell_type": "markdown",
   "metadata": {},
   "source": [
    "### Now we can begin to download some image cutouts. We will download DES DR1 z-band, PS1 g-band and UNWISE W1-band cutouts for a start. Before we can call the function we need to specify the surveys, bands and field of views. We will set verbosity to 2, to see what the code does on it's way."
   ]
  },
  {
   "cell_type": "code",
   "execution_count": null,
   "metadata": {
    "scrolled": true
   },
   "outputs": [
    {
     "name": "stderr",
     "output_type": "stream",
     "text": [
      "/Users/schindler/anaconda3/lib/python3.6/site-packages/qso_toolbox/catalog_tools.py:917: SettingWithCopyWarning: \n",
      "A value is trying to be set on a copy of a slice from a DataFrame.\n",
      "Try using .loc[row_indexer,col_indexer] = value instead\n",
      "\n",
      "See the caveats in the documentation: http://pandas.pydata.org/pandas-docs/stable/indexing.html#indexing-view-versus-copy\n",
      "  epoch=\"J\")\n"
     ]
    },
    {
     "name": "stdout",
     "output_type": "stream",
     "text": [
      "Download of J224007.14-005332.81_unwise-neo3_w1_fov100 to ./cutouts/ completed\n",
      "Download of J224007.90-011522.10_unwise-neo3_w1_fov100 to ./cutouts/ completed\n",
      "Download of J224009.37-003856.60_unwise-neo3_w1_fov100 to ./cutouts/ completed\n",
      "Download of J224011.47-011448.62_unwise-neo3_w1_fov100 to ./cutouts/ completed\n",
      "Download of J224013.39-005404.40_unwise-neo3_w1_fov100 to ./cutouts/ completed\n",
      "Download of J224014.28-001121.15_unwise-neo3_w1_fov100 to ./cutouts/ completed\n",
      "Download of J224017.29-011442.85_unwise-neo3_w1_fov100 to ./cutouts/ completed\n",
      "Download of J224018.29-005223.75_unwise-neo3_w1_fov100 to ./cutouts/ completed\n",
      "Download of J224018.58-000656.89_unwise-neo3_w1_fov100 to ./cutouts/ completed\n",
      "Download of J224022.77-000151.97_unwise-neo3_w1_fov100 to ./cutouts/ completed\n",
      "Download of J224007.14-005332.81_ps1_g_fov100 to ./cutouts/ completed\n",
      "Download of J224007.90-011522.10_ps1_g_fov100 to ./cutouts/ completed\n",
      "Download of J224009.37-003856.60_ps1_g_fov100 to ./cutouts/ completed\n",
      "Download of J224011.47-011448.62_ps1_g_fov100 to ./cutouts/ completed\n",
      "Download of J224013.39-005404.40_ps1_g_fov100 to ./cutouts/ completed\n",
      "Download of J224014.28-001121.15_ps1_g_fov100 to ./cutouts/ completed\n",
      "Download of J224017.29-011442.85_ps1_g_fov100 to ./cutouts/ completed\n",
      "Download of J224018.29-005223.75_ps1_g_fov100 to ./cutouts/ completed\n",
      "Download of J224018.58-000656.89_ps1_g_fov100 to ./cutouts/ completed\n",
      "Download of J224022.77-000151.97_ps1_g_fov100 to ./cutouts/ completed\n",
      "The full image list contains 18 entries\n",
      "downloading deepest stacked image...\n",
      "Download of J224007.14-005332.81_desdr1_z_fov100 to ./cutouts/ completed\n",
      "The full image list contains 18 entries\n",
      "downloading deepest stacked image...\n",
      "Download of J224007.90-011522.10_desdr1_z_fov100 to ./cutouts/ completed\n",
      "The full image list contains 18 entries\n",
      "downloading deepest stacked image...\n",
      "Download of J224009.37-003856.60_desdr1_z_fov100 to ./cutouts/ completed\n",
      "The full image list contains 18 entries\n",
      "downloading deepest stacked image...\n",
      "Download of J224011.47-011448.62_desdr1_z_fov100 to ./cutouts/ completed\n",
      "The full image list contains 18 entries\n",
      "downloading deepest stacked image...\n",
      "Download of J224013.39-005404.40_desdr1_z_fov100 to ./cutouts/ completed\n",
      "The full image list contains 18 entries\n",
      "downloading deepest stacked image...\n",
      "Download of J224014.28-001121.15_desdr1_z_fov100 to ./cutouts/ completed\n",
      "The full image list contains 18 entries\n",
      "downloading deepest stacked image...\n",
      "Download of J224017.29-011442.85_desdr1_z_fov100 to ./cutouts/ completed\n",
      "The full image list contains 18 entries\n",
      "downloading deepest stacked image...\n",
      "Download of J224018.29-005223.75_desdr1_z_fov100 to ./cutouts/ completed\n",
      "The full image list contains 18 entries\n",
      "downloading deepest stacked image...\n",
      "Download of J224018.58-000656.89_desdr1_z_fov100 to ./cutouts/ completed\n",
      "The full image list contains 18 entries\n",
      "downloading deepest stacked image...\n",
      "Download of J224022.77-000151.97_desdr1_z_fov100 to ./cutouts/ completed\n",
      "Download of J224007.14-005332.81_vhsdr6_Ks_fov100 to ./cutouts/ completed\n",
      "Download of J224007.90-011522.10_vhsdr6_Ks_fov100 to ./cutouts/ completed\n",
      "Download of J224009.37-003856.60_vhsdr6_Ks_fov100 to ./cutouts/ completed\n",
      "Download of J224011.47-011448.62_vhsdr6_Ks_fov100 to ./cutouts/ completed\n",
      "Download of J224013.39-005404.40_vhsdr6_Ks_fov100 to ./cutouts/ completed\n",
      "Download of J224014.28-001121.15_vhsdr6_Ks_fov100 to ./cutouts/ completed\n",
      "Download of J224017.29-011442.85_vhsdr6_Ks_fov100 to ./cutouts/ completed\n",
      "Download of J224018.29-005223.75_vhsdr6_Ks_fov100 to ./cutouts/ completed\n",
      "Download of J224018.58-000656.89_vhsdr6_Ks_fov100 to ./cutouts/ completed\n",
      "Download of J224022.77-000151.97_vhsdr6_Ks_fov100 to ./cutouts/ completed\n"
     ]
    }
   ],
   "source": [
    "surveys = ['unwise-neo3','ps1', 'desdr1', 'vhsdr6']\n",
    "bands = ['w1','g','z', 'Ks']\n",
    "fovs = [100, 100, 100, 100]\n",
    "\n",
    "ct.get_photometry(test_set[:10], 'mq_ra', 'mq_dec', surveys, bands, './cutouts/', fovs, verbosity=2)"
   ]
  },
  {
   "cell_type": "markdown",
   "metadata": {},
   "source": [
    "## 2) Downloading cutouts using multiprocessing"
   ]
  },
  {
   "cell_type": "markdown",
   "metadata": {},
   "source": [
    "### If the code successfully downloaded the cutouts for these 10 targets, let's do it for another 100. However, in this case we compare the function used above to it's multiprocessing capable version \"get_photometry_mp\". And for fun we will time the runs of both functions, each downloading 50 cutouts. We will set the number of jobs ('n_jobs') to 5. Please change this depending on your CPU capabilities. We further set verbosity to 0, to not be overrun by internal messages.\n",
    "\n",
    "### <font color=red>Attention: Using more jobs than you have cores may lead to errors in the downloading process!!!</font>"
   ]
  },
  {
   "cell_type": "code",
   "execution_count": null,
   "metadata": {},
   "outputs": [
    {
     "name": "stdout",
     "output_type": "stream",
     "text": [
      "HTTP Error 500: Internal Server Error\n",
      "HTTP Error 500: Internal Server Error\n",
      "HTTP Error 500: Internal Server Error\n",
      "HTTP Error 500: Internal Server Error\n",
      "HTTP Error 500: Internal Server Error\n",
      "HTTP Error 500: Internal Server Error\n",
      "HTTP Error 500: Internal Server Error\n",
      "HTTP Error 500: Internal Server Error\n",
      "HTTP Error 500: Internal Server Error\n",
      "HTTP Error 500: Internal Server Error\n",
      "HTTP Error 500: Internal Server Error\n",
      "HTTP Error 500: Internal Server Error\n",
      "HTTP Error 500: Internal Server Error\n",
      "Elapsed time: 314.59 sec\n"
     ]
    },
    {
     "name": "stderr",
     "output_type": "stream",
     "text": [
      "/Users/schindler/anaconda3/lib/python3.6/site-packages/qso_toolbox/catalog_tools.py:1082: SettingWithCopyWarning: \n",
      "A value is trying to be set on a copy of a slice from a DataFrame.\n",
      "Try using .loc[row_indexer,col_indexer] = value instead\n",
      "\n",
      "See the caveats in the documentation: http://pandas.pydata.org/pandas-docs/stable/indexing.html#indexing-view-versus-copy\n",
      "  epoch=\"J\")\n"
     ]
    },
    {
     "name": "stdout",
     "output_type": "stream",
     "text": [
      "Download error\n",
      "HTTP Error 500: Internal Server Error\n",
      "HTTP Error 500: Internal Server Error\n",
      "HTTP Error 500: Internal Server Error\n",
      "HTTP Error 500: Internal Server Error\n",
      "HTTP Error 500: Internal Server Error\n",
      "HTTP Error 500: Internal Server Error\n",
      "HTTP Error 500: Internal Server Error\n",
      "HTTP Error 500: Internal Server Error\n",
      "HTTP Error 500: Internal Server Error\n",
      "HTTP Error 500: Internal Server Error\n",
      "HTTP Error 500: Internal Server Error\n",
      "HTTP Error 500: Internal Server Error\n",
      "HTTP Error 500: Internal Server Error\n",
      "HTTP Error 500: Internal Server Error\n",
      "HTTP Error 500: Internal Server Error\n",
      "HTTP Error 500: Internal Server Error\n"
     ]
    }
   ],
   "source": [
    "import time \n",
    "\n",
    "surveys = ['unwise-neo3','ps1', 'desdr1']\n",
    "bands = ['w1','g','z']\n",
    "fovs = [100, 100, 100]\n",
    "\n",
    "# Normal run \n",
    "start_time = time.time()\n",
    "ct.get_photometry(test_set[10:60], 'mq_ra', 'mq_dec', surveys, bands, './cutouts/', fovs, verbosity=0)\n",
    "print(\"Elapsed time: {0:.2f} sec\" .format(\n",
    "                                time.time() - start_time))\n",
    "\n",
    "# Multiprocessing run \n",
    "start_time = time.time()\n",
    "ct.get_photometry_mp(test_set[60:110], 'mq_ra', 'mq_dec', surveys, bands, './cutouts/', fovs, n_jobs=5, verbosity=0)\n",
    "print(\"Elapsed time: {0:.2f} sec\" .format(\n",
    "                                time.time() - start_time))"
   ]
  },
  {
   "cell_type": "markdown",
   "metadata": {},
   "source": [
    "### You should be able to see a better performance by the multiprocessing version of the get_photometry routine. We can now have a quick look at the files in the folder "
   ]
  },
  {
   "cell_type": "markdown",
   "metadata": {},
   "source": [
    "### In some cases it is possible that the download will not succeed, because it experiences server errors. For example the infamous \"HTTP Error 500: Internal Server Error\".\n",
    "### I have no idea on how to get around that. :-("
   ]
  },
  {
   "cell_type": "markdown",
   "metadata": {},
   "source": [
    "## 3) Displaying image cutouts\n",
    "\n",
    "### The image_tools.py module contains functions to display the downloaded image cutouts with. We will show an example of below. Please have a look at the function header to familiarize yourself with the args and kwargs.\n",
    "\n",
    "def make_mult_png_fig(ra, dec, surveys, bands,\n",
    "                  fovs, apertures, square_sizes, image_folder_path, mag_list=None,\n",
    "                  magerr_list=None, sn_list=None,\n",
    "                  forced_mag_list=None, forced_magerr_list=None,\n",
    "                  forced_sn_list=None, n_col=3,\n",
    "                  n_sigma=3, color_map_name='viridis',\n",
    "                  add_info_label=None, add_info_value=None, verbosity=0):\n",
    "    \"\"\"Create a figure to plot cutouts for one source in all specified surveys\n",
    "    and bands.\n",
    "\n",
    "    :param ra: float\n",
    "        Right Ascension of the target\n",
    "    :param dec: float\n",
    "        Declination of the target\n",
    "     :param surveys: list of strings\n",
    "        List of survey names, length has to be equal to bands and fovs\n",
    "    :param bands: list of strings\n",
    "        List of band names, length has to be equal to surveys and fovs\n",
    "    :param fovs: list of floats\n",
    "        Field of view in arcseconds of image cutouts, length has be equal to\n",
    "        surveys, bands and apertures.\n",
    "    :param apertures: list of floats\n",
    "        List of apertures in arcseconds for forced photometry calculated,\n",
    "        length has to be equal to surveys, bands and fovs\n",
    "    :param square_sizes: list of floats\n",
    "        List of\n",
    "    :param image_folder_path: string\n",
    "        Path to the directory where all the images are be stored\n",
    "    :param mag_list: list of floats\n",
    "        List of magnitudes for each survey/band\n",
    "    :param magerr_list: list of floats\n",
    "         List of magnitude errors for each survey/band\n",
    "    :param sn_list: list of floats\n",
    "         List of S/N for each survey/band\n",
    "    :param forced_mag_list: list of floats\n",
    "         List of forced magnitudes for each survey/band\n",
    "    :param forced_magerr_list: list of floats\n",
    "        List of forced magnitude errors for each survey/band\n",
    "    :param forced_sn_list: list of floats\n",
    "        List of forced S/N for each survey/band\n",
    "    :param n_col: int\n",
    "        Number of columns\n",
    "    :param n_sigma: int\n",
    "        Number of sigmas for the sigma-clipping routine that creates the\n",
    "        boundaries for the color map.\n",
    "    :param color_map_name: string\n",
    "        Name of the color map\n",
    "    :param add_info_value : string\n",
    "        Value for additional information added to the title of the figure\n",
    "    :param add_info_label : string\n",
    "        Label for additional information added to the title of the figure\n",
    "    :param verbosity:\n",
    "        Verbosity > 0 will print verbose statements during the execution\n",
    "    :return: matplotlib.figure\n",
    "        Figure with the plot.\n",
    "    \"\"\"\n"
   ]
  },
  {
   "cell_type": "markdown",
   "metadata": {},
   "source": [
    "### Example (basic):"
   ]
  },
  {
   "cell_type": "code",
   "execution_count": null,
   "metadata": {},
   "outputs": [],
   "source": [
    "import matplotlib.pyplot as plt\n",
    "import matplotlib as mpl \n",
    "\n",
    "%matplotlib inline\n",
    "\n",
    "ra = test_set.loc[test_set.index[0],'mq_ra']\n",
    "dec = test_set.loc[test_set.index[0],'mq_dec']\n",
    "\n",
    "surveys = ['unwise-neo3','ps1', 'desdr1']\n",
    "bands = ['w1','g','z']\n",
    "fovs = [50, 50, 50]\n",
    "apertures = [6, 6, 6]\n",
    "square_sizes = [20, 20, 20]\n",
    "\n",
    "fig = it.make_mult_png_fig(ra, dec, surveys, bands,\n",
    "                  fovs, apertures, square_sizes, './cutouts/', n_col=3,\n",
    "                  n_sigma=3, color_map_name='viridis', verbosity=0)"
   ]
  },
  {
   "cell_type": "markdown",
   "metadata": {},
   "source": [
    "### Example (with additional information):"
   ]
  },
  {
   "cell_type": "code",
   "execution_count": null,
   "metadata": {},
   "outputs": [],
   "source": [
    "# Additional information can be added to the plot\n",
    "add_info_label = \"index\"\n",
    "add_info_value = str(test_set.index[0])\n",
    "# The following values are not true and just for display purposed\n",
    "mag_list = [10, 12, 14]\n",
    "magerr_list = [1,0.5,0.25]\n",
    "\n",
    "fmag_list = [11, None, None]\n",
    "fmage_list = [0.2, None, None]\n",
    "\n",
    "\n",
    "fig = it.make_mult_png_fig(ra, dec, surveys, bands,\n",
    "                  fovs, apertures, square_sizes, './cutouts/', n_col=3,\n",
    "                  n_sigma=3, add_info_label= add_info_label, add_info_value=add_info_value,\n",
    "                  mag_list=mag_list,\n",
    "                  magerr_list=magerr_list,\n",
    "                  forced_mag_list=fmag_list,\n",
    "                  forced_magerr_list=fmage_list,\n",
    "                  color_map_name='viridis', verbosity=0)\n"
   ]
  },
  {
   "cell_type": "markdown",
   "metadata": {},
   "source": [
    "# 4) TODO Saving Cutout Plots for many targets"
   ]
  },
  {
   "cell_type": "code",
   "execution_count": null,
   "metadata": {},
   "outputs": [],
   "source": []
  }
 ],
 "metadata": {
  "kernelspec": {
   "display_name": "Python 3",
   "language": "python",
   "name": "python3"
  },
  "language_info": {
   "codemirror_mode": {
    "name": "ipython",
    "version": 3
   },
   "file_extension": ".py",
   "mimetype": "text/x-python",
   "name": "python",
   "nbconvert_exporter": "python",
   "pygments_lexer": "ipython3",
   "version": "3.6.8"
  }
 },
 "nbformat": 4,
 "nbformat_minor": 2
}
