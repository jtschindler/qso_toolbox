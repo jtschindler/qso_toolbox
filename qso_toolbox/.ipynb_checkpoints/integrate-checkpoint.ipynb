{
 "cells": [
  {
   "cell_type": "markdown",
   "metadata": {},
   "source": [
    "to integrate SkyMapper and VLASS image retrieving service\n",
    "function: 1. get URL 2. download fits for images with URL"
   ]
  },
  {
   "cell_type": "code",
   "execution_count": 1,
   "metadata": {},
   "outputs": [],
   "source": [
    "from astropy.io import fits\n",
    "from astropy.io import ascii\n",
    "import matplotlib.pyplot as plt"
   ]
  },
  {
   "cell_type": "code",
   "execution_count": 2,
   "metadata": {},
   "outputs": [],
   "source": [
    "# special function for downloading, can be replaced by other similars\n",
    "from astropy.utils.data import download_file"
   ]
  },
  {
   "cell_type": "code",
   "execution_count": 67,
   "metadata": {},
   "outputs": [],
   "source": [
    "import pandas as pd \n",
    "from urllib.request import urlopen\n",
    "\n",
    "def get_deepest_skymapper_filename(ra, dec, size, bands='g'):\n",
    "    pass\n",
    "\n",
    "\n",
    "def get_skymapper_filenames(ra, dec, size, bands='g'):\n",
    "    \"\"\"\n",
    "\n",
    "    :param ra:\n",
    "    :param dec:\n",
    "    :param bands:\n",
    "    :return:\n",
    "    \"\"\"\n",
    "    url_base = 'http://api.skymapper.nci.org.au/public/siap/dr2/query?'\n",
    "    skymapper_url = url_base + 'POS={},{}&SIZE={}&BAND={}'.format(ra, dec, size, bands) + '&FORMAT=GRAPHIC&RESPONSEFORMAT=CSV'\n",
    "\n",
    "    \n",
    "    # read the catalogue of fits\n",
    "    # _catalogue is a temporary file from query of SkyMapper DR2\n",
    "#     _catalogue = urlopen(skymapper_url)\n",
    "#     data = (_catalogue.read().decode('utf-8'))\n",
    "    \n",
    "    image_df = pd.read_csv(urlopen(skymapper_url))\n",
    "\n",
    "    image_df.query('image_type == \"main\"', inplace=True)\n",
    "    image_df.sort_values('exptime', inplace=True)\n",
    "\n",
    "    print(image_df)\n",
    "    \n",
    "#     for i in range(len(data['get_fits'])):\n",
    "#         bands.append(data[i]['band'])\n",
    "#         image_data.append(fits.getdata(data[i]['get_fits']))\n",
    "#         mjd_obs.append(data[i]['mjd_obs'])\n",
    "\n",
    "\n",
    "#     if len(bands) > 0:\n",
    "#         return bands, image_data, mjd_obs\n",
    "#     else:\n",
    "#         print(\"No SkyMapper DR2 image is available for this position.\")\n",
    "#         return None"
   ]
  },
  {
   "cell_type": "code",
   "execution_count": 68,
   "metadata": {},
   "outputs": [],
   "source": [
    "def get_skymapper_image_url(ra, dec, fov, bands='g', verbosity=0):\n",
    "    \"\"\"\n",
    "\n",
    "    :param ra:\n",
    "    :param dec:\n",
    "    :param fov:\n",
    "    :param bands:\n",
    "    :param verbosity:\n",
    "    :return:\n",
    "    \"\"\"\n",
    "\n",
    "\n",
    "    # Convert field of view in arcsecond to arbitrary size (0.01 'size' = 36 arcsecs)\n",
    "    size = fov / 3600\n",
    "\n",
    "    bands, image_data, mjd_obs = get_skymapper_filenames(ra, dec, size, bands)\n",
    "\n",
    "    if image_data is not None:\n",
    "        \n",
    "        url_list = image_data\n",
    "\n",
    "        return url_list, bands, mjd_obs\n",
    "    else:\n",
    "        return None"
   ]
  },
  {
   "cell_type": "markdown",
   "metadata": {},
   "source": [
    "an example:\n",
    "\n",
    "\n",
    "all we need for inputs: ra, dec, bands, fov (in arcsecs)"
   ]
  },
  {
   "cell_type": "code",
   "execution_count": 69,
   "metadata": {
    "scrolled": true
   },
   "outputs": [
    {
     "ename": "NameError",
     "evalue": "name 'data' is not defined",
     "output_type": "error",
     "traceback": [
      "\u001b[0;31m---------------------------------------------------------------------------\u001b[0m",
      "\u001b[0;31mNameError\u001b[0m                                 Traceback (most recent call last)",
      "\u001b[0;32m<ipython-input-69-3f7053ea446c>\u001b[0m in \u001b[0;36m<module>\u001b[0;34m\u001b[0m\n\u001b[1;32m      2\u001b[0m \u001b[0;31m# all we need for input here\u001b[0m\u001b[0;34m\u001b[0m\u001b[0;34m\u001b[0m\u001b[0;34m\u001b[0m\u001b[0m\n\u001b[1;32m      3\u001b[0m \u001b[0;34m\u001b[0m\u001b[0m\n\u001b[0;32m----> 4\u001b[0;31m \u001b[0mget_skymapper_filenames\u001b[0m\u001b[0;34m(\u001b[0m\u001b[0mra\u001b[0m\u001b[0;34m,\u001b[0m \u001b[0mdec\u001b[0m\u001b[0;34m,\u001b[0m \u001b[0mfov\u001b[0m\u001b[0;34m/\u001b[0m\u001b[0;36m3600\u001b[0m\u001b[0;34m,\u001b[0m \u001b[0mbands\u001b[0m\u001b[0;34m=\u001b[0m\u001b[0;34m'i'\u001b[0m\u001b[0;34m)\u001b[0m\u001b[0;34m\u001b[0m\u001b[0;34m\u001b[0m\u001b[0m\n\u001b[0m",
      "\u001b[0;32m<ipython-input-67-f029eb2fdee0>\u001b[0m in \u001b[0;36mget_skymapper_filenames\u001b[0;34m(ra, dec, size, bands)\u001b[0m\n\u001b[1;32m     29\u001b[0m \u001b[0;34m\u001b[0m\u001b[0m\n\u001b[1;32m     30\u001b[0m \u001b[0;34m\u001b[0m\u001b[0m\n\u001b[0;32m---> 31\u001b[0;31m     \u001b[0;32mfor\u001b[0m \u001b[0mi\u001b[0m \u001b[0;32min\u001b[0m \u001b[0mrange\u001b[0m\u001b[0;34m(\u001b[0m\u001b[0mlen\u001b[0m\u001b[0;34m(\u001b[0m\u001b[0mdata\u001b[0m\u001b[0;34m[\u001b[0m\u001b[0;34m'get_fits'\u001b[0m\u001b[0;34m]\u001b[0m\u001b[0;34m)\u001b[0m\u001b[0;34m)\u001b[0m\u001b[0;34m:\u001b[0m\u001b[0;34m\u001b[0m\u001b[0;34m\u001b[0m\u001b[0m\n\u001b[0m\u001b[1;32m     32\u001b[0m         \u001b[0mbands\u001b[0m\u001b[0;34m.\u001b[0m\u001b[0mappend\u001b[0m\u001b[0;34m(\u001b[0m\u001b[0mdata\u001b[0m\u001b[0;34m[\u001b[0m\u001b[0mi\u001b[0m\u001b[0;34m]\u001b[0m\u001b[0;34m[\u001b[0m\u001b[0;34m'band'\u001b[0m\u001b[0;34m]\u001b[0m\u001b[0;34m)\u001b[0m\u001b[0;34m\u001b[0m\u001b[0;34m\u001b[0m\u001b[0m\n\u001b[1;32m     33\u001b[0m         \u001b[0mimage_data\u001b[0m\u001b[0;34m.\u001b[0m\u001b[0mappend\u001b[0m\u001b[0;34m(\u001b[0m\u001b[0mfits\u001b[0m\u001b[0;34m.\u001b[0m\u001b[0mgetdata\u001b[0m\u001b[0;34m(\u001b[0m\u001b[0mdata\u001b[0m\u001b[0;34m[\u001b[0m\u001b[0mi\u001b[0m\u001b[0;34m]\u001b[0m\u001b[0;34m[\u001b[0m\u001b[0;34m'get_fits'\u001b[0m\u001b[0;34m]\u001b[0m\u001b[0;34m)\u001b[0m\u001b[0;34m)\u001b[0m\u001b[0;34m\u001b[0m\u001b[0;34m\u001b[0m\u001b[0m\n",
      "\u001b[0;31mNameError\u001b[0m: name 'data' is not defined"
     ]
    }
   ],
   "source": [
    "ra = 239.7124; dec = -07.4026; band = 'z'; fov = 100\n",
    "# all we need for input here\n",
    "\n",
    "get_skymapper_filenames(ra, dec, fov/3600, bands='i')"
   ]
  },
  {
   "cell_type": "code",
   "execution_count": 6,
   "metadata": {},
   "outputs": [],
   "source": [
    "ra = 113.917764; dec = -39.132592; band = 'z'; fov = 100\n",
    "# all we need for input here\n",
    "\n",
    "url, bands, mjd_obs = get_skymapper_image_url(ra, dec, fov, band,\n",
    "                          verbosity=0)\n"
   ]
  },
  {
   "cell_type": "code",
   "execution_count": 8,
   "metadata": {},
   "outputs": [
    {
     "name": "stdout",
     "output_type": "stream",
     "text": [
      "4\n"
     ]
    },
    {
     "data": {
      "text/plain": [
       "<matplotlib.image.AxesImage at 0x10ddbdc50>"
      ]
     },
     "execution_count": 8,
     "metadata": {},
     "output_type": "execute_result"
    },
    {
     "data": {
      "image/png": "[encoded data removed]",
      "text/plain": [
       "<Figure size 432x288 with 1 Axes>"
      ]
     },
     "metadata": {
      "needs_background": "light"
     },
     "output_type": "display_data"
    }
   ],
   "source": [
    "print(len(url))\n",
    "plt.imshow(url[2], cmap='gray')"
   ]
  },
  {
   "cell_type": "markdown",
   "metadata": {},
   "source": [
    "part of 'get_photometry' with skymapper querying feature"
   ]
  },
  {
   "cell_type": "code",
   "execution_count": null,
   "metadata": {},
   "outputs": [],
   "source": [
    "def get_photometry(table, ra_col_name, dec_col_name, surveys, bands, image_folder_path,\n",
    "                   fovs, verbosity=0):\n",
    "\n",
    "\n",
    "    table, table_format = check_if_table_is_pandas_dataframe(table)\n",
    "\n",
    "    table.loc[:, 'temp_object_name'] = ut.coord_to_name(table.loc[:,\n",
    "                                                 ra_col_name].values,\n",
    "                                                 table.loc[\n",
    "                                                 :,dec_col_name].values,\n",
    "                                                 epoch=\"J\")\n",
    "\n",
    "    for jdx, band in enumerate(bands):\n",
    "\n",
    "        survey = surveys[jdx]\n",
    "        fov = fovs[jdx]\n",
    "\n",
    "        # Hack to check if the issue is with opening too many services\n",
    "        if survey == \"desdr1\":\n",
    "            # Set the DES DR1 NOAO sia url\n",
    "            def_access_url = \"https://datalab.noao.edu/sia/des_dr1\"\n",
    "            svc = sia.SIAService(def_access_url)\n",
    "        else:\n",
    "            svc = None\n",
    "\n",
    "        for idx in table.index:\n",
    "            ra = table.loc[idx, ra_col_name]\n",
    "            dec = table.loc[idx, dec_col_name]\n",
    "\n",
    "\n",
    "            if survey == \"ps1\" and band in [\"g\", \"r\", \"i\", \"z\", \"y\"]:\n",
    "                img_name = table.temp_object_name[idx] + \"_\" + survey + \"_\" + \\\n",
    "                           band + \"_fov\" + '{:d}'.format(fov)\n",
    "\n",
    "                file_path = image_folder_path + '/' + img_name + '.fits'\n",
    "                file_exists = os.path.isfile(file_path)\n",
    "\n",
    "                if file_exists is not True:\n",
    "                    url_list = get_ps1_image_cutout_url(ra, dec, fov=fov,\n",
    "                                                   bands=band,\n",
    "                                                   verbosity=verbosity)\n",
    "                    if url_list is not None:\n",
    "                        url = url_list[0]\n",
    "                    else:\n",
    "                        url = None\n",
    "\n",
    "                else:\n",
    "                    url = None\n",
    "\n",
    "\n",
    "            elif survey == \"SKYMAPPER\":\n",
    "\n",
    "                img_name = table.temp_object_name[idx] + \"_\" + survey + \"_\" + \\\n",
    "                           band + \"_fov\" + '{:d}'.format(fov)\n",
    "\n",
    "                file_path = image_folder_path + '/' + img_name + '.fits'\n",
    "                file_exists = os.path.isfile(file_path)\n",
    "\n",
    "                if file_exists is not True:\n",
    "                    url = get_skymapper_image_url(ra, dec, fov, band,\n",
    "                                              verbosity=verbosity)\n",
    "\n",
    "                else:\n",
    "                    url = None\n",
    "\n",
    "\n",
    "            else:\n",
    "                raise ValueError(\"Survey and band name not recognized: {} {}. \"\n",
    "                                 \"\\n \"\n",
    "                                 \"Possible survey names include: desdr1, ps1,\"\n",
    "                                 \"vhsdr6, vikingdr5,\"\n",
    "                                 \"unwise-allwise, unwise-neo1, unwise-neo2, \"\n",
    "                                 \"unwise-neo3, unwise-neo4, unwise-neo5, \"\n",
    "                                 \"unwise-neo6\".format(survey, band))\n",
    "\n",
    "            if url is not None:\n",
    "                download_image(url, image_name=img_name, image_folder_path=image_folder_path,\n",
    "                               verbosity=verbosity)\n"
   ]
  }
 ],
 "metadata": {
  "kernelspec": {
   "display_name": "Python 3",
   "language": "python",
   "name": "python3"
  },
  "language_info": {
   "codemirror_mode": {
    "name": "ipython",
    "version": 3
   },
   "file_extension": ".py",
   "mimetype": "text/x-python",
   "name": "python",
   "nbconvert_exporter": "python",
   "pygments_lexer": "ipython3",
   "version": "3.7.4"
  }
 },
 "nbformat": 4,
 "nbformat_minor": 4
}
